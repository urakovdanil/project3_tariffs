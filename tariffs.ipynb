{
 "cells": [
  {
   "cell_type": "markdown",
   "metadata": {},
   "source": [
    "# Определение тарифа"
   ]
  },
  {
   "cell_type": "markdown",
   "metadata": {},
   "source": [
    "## Импорт и изучение данных"
   ]
  },
  {
   "cell_type": "code",
   "execution_count": 1,
   "metadata": {},
   "outputs": [],
   "source": [
    "import pandas as pd\n",
    "import matplotlib.pyplot as plt\n",
    "import scipy.stats as st\n",
    "import math as mt\n",
    "import numpy as np\n",
    "import seaborn as sns"
   ]
  },
  {
   "cell_type": "code",
   "execution_count": 2,
   "metadata": {},
   "outputs": [],
   "source": [
    "users = pd.read_csv('users.csv')\n",
    "messages = pd.read_csv('messages.csv')\n",
    "internet = pd.read_csv('internet.csv')\n",
    "calls = pd.read_csv('calls.csv')\n",
    "tariffs = pd.read_csv('tariffs.csv')\n",
    "\n",
    "try:\n",
    "    users = pd.read_csv('users.csv')\n",
    "    messages = pd.read_csv('messages.csv')\n",
    "    internet = pd.read_csv('internet.csv')\n",
    "    calls = pd.read_csv('calls.csv')\n",
    "    tariffs = pd.read_csv('tariffs.csv')\n",
    "\n",
    "except:\n",
    "    users = pd.read_csv('/datasets/calls.csv')\n",
    "    messages = pd.read_csv('/datasets/messages.csv')\n",
    "    internet = pd.read_csv('/datasets/internet.csv')\n",
    "    calls = pd.read_csv('/datasets/calls.csv')\n",
    "    tariffs = pd.read_csv('/datasets/tariffs.csv')"
   ]
  },
  {
   "cell_type": "markdown",
   "metadata": {},
   "source": [
    "### Таблица _users.csv_"
   ]
  },
  {
   "cell_type": "code",
   "execution_count": 3,
   "metadata": {},
   "outputs": [
    {
     "name": "stdout",
     "output_type": "stream",
     "text": [
      "<class 'pandas.core.frame.DataFrame'>\n",
      "RangeIndex: 500 entries, 0 to 499\n",
      "Data columns (total 8 columns):\n",
      " #   Column      Non-Null Count  Dtype \n",
      "---  ------      --------------  ----- \n",
      " 0   user_id     500 non-null    int64 \n",
      " 1   age         500 non-null    int64 \n",
      " 2   churn_date  38 non-null     object\n",
      " 3   city        500 non-null    object\n",
      " 4   first_name  500 non-null    object\n",
      " 5   last_name   500 non-null    object\n",
      " 6   reg_date    500 non-null    object\n",
      " 7   tariff      500 non-null    object\n",
      "dtypes: int64(2), object(6)\n",
      "memory usage: 31.4+ KB\n"
     ]
    }
   ],
   "source": [
    "users.info()"
   ]
  },
  {
   "cell_type": "code",
   "execution_count": 4,
   "metadata": {},
   "outputs": [
    {
     "data": {
      "text/html": [
       "<div>\n",
       "<style scoped>\n",
       "    .dataframe tbody tr th:only-of-type {\n",
       "        vertical-align: middle;\n",
       "    }\n",
       "\n",
       "    .dataframe tbody tr th {\n",
       "        vertical-align: top;\n",
       "    }\n",
       "\n",
       "    .dataframe thead th {\n",
       "        text-align: right;\n",
       "    }\n",
       "</style>\n",
       "<table border=\"1\" class=\"dataframe\">\n",
       "  <thead>\n",
       "    <tr style=\"text-align: right;\">\n",
       "      <th></th>\n",
       "      <th>user_id</th>\n",
       "      <th>age</th>\n",
       "      <th>churn_date</th>\n",
       "      <th>city</th>\n",
       "      <th>first_name</th>\n",
       "      <th>last_name</th>\n",
       "      <th>reg_date</th>\n",
       "      <th>tariff</th>\n",
       "    </tr>\n",
       "  </thead>\n",
       "  <tbody>\n",
       "    <tr>\n",
       "      <th>0</th>\n",
       "      <td>1000</td>\n",
       "      <td>52</td>\n",
       "      <td>NaN</td>\n",
       "      <td>Краснодар</td>\n",
       "      <td>Рафаил</td>\n",
       "      <td>Верещагин</td>\n",
       "      <td>2018-05-25</td>\n",
       "      <td>ultra</td>\n",
       "    </tr>\n",
       "    <tr>\n",
       "      <th>1</th>\n",
       "      <td>1001</td>\n",
       "      <td>41</td>\n",
       "      <td>NaN</td>\n",
       "      <td>Москва</td>\n",
       "      <td>Иван</td>\n",
       "      <td>Ежов</td>\n",
       "      <td>2018-11-01</td>\n",
       "      <td>smart</td>\n",
       "    </tr>\n",
       "    <tr>\n",
       "      <th>2</th>\n",
       "      <td>1002</td>\n",
       "      <td>59</td>\n",
       "      <td>NaN</td>\n",
       "      <td>Стерлитамак</td>\n",
       "      <td>Евгений</td>\n",
       "      <td>Абрамович</td>\n",
       "      <td>2018-06-17</td>\n",
       "      <td>smart</td>\n",
       "    </tr>\n",
       "    <tr>\n",
       "      <th>3</th>\n",
       "      <td>1003</td>\n",
       "      <td>23</td>\n",
       "      <td>NaN</td>\n",
       "      <td>Москва</td>\n",
       "      <td>Белла</td>\n",
       "      <td>Белякова</td>\n",
       "      <td>2018-08-17</td>\n",
       "      <td>ultra</td>\n",
       "    </tr>\n",
       "    <tr>\n",
       "      <th>4</th>\n",
       "      <td>1004</td>\n",
       "      <td>68</td>\n",
       "      <td>NaN</td>\n",
       "      <td>Новокузнецк</td>\n",
       "      <td>Татьяна</td>\n",
       "      <td>Авдеенко</td>\n",
       "      <td>2018-05-14</td>\n",
       "      <td>ultra</td>\n",
       "    </tr>\n",
       "  </tbody>\n",
       "</table>\n",
       "</div>"
      ],
      "text/plain": [
       "   user_id  age churn_date         city first_name  last_name    reg_date  \\\n",
       "0     1000   52        NaN    Краснодар     Рафаил  Верещагин  2018-05-25   \n",
       "1     1001   41        NaN       Москва       Иван       Ежов  2018-11-01   \n",
       "2     1002   59        NaN  Стерлитамак    Евгений  Абрамович  2018-06-17   \n",
       "3     1003   23        NaN       Москва      Белла   Белякова  2018-08-17   \n",
       "4     1004   68        NaN  Новокузнецк    Татьяна   Авдеенко  2018-05-14   \n",
       "\n",
       "  tariff  \n",
       "0  ultra  \n",
       "1  smart  \n",
       "2  smart  \n",
       "3  ultra  \n",
       "4  ultra  "
      ]
     },
     "execution_count": 4,
     "metadata": {},
     "output_type": "execute_result"
    }
   ],
   "source": [
    "users.head()"
   ]
  },
  {
   "cell_type": "code",
   "execution_count": 5,
   "metadata": {},
   "outputs": [
    {
     "name": "stdout",
     "output_type": "stream",
     "text": [
      "Количество абонентов тарифа \"Смарт\" в выборке: 351\n",
      "Количество абонентов тарифа \"Ультра\" в выборке: 149\n"
     ]
    }
   ],
   "source": [
    "ultra_cnt = len(users.query('tariff == \"ultra\"'))\n",
    "smart_cnt = len(users.query('tariff == \"smart\"'))\n",
    "print(f'Количество абонентов тарифа \"Смарт\" в выборке: {smart_cnt}')\n",
    "print(f'Количество абонентов тарифа \"Ультра\" в выборке: {ultra_cnt}')"
   ]
  },
  {
   "cell_type": "markdown",
   "metadata": {},
   "source": [
    "Наиболее важная особенность: __в выборке более чем в два раза больше пользователей тарифа \"Смарт\"__ -  более бюджетного варианта. \n",
    "Описание пользователей содержит пропуски только в колонке _churn_date_. Возникновение пропусков связано с тем, что на момент сбора данных абонент еще использовал тариф. Удаление пропусков не нужно.  \n",
    "Перед работой будет необходимо заменить типы данных в колонках _churn_date_, _reg_date_.  \n",
    "Помимо этого в таблицу будет добавлена колонка _is_active_, содержащая значения True/False, отражающая факт пользования тарифом на момент выгрузки данных.  "
   ]
  },
  {
   "cell_type": "markdown",
   "metadata": {},
   "source": [
    "### Таблица _messages.csv_."
   ]
  },
  {
   "cell_type": "code",
   "execution_count": 6,
   "metadata": {},
   "outputs": [
    {
     "name": "stdout",
     "output_type": "stream",
     "text": [
      "<class 'pandas.core.frame.DataFrame'>\n",
      "RangeIndex: 123036 entries, 0 to 123035\n",
      "Data columns (total 3 columns):\n",
      " #   Column        Non-Null Count   Dtype \n",
      "---  ------        --------------   ----- \n",
      " 0   id            123036 non-null  object\n",
      " 1   message_date  123036 non-null  object\n",
      " 2   user_id       123036 non-null  int64 \n",
      "dtypes: int64(1), object(2)\n",
      "memory usage: 2.8+ MB\n"
     ]
    }
   ],
   "source": [
    "messages.info()"
   ]
  },
  {
   "cell_type": "code",
   "execution_count": 7,
   "metadata": {},
   "outputs": [
    {
     "data": {
      "text/html": [
       "<div>\n",
       "<style scoped>\n",
       "    .dataframe tbody tr th:only-of-type {\n",
       "        vertical-align: middle;\n",
       "    }\n",
       "\n",
       "    .dataframe tbody tr th {\n",
       "        vertical-align: top;\n",
       "    }\n",
       "\n",
       "    .dataframe thead th {\n",
       "        text-align: right;\n",
       "    }\n",
       "</style>\n",
       "<table border=\"1\" class=\"dataframe\">\n",
       "  <thead>\n",
       "    <tr style=\"text-align: right;\">\n",
       "      <th></th>\n",
       "      <th>id</th>\n",
       "      <th>message_date</th>\n",
       "      <th>user_id</th>\n",
       "    </tr>\n",
       "  </thead>\n",
       "  <tbody>\n",
       "    <tr>\n",
       "      <th>0</th>\n",
       "      <td>1000_0</td>\n",
       "      <td>2018-06-27</td>\n",
       "      <td>1000</td>\n",
       "    </tr>\n",
       "    <tr>\n",
       "      <th>1</th>\n",
       "      <td>1000_1</td>\n",
       "      <td>2018-10-08</td>\n",
       "      <td>1000</td>\n",
       "    </tr>\n",
       "    <tr>\n",
       "      <th>2</th>\n",
       "      <td>1000_2</td>\n",
       "      <td>2018-08-04</td>\n",
       "      <td>1000</td>\n",
       "    </tr>\n",
       "    <tr>\n",
       "      <th>3</th>\n",
       "      <td>1000_3</td>\n",
       "      <td>2018-06-16</td>\n",
       "      <td>1000</td>\n",
       "    </tr>\n",
       "    <tr>\n",
       "      <th>4</th>\n",
       "      <td>1000_4</td>\n",
       "      <td>2018-12-05</td>\n",
       "      <td>1000</td>\n",
       "    </tr>\n",
       "    <tr>\n",
       "      <th>...</th>\n",
       "      <td>...</td>\n",
       "      <td>...</td>\n",
       "      <td>...</td>\n",
       "    </tr>\n",
       "    <tr>\n",
       "      <th>123031</th>\n",
       "      <td>1499_179</td>\n",
       "      <td>2018-12-12</td>\n",
       "      <td>1499</td>\n",
       "    </tr>\n",
       "    <tr>\n",
       "      <th>123032</th>\n",
       "      <td>1499_180</td>\n",
       "      <td>2018-09-28</td>\n",
       "      <td>1499</td>\n",
       "    </tr>\n",
       "    <tr>\n",
       "      <th>123033</th>\n",
       "      <td>1499_181</td>\n",
       "      <td>2018-09-27</td>\n",
       "      <td>1499</td>\n",
       "    </tr>\n",
       "    <tr>\n",
       "      <th>123034</th>\n",
       "      <td>1499_182</td>\n",
       "      <td>2018-11-15</td>\n",
       "      <td>1499</td>\n",
       "    </tr>\n",
       "    <tr>\n",
       "      <th>123035</th>\n",
       "      <td>1499_183</td>\n",
       "      <td>2018-11-16</td>\n",
       "      <td>1499</td>\n",
       "    </tr>\n",
       "  </tbody>\n",
       "</table>\n",
       "<p>123036 rows × 3 columns</p>\n",
       "</div>"
      ],
      "text/plain": [
       "              id message_date  user_id\n",
       "0         1000_0   2018-06-27     1000\n",
       "1         1000_1   2018-10-08     1000\n",
       "2         1000_2   2018-08-04     1000\n",
       "3         1000_3   2018-06-16     1000\n",
       "4         1000_4   2018-12-05     1000\n",
       "...          ...          ...      ...\n",
       "123031  1499_179   2018-12-12     1499\n",
       "123032  1499_180   2018-09-28     1499\n",
       "123033  1499_181   2018-09-27     1499\n",
       "123034  1499_182   2018-11-15     1499\n",
       "123035  1499_183   2018-11-16     1499\n",
       "\n",
       "[123036 rows x 3 columns]"
      ]
     },
     "execution_count": 7,
     "metadata": {},
     "output_type": "execute_result"
    }
   ],
   "source": [
    "messages"
   ]
  },
  {
   "cell_type": "markdown",
   "metadata": {},
   "source": [
    "В таблице _messages_ необходимо привести данные в колонке _message_date_ к типу datetime[64].  \n",
    "Также важно, что колонка _id_ не будет подвергнута каким-либо изменениям за их ненадобностью. "
   ]
  },
  {
   "cell_type": "markdown",
   "metadata": {},
   "source": [
    "### Таблица _calls.csv_."
   ]
  },
  {
   "cell_type": "code",
   "execution_count": 8,
   "metadata": {},
   "outputs": [
    {
     "name": "stdout",
     "output_type": "stream",
     "text": [
      "<class 'pandas.core.frame.DataFrame'>\n",
      "RangeIndex: 202607 entries, 0 to 202606\n",
      "Data columns (total 4 columns):\n",
      " #   Column     Non-Null Count   Dtype  \n",
      "---  ------     --------------   -----  \n",
      " 0   id         202607 non-null  object \n",
      " 1   call_date  202607 non-null  object \n",
      " 2   duration   202607 non-null  float64\n",
      " 3   user_id    202607 non-null  int64  \n",
      "dtypes: float64(1), int64(1), object(2)\n",
      "memory usage: 6.2+ MB\n"
     ]
    }
   ],
   "source": [
    "calls.info()"
   ]
  },
  {
   "cell_type": "code",
   "execution_count": 9,
   "metadata": {},
   "outputs": [
    {
     "data": {
      "text/html": [
       "<div>\n",
       "<style scoped>\n",
       "    .dataframe tbody tr th:only-of-type {\n",
       "        vertical-align: middle;\n",
       "    }\n",
       "\n",
       "    .dataframe tbody tr th {\n",
       "        vertical-align: top;\n",
       "    }\n",
       "\n",
       "    .dataframe thead th {\n",
       "        text-align: right;\n",
       "    }\n",
       "</style>\n",
       "<table border=\"1\" class=\"dataframe\">\n",
       "  <thead>\n",
       "    <tr style=\"text-align: right;\">\n",
       "      <th></th>\n",
       "      <th>id</th>\n",
       "      <th>call_date</th>\n",
       "      <th>duration</th>\n",
       "      <th>user_id</th>\n",
       "    </tr>\n",
       "  </thead>\n",
       "  <tbody>\n",
       "    <tr>\n",
       "      <th>0</th>\n",
       "      <td>1000_0</td>\n",
       "      <td>2018-07-25</td>\n",
       "      <td>0.00</td>\n",
       "      <td>1000</td>\n",
       "    </tr>\n",
       "    <tr>\n",
       "      <th>1</th>\n",
       "      <td>1000_1</td>\n",
       "      <td>2018-08-17</td>\n",
       "      <td>0.00</td>\n",
       "      <td>1000</td>\n",
       "    </tr>\n",
       "    <tr>\n",
       "      <th>2</th>\n",
       "      <td>1000_2</td>\n",
       "      <td>2018-06-11</td>\n",
       "      <td>2.85</td>\n",
       "      <td>1000</td>\n",
       "    </tr>\n",
       "    <tr>\n",
       "      <th>3</th>\n",
       "      <td>1000_3</td>\n",
       "      <td>2018-09-21</td>\n",
       "      <td>13.80</td>\n",
       "      <td>1000</td>\n",
       "    </tr>\n",
       "    <tr>\n",
       "      <th>4</th>\n",
       "      <td>1000_4</td>\n",
       "      <td>2018-12-15</td>\n",
       "      <td>5.18</td>\n",
       "      <td>1000</td>\n",
       "    </tr>\n",
       "  </tbody>\n",
       "</table>\n",
       "</div>"
      ],
      "text/plain": [
       "       id   call_date  duration  user_id\n",
       "0  1000_0  2018-07-25      0.00     1000\n",
       "1  1000_1  2018-08-17      0.00     1000\n",
       "2  1000_2  2018-06-11      2.85     1000\n",
       "3  1000_3  2018-09-21     13.80     1000\n",
       "4  1000_4  2018-12-15      5.18     1000"
      ]
     },
     "execution_count": 9,
     "metadata": {},
     "output_type": "execute_result"
    }
   ],
   "source": [
    "calls.head()"
   ]
  },
  {
   "cell_type": "markdown",
   "metadata": {},
   "source": [
    "В таблице _calls.csv_ необходимо заменить тип данных в колонке _call_date_ на datetime[64].  \n",
    "Данные в колонке _duration_ нужно будет привести к целому количеству минут.  \n",
    "Помимо этого, важно учитывать, что _0_ в колонке _duration_ соответствует несостоявшемуся звонку. "
   ]
  },
  {
   "cell_type": "markdown",
   "metadata": {},
   "source": [
    "### Таблица _internet.csv_."
   ]
  },
  {
   "cell_type": "code",
   "execution_count": 10,
   "metadata": {},
   "outputs": [
    {
     "name": "stdout",
     "output_type": "stream",
     "text": [
      "<class 'pandas.core.frame.DataFrame'>\n",
      "RangeIndex: 149396 entries, 0 to 149395\n",
      "Data columns (total 5 columns):\n",
      " #   Column        Non-Null Count   Dtype  \n",
      "---  ------        --------------   -----  \n",
      " 0   Unnamed: 0    149396 non-null  int64  \n",
      " 1   id            149396 non-null  object \n",
      " 2   mb_used       149396 non-null  float64\n",
      " 3   session_date  149396 non-null  object \n",
      " 4   user_id       149396 non-null  int64  \n",
      "dtypes: float64(1), int64(2), object(2)\n",
      "memory usage: 5.7+ MB\n"
     ]
    }
   ],
   "source": [
    "internet.info()"
   ]
  },
  {
   "cell_type": "code",
   "execution_count": 11,
   "metadata": {},
   "outputs": [
    {
     "data": {
      "text/html": [
       "<div>\n",
       "<style scoped>\n",
       "    .dataframe tbody tr th:only-of-type {\n",
       "        vertical-align: middle;\n",
       "    }\n",
       "\n",
       "    .dataframe tbody tr th {\n",
       "        vertical-align: top;\n",
       "    }\n",
       "\n",
       "    .dataframe thead th {\n",
       "        text-align: right;\n",
       "    }\n",
       "</style>\n",
       "<table border=\"1\" class=\"dataframe\">\n",
       "  <thead>\n",
       "    <tr style=\"text-align: right;\">\n",
       "      <th></th>\n",
       "      <th>Unnamed: 0</th>\n",
       "      <th>id</th>\n",
       "      <th>mb_used</th>\n",
       "      <th>session_date</th>\n",
       "      <th>user_id</th>\n",
       "    </tr>\n",
       "  </thead>\n",
       "  <tbody>\n",
       "    <tr>\n",
       "      <th>0</th>\n",
       "      <td>0</td>\n",
       "      <td>1000_0</td>\n",
       "      <td>112.95</td>\n",
       "      <td>2018-11-25</td>\n",
       "      <td>1000</td>\n",
       "    </tr>\n",
       "    <tr>\n",
       "      <th>1</th>\n",
       "      <td>1</td>\n",
       "      <td>1000_1</td>\n",
       "      <td>1052.81</td>\n",
       "      <td>2018-09-07</td>\n",
       "      <td>1000</td>\n",
       "    </tr>\n",
       "    <tr>\n",
       "      <th>2</th>\n",
       "      <td>2</td>\n",
       "      <td>1000_2</td>\n",
       "      <td>1197.26</td>\n",
       "      <td>2018-06-25</td>\n",
       "      <td>1000</td>\n",
       "    </tr>\n",
       "    <tr>\n",
       "      <th>3</th>\n",
       "      <td>3</td>\n",
       "      <td>1000_3</td>\n",
       "      <td>550.27</td>\n",
       "      <td>2018-08-22</td>\n",
       "      <td>1000</td>\n",
       "    </tr>\n",
       "    <tr>\n",
       "      <th>4</th>\n",
       "      <td>4</td>\n",
       "      <td>1000_4</td>\n",
       "      <td>302.56</td>\n",
       "      <td>2018-09-24</td>\n",
       "      <td>1000</td>\n",
       "    </tr>\n",
       "    <tr>\n",
       "      <th>...</th>\n",
       "      <td>...</td>\n",
       "      <td>...</td>\n",
       "      <td>...</td>\n",
       "      <td>...</td>\n",
       "      <td>...</td>\n",
       "    </tr>\n",
       "    <tr>\n",
       "      <th>149391</th>\n",
       "      <td>149391</td>\n",
       "      <td>1499_152</td>\n",
       "      <td>318.90</td>\n",
       "      <td>2018-10-03</td>\n",
       "      <td>1499</td>\n",
       "    </tr>\n",
       "    <tr>\n",
       "      <th>149392</th>\n",
       "      <td>149392</td>\n",
       "      <td>1499_153</td>\n",
       "      <td>490.13</td>\n",
       "      <td>2018-12-14</td>\n",
       "      <td>1499</td>\n",
       "    </tr>\n",
       "    <tr>\n",
       "      <th>149393</th>\n",
       "      <td>149393</td>\n",
       "      <td>1499_154</td>\n",
       "      <td>0.00</td>\n",
       "      <td>2018-10-27</td>\n",
       "      <td>1499</td>\n",
       "    </tr>\n",
       "    <tr>\n",
       "      <th>149394</th>\n",
       "      <td>149394</td>\n",
       "      <td>1499_155</td>\n",
       "      <td>1246.32</td>\n",
       "      <td>2018-11-26</td>\n",
       "      <td>1499</td>\n",
       "    </tr>\n",
       "    <tr>\n",
       "      <th>149395</th>\n",
       "      <td>149395</td>\n",
       "      <td>1499_156</td>\n",
       "      <td>544.37</td>\n",
       "      <td>2018-10-26</td>\n",
       "      <td>1499</td>\n",
       "    </tr>\n",
       "  </tbody>\n",
       "</table>\n",
       "<p>149396 rows × 5 columns</p>\n",
       "</div>"
      ],
      "text/plain": [
       "        Unnamed: 0        id  mb_used session_date  user_id\n",
       "0                0    1000_0   112.95   2018-11-25     1000\n",
       "1                1    1000_1  1052.81   2018-09-07     1000\n",
       "2                2    1000_2  1197.26   2018-06-25     1000\n",
       "3                3    1000_3   550.27   2018-08-22     1000\n",
       "4                4    1000_4   302.56   2018-09-24     1000\n",
       "...            ...       ...      ...          ...      ...\n",
       "149391      149391  1499_152   318.90   2018-10-03     1499\n",
       "149392      149392  1499_153   490.13   2018-12-14     1499\n",
       "149393      149393  1499_154     0.00   2018-10-27     1499\n",
       "149394      149394  1499_155  1246.32   2018-11-26     1499\n",
       "149395      149395  1499_156   544.37   2018-10-26     1499\n",
       "\n",
       "[149396 rows x 5 columns]"
      ]
     },
     "execution_count": 11,
     "metadata": {},
     "output_type": "execute_result"
    }
   ],
   "source": [
    "internet"
   ]
  },
  {
   "cell_type": "markdown",
   "metadata": {},
   "source": [
    "В таблице _internet.csv_ необходимо заменить тип данных в колонке _session_date_ на тип datetime[64].  \n",
    "Данные в колонке _mb_used_ нужно привести к типу int[64] с округлением в бОльшую сторону.  \n",
    "Помимо этого, в таблице присутствует колонка _Unnamed: 0_, возникшая, вероятно, при выгрузке данных и содержащая дубли индексов записей. Колонка будет удалена.  \n",
    "Колонка _id_ менятся не будет"
   ]
  },
  {
   "cell_type": "markdown",
   "metadata": {},
   "source": [
    "### Таблица _tariffs.csv_."
   ]
  },
  {
   "cell_type": "code",
   "execution_count": 12,
   "metadata": {},
   "outputs": [
    {
     "name": "stdout",
     "output_type": "stream",
     "text": [
      "<class 'pandas.core.frame.DataFrame'>\n",
      "RangeIndex: 2 entries, 0 to 1\n",
      "Data columns (total 8 columns):\n",
      " #   Column                 Non-Null Count  Dtype \n",
      "---  ------                 --------------  ----- \n",
      " 0   messages_included      2 non-null      int64 \n",
      " 1   mb_per_month_included  2 non-null      int64 \n",
      " 2   minutes_included       2 non-null      int64 \n",
      " 3   rub_monthly_fee        2 non-null      int64 \n",
      " 4   rub_per_gb             2 non-null      int64 \n",
      " 5   rub_per_message        2 non-null      int64 \n",
      " 6   rub_per_minute         2 non-null      int64 \n",
      " 7   tariff_name            2 non-null      object\n",
      "dtypes: int64(7), object(1)\n",
      "memory usage: 256.0+ bytes\n"
     ]
    }
   ],
   "source": [
    "tariffs.info()"
   ]
  },
  {
   "cell_type": "code",
   "execution_count": 13,
   "metadata": {},
   "outputs": [
    {
     "data": {
      "text/html": [
       "<div>\n",
       "<style scoped>\n",
       "    .dataframe tbody tr th:only-of-type {\n",
       "        vertical-align: middle;\n",
       "    }\n",
       "\n",
       "    .dataframe tbody tr th {\n",
       "        vertical-align: top;\n",
       "    }\n",
       "\n",
       "    .dataframe thead th {\n",
       "        text-align: right;\n",
       "    }\n",
       "</style>\n",
       "<table border=\"1\" class=\"dataframe\">\n",
       "  <thead>\n",
       "    <tr style=\"text-align: right;\">\n",
       "      <th></th>\n",
       "      <th>messages_included</th>\n",
       "      <th>mb_per_month_included</th>\n",
       "      <th>minutes_included</th>\n",
       "      <th>rub_monthly_fee</th>\n",
       "      <th>rub_per_gb</th>\n",
       "      <th>rub_per_message</th>\n",
       "      <th>rub_per_minute</th>\n",
       "      <th>tariff_name</th>\n",
       "    </tr>\n",
       "  </thead>\n",
       "  <tbody>\n",
       "    <tr>\n",
       "      <th>0</th>\n",
       "      <td>50</td>\n",
       "      <td>15360</td>\n",
       "      <td>500</td>\n",
       "      <td>550</td>\n",
       "      <td>200</td>\n",
       "      <td>3</td>\n",
       "      <td>3</td>\n",
       "      <td>smart</td>\n",
       "    </tr>\n",
       "    <tr>\n",
       "      <th>1</th>\n",
       "      <td>1000</td>\n",
       "      <td>30720</td>\n",
       "      <td>3000</td>\n",
       "      <td>1950</td>\n",
       "      <td>150</td>\n",
       "      <td>1</td>\n",
       "      <td>1</td>\n",
       "      <td>ultra</td>\n",
       "    </tr>\n",
       "  </tbody>\n",
       "</table>\n",
       "</div>"
      ],
      "text/plain": [
       "   messages_included  mb_per_month_included  minutes_included  \\\n",
       "0                 50                  15360               500   \n",
       "1               1000                  30720              3000   \n",
       "\n",
       "   rub_monthly_fee  rub_per_gb  rub_per_message  rub_per_minute tariff_name  \n",
       "0              550         200                3               3       smart  \n",
       "1             1950         150                1               1       ultra  "
      ]
     },
     "execution_count": 13,
     "metadata": {},
     "output_type": "execute_result"
    }
   ],
   "source": [
    "tariffs.head()"
   ]
  },
  {
   "cell_type": "markdown",
   "metadata": {},
   "source": [
    "Данные в таблице _tariffs.csv_ в редактировании не нуждаются. "
   ]
  },
  {
   "cell_type": "markdown",
   "metadata": {},
   "source": [
    "### Промежуточный вывод. \n",
    "В ходе поверхностного знакомства с данными в первом приближении были сформулированы требования по __очистке__ данных, __замене типов__ данных, а также __выявлены особенности и__ явные __ошибки__ в исходных данных. "
   ]
  },
  {
   "cell_type": "markdown",
   "metadata": {},
   "source": [
    "## План выполнения проекта\n",
    "1. Проведение предобработки данных: \n",
    " 1. - [x] Удаление лишних столбцов\n",
    " 2. - [x] Замена типов данных\n",
    " 3. - [x] Обработка пропусков\n",
    " 4. - [x] Добавление новых столбцов в случае необходимости\n",
    " 5. - [x] Промежуточный вывод\n",
    "2. Проведение расчетов (для каждого пользователя): \n",
    " 1. - [x] Количество сделанных звонков и израсходованных минут разговора по месяцам\n",
    " 2. - [x] Количество отправленных сообщений по месяцам\n",
    " 3. - [x] Объем израсходованного интернет-трафика по месяцам\n",
    " 4. - [x] Помесячную выручку с каждого пользователя\n",
    " 5. - [x] Промежуточный вывод\n",
    "3. Анализ статистик выборки:\n",
    " 1. - [x] Очистка сформированной(-ых) таблицы(-ц) от выбросов\n",
    " 1. - [x] Средние значения\n",
    " 2. - [x] Дисперсии, стандартные отклонения\n",
    " 3. - [x] Построение частотных диаграм и кривых распределения плотностей вероятности\n",
    " 4. - [x] Описание распределений\n",
    " 5. - [x] Расчет вероятности получения дополнительной прибыли с каждого пользователя\n",
    " 6. - [x] Промежуточный вывод\n",
    "4. Проверка гипотез:\n",
    " 1. - [x] Формулирование нулевых и альтернативных гипотез\n",
    " 2. - [x] Проведение статистических тестов\n",
    " 3. - [x] Промежуточный вывод\n",
    "5. - [x] Общий вывод\n",
    "  "
   ]
  },
  {
   "cell_type": "markdown",
   "metadata": {},
   "source": [
    "## Предобработка данных"
   ]
  },
  {
   "cell_type": "markdown",
   "metadata": {},
   "source": [
    "### Удаление столбцов. \n",
    "В таблице _internet.csv_ присутствует колонка, не имеющая смысла и подлежащая удалению.  \n",
    "Возникновение колонки связано, вероятнее всего, с ошибкой в алгоритме выгрузки данных."
   ]
  },
  {
   "cell_type": "code",
   "execution_count": 14,
   "metadata": {},
   "outputs": [],
   "source": [
    "internet = internet.drop(columns=['Unnamed: 0'])"
   ]
  },
  {
   "cell_type": "markdown",
   "metadata": {},
   "source": [
    "### Замена типов данных. \n",
    "Замена будет выполнена в соответствии с ранее сделанными выводами.  \n",
    "##### Таблица _users.csv_. \n",
    "1. Введение формата _datetime64_\n",
    "2. Добавление колонки _is_active_, содержашей информацию о статусе пользования тарифом"
   ]
  },
  {
   "cell_type": "code",
   "execution_count": 15,
   "metadata": {},
   "outputs": [
    {
     "name": "stdout",
     "output_type": "stream",
     "text": [
      "<class 'pandas.core.frame.DataFrame'>\n",
      "RangeIndex: 500 entries, 0 to 499\n",
      "Data columns (total 9 columns):\n",
      " #   Column      Non-Null Count  Dtype         \n",
      "---  ------      --------------  -----         \n",
      " 0   user_id     500 non-null    int64         \n",
      " 1   age         500 non-null    int64         \n",
      " 2   churn_date  38 non-null     datetime64[ns]\n",
      " 3   city        500 non-null    object        \n",
      " 4   first_name  500 non-null    object        \n",
      " 5   last_name   500 non-null    object        \n",
      " 6   reg_date    500 non-null    datetime64[ns]\n",
      " 7   tariff      500 non-null    object        \n",
      " 8   is_active   500 non-null    bool          \n",
      "dtypes: bool(1), datetime64[ns](2), int64(2), object(4)\n",
      "memory usage: 31.9+ KB\n"
     ]
    }
   ],
   "source": [
    "users['reg_date'] = pd.to_datetime(users['reg_date'], format='%Y-%m-%d')\n",
    "users['churn_date'] = pd.to_datetime(users['churn_date'], format='%Y-%m-%d')\n",
    "users['is_active'] = users['churn_date'].isna()\n",
    "users.info()"
   ]
  },
  {
   "cell_type": "markdown",
   "metadata": {},
   "source": [
    "##### Таблица _messages.csv_.\n",
    "1. Введение формата _datetime64_"
   ]
  },
  {
   "cell_type": "code",
   "execution_count": 16,
   "metadata": {},
   "outputs": [
    {
     "name": "stdout",
     "output_type": "stream",
     "text": [
      "<class 'pandas.core.frame.DataFrame'>\n",
      "RangeIndex: 123036 entries, 0 to 123035\n",
      "Data columns (total 3 columns):\n",
      " #   Column        Non-Null Count   Dtype         \n",
      "---  ------        --------------   -----         \n",
      " 0   id            123036 non-null  object        \n",
      " 1   message_date  123036 non-null  datetime64[ns]\n",
      " 2   user_id       123036 non-null  int64         \n",
      "dtypes: datetime64[ns](1), int64(1), object(1)\n",
      "memory usage: 2.8+ MB\n"
     ]
    }
   ],
   "source": [
    "messages['message_date'] = pd.to_datetime(messages['message_date'], format='%Y-%m-%d')\n",
    "messages.info()"
   ]
  },
  {
   "cell_type": "markdown",
   "metadata": {},
   "source": [
    "##### Таблица _calls.csv_. \n",
    "1. Введение формата _datetime64_\n",
    "2. Округление данных о продолжительности звонка в бОльшую сторону и приведение к типу _int64_ "
   ]
  },
  {
   "cell_type": "code",
   "execution_count": 17,
   "metadata": {},
   "outputs": [
    {
     "name": "stdout",
     "output_type": "stream",
     "text": [
      "<class 'pandas.core.frame.DataFrame'>\n",
      "RangeIndex: 202607 entries, 0 to 202606\n",
      "Data columns (total 4 columns):\n",
      " #   Column     Non-Null Count   Dtype         \n",
      "---  ------     --------------   -----         \n",
      " 0   id         202607 non-null  object        \n",
      " 1   call_date  202607 non-null  datetime64[ns]\n",
      " 2   duration   202607 non-null  int64         \n",
      " 3   user_id    202607 non-null  int64         \n",
      "dtypes: datetime64[ns](1), int64(2), object(1)\n",
      "memory usage: 6.2+ MB\n"
     ]
    }
   ],
   "source": [
    "calls['call_date'] = pd.to_datetime(calls['call_date'], format='%Y-%m-%d')\n",
    "calls['duration'] = np.ceil(calls['duration']).astype('int64')\n",
    "calls.info()"
   ]
  },
  {
   "cell_type": "markdown",
   "metadata": {},
   "source": [
    "##### Таблица _internet.csv_.\n",
    "1. Введение формата _datetime64_\n",
    "2. Округление объема интернет-трафика в бОльшую сторону и приведение к типу _int64_"
   ]
  },
  {
   "cell_type": "code",
   "execution_count": 18,
   "metadata": {},
   "outputs": [
    {
     "name": "stdout",
     "output_type": "stream",
     "text": [
      "<class 'pandas.core.frame.DataFrame'>\n",
      "RangeIndex: 149396 entries, 0 to 149395\n",
      "Data columns (total 4 columns):\n",
      " #   Column        Non-Null Count   Dtype         \n",
      "---  ------        --------------   -----         \n",
      " 0   id            149396 non-null  object        \n",
      " 1   mb_used       149396 non-null  int64         \n",
      " 2   session_date  149396 non-null  datetime64[ns]\n",
      " 3   user_id       149396 non-null  int64         \n",
      "dtypes: datetime64[ns](1), int64(2), object(1)\n",
      "memory usage: 4.6+ MB\n"
     ]
    }
   ],
   "source": [
    "internet['session_date'] = pd.to_datetime(internet['session_date'], format='%Y-%m-%d')\n",
    "internet['mb_used'] = np.ceil(internet['mb_used']).astype('int64')\n",
    "internet.info()"
   ]
  },
  {
   "cell_type": "markdown",
   "metadata": {},
   "source": [
    "### Нулевые значения продолжительности звонков и объема использованного трафика. "
   ]
  },
  {
   "cell_type": "markdown",
   "metadata": {},
   "source": [
    "#### Таблица _calls.csv_.\n",
    "__Ключевой параметр, исследуемый в проекте - экономическая эффективность тарифов.__  \n",
    "Согласно политике ценообразования, за звонок, продолжительностью в 0 секунд, абонент не платит, помимо этого, такие звонки не расходуют ресурс минут тарифа.  \n",
    "Следовательно, при исследовании прибыльности тарифа, __случаи с нулевой продолжительностью звонка рассматривать нельзя.__ С точки зрения статистики, сохранение записей о звонках с нулевой продолжительностью приведет к __смещению статистик выборки__ в меньшую сторону.  \n",
    "  \n",
    "_Примечание_: было проведено сравнение результатов дальнейшего исследования для датасетов с сохраненными нулевыми значениями и без них. Разница в полученных значениях не превысила сотой процента для каждого из показателей. Вероятнее всего, это связано с тем, что при расчетах данные группируются по месяцам и влияение нулевых значений практически полностью нивелируется. "
   ]
  },
  {
   "cell_type": "code",
   "execution_count": 19,
   "metadata": {},
   "outputs": [
    {
     "name": "stdout",
     "output_type": "stream",
     "text": [
      "<class 'pandas.core.frame.DataFrame'>\n",
      "RangeIndex: 162994 entries, 0 to 162993\n",
      "Data columns (total 4 columns):\n",
      " #   Column     Non-Null Count   Dtype         \n",
      "---  ------     --------------   -----         \n",
      " 0   id         162994 non-null  object        \n",
      " 1   call_date  162994 non-null  datetime64[ns]\n",
      " 2   duration   162994 non-null  int64         \n",
      " 3   user_id    162994 non-null  int64         \n",
      "dtypes: datetime64[ns](1), int64(2), object(1)\n",
      "memory usage: 5.0+ MB\n"
     ]
    }
   ],
   "source": [
    "calls_len_before = len(calls)\n",
    "calls = calls.query('duration != 0').reset_index(drop=True)\n",
    "calls_len_after = len(calls)\n",
    "calls_len_reduce = round(100 * (calls_len_before - calls_len_after) / calls_len_before, 2)\n",
    "calls.info()"
   ]
  },
  {
   "cell_type": "code",
   "execution_count": 20,
   "metadata": {},
   "outputs": [
    {
     "name": "stdout",
     "output_type": "stream",
     "text": [
      "<class 'pandas.core.frame.DataFrame'>\n",
      "RangeIndex: 129798 entries, 0 to 129797\n",
      "Data columns (total 4 columns):\n",
      " #   Column        Non-Null Count   Dtype         \n",
      "---  ------        --------------   -----         \n",
      " 0   id            129798 non-null  object        \n",
      " 1   mb_used       129798 non-null  int64         \n",
      " 2   session_date  129798 non-null  datetime64[ns]\n",
      " 3   user_id       129798 non-null  int64         \n",
      "dtypes: datetime64[ns](1), int64(2), object(1)\n",
      "memory usage: 4.0+ MB\n"
     ]
    }
   ],
   "source": [
    "internet_len_before = len(internet)\n",
    "internet = internet.query('mb_used != 0').reset_index(drop=True)\n",
    "internet_len_after = len(internet)\n",
    "internet_len_reduce = round(100 * (internet_len_before - internet_len_after) / internet_len_before, 2)\n",
    "internet.info()"
   ]
  },
  {
   "cell_type": "code",
   "execution_count": 21,
   "metadata": {},
   "outputs": [
    {
     "name": "stdout",
     "output_type": "stream",
     "text": [
      "Сокращение датасета calls составило 19.55%\n",
      "Сокращение датасета internet составило 13.12%\n"
     ]
    }
   ],
   "source": [
    "print(f'Сокращение датасета calls составило {calls_len_reduce}%')\n",
    "print(f'Сокращение датасета internet составило {internet_len_reduce}%')"
   ]
  },
  {
   "cell_type": "markdown",
   "metadata": {},
   "source": [
    "#### Таблица _users.csv_. \n",
    "Данная таблица единственная из всего набора содержит пропуски.  \n",
    "Однако, согласно техническому заданию, пропуски возникли в результате особенностей алгоритма выгрузки данных и в расчете (на данном этапе) ни на что не влияют.  \n",
    "В случае возникновения необходимости, пропуски будут удалены в дальнейшем. "
   ]
  },
  {
   "cell_type": "markdown",
   "metadata": {},
   "source": [
    "### Добавление новых столбцов. "
   ]
  },
  {
   "cell_type": "markdown",
   "metadata": {},
   "source": [
    "Во все таблицы, содержащие данные типа _datetime_ будут добавлены колонки _month_num_ и _month_name_, отвечающие за номер месяца и его название соответственно. "
   ]
  },
  {
   "cell_type": "code",
   "execution_count": 22,
   "metadata": {},
   "outputs": [],
   "source": [
    "users['month_num'] = users['reg_date'].dt.month\n",
    "users['month_name'] = users['reg_date'].dt.month_name()\n",
    "\n",
    "messages['month_num'] = messages['message_date'].dt.month\n",
    "messages['month_name'] = messages['message_date'].dt.month_name()\n",
    "\n",
    "calls['month_num'] = calls['call_date'].dt.month\n",
    "calls['month_name'] = calls['call_date'].dt.month_name()\n",
    "\n",
    "internet['month_num'] = internet['session_date'].dt.month\n",
    "internet['month_name'] = internet['session_date'].dt.month_name()"
   ]
  },
  {
   "cell_type": "markdown",
   "metadata": {},
   "source": [
    "### Промежуточный вывод. \n",
    "В ходе предобработки данных: \n",
    "1. Была произведена замена типов (введены типы datetime64, int64) \n",
    "2. Количества звонков и израсходованного интернет-трафика были перерассчитаны с учетом политики ценообразования компании\n",
    "3. Была удалена лишняя колонка в таблице _internet.csv_\n",
    "4. В имеющиеся таблицы с информацией о датах были добавлены колонки, отвечающие за номер месяца и его название. "
   ]
  },
  {
   "cell_type": "markdown",
   "metadata": {},
   "source": [
    "## Расчеты. "
   ]
  },
  {
   "cell_type": "markdown",
   "metadata": {},
   "source": [
    "### Количество сделанных звонков и израсходованных минут разговора по месяцам. Дополнительная прибыль от звонков. \n",
    "При выполнении этого пункта будет использоваться датасет _calls_, содержащий нулевые значения в поле продолжительности звонка (_duration_).  \n",
    "__Последовательность действий:__\n",
    "1. В таблицу _calls_ добавляется информация о тарифе пользователя\n",
    "2. В таблицу вносится информация о лимите минут (колонка _tariff_time_limit_)\n",
    "3. Таблица _calls_ группируется по пользователям, затем по месяцам, в полученный датасет вносятся данные по количеству звонков и общей месячной продолжительности разговоров (колонки _call_count_ и _duration_sum_ соответственно)\n",
    "4. В сгруппированную таблицу добавляются колонки с превышением лимита (отрицательное превышение = отсутствие превышения лимита, колонка _time_excess_)\n",
    "5. Исходя из превышения лимита расчитывается дополнительная прибыль (колонка _calls_extra_net_worth_). "
   ]
  },
  {
   "cell_type": "markdown",
   "metadata": {},
   "source": [
    "Добавление информации о тарифе пользователя в таблицу _calls_"
   ]
  },
  {
   "cell_type": "code",
   "execution_count": 23,
   "metadata": {},
   "outputs": [
    {
     "data": {
      "text/html": [
       "<div>\n",
       "<style scoped>\n",
       "    .dataframe tbody tr th:only-of-type {\n",
       "        vertical-align: middle;\n",
       "    }\n",
       "\n",
       "    .dataframe tbody tr th {\n",
       "        vertical-align: top;\n",
       "    }\n",
       "\n",
       "    .dataframe thead th {\n",
       "        text-align: right;\n",
       "    }\n",
       "</style>\n",
       "<table border=\"1\" class=\"dataframe\">\n",
       "  <thead>\n",
       "    <tr style=\"text-align: right;\">\n",
       "      <th></th>\n",
       "      <th>id</th>\n",
       "      <th>call_date</th>\n",
       "      <th>duration</th>\n",
       "      <th>user_id</th>\n",
       "      <th>month_num</th>\n",
       "      <th>month_name</th>\n",
       "      <th>tariff</th>\n",
       "      <th>tariff_time_limit</th>\n",
       "    </tr>\n",
       "  </thead>\n",
       "  <tbody>\n",
       "    <tr>\n",
       "      <th>0</th>\n",
       "      <td>1000_2</td>\n",
       "      <td>2018-06-11</td>\n",
       "      <td>3</td>\n",
       "      <td>1000</td>\n",
       "      <td>6</td>\n",
       "      <td>June</td>\n",
       "      <td>ultra</td>\n",
       "      <td>3000</td>\n",
       "    </tr>\n",
       "    <tr>\n",
       "      <th>1</th>\n",
       "      <td>1000_3</td>\n",
       "      <td>2018-09-21</td>\n",
       "      <td>14</td>\n",
       "      <td>1000</td>\n",
       "      <td>9</td>\n",
       "      <td>September</td>\n",
       "      <td>ultra</td>\n",
       "      <td>3000</td>\n",
       "    </tr>\n",
       "    <tr>\n",
       "      <th>2</th>\n",
       "      <td>1000_4</td>\n",
       "      <td>2018-12-15</td>\n",
       "      <td>6</td>\n",
       "      <td>1000</td>\n",
       "      <td>12</td>\n",
       "      <td>December</td>\n",
       "      <td>ultra</td>\n",
       "      <td>3000</td>\n",
       "    </tr>\n",
       "    <tr>\n",
       "      <th>3</th>\n",
       "      <td>1000_7</td>\n",
       "      <td>2018-08-22</td>\n",
       "      <td>19</td>\n",
       "      <td>1000</td>\n",
       "      <td>8</td>\n",
       "      <td>August</td>\n",
       "      <td>ultra</td>\n",
       "      <td>3000</td>\n",
       "    </tr>\n",
       "    <tr>\n",
       "      <th>4</th>\n",
       "      <td>1000_8</td>\n",
       "      <td>2018-09-15</td>\n",
       "      <td>19</td>\n",
       "      <td>1000</td>\n",
       "      <td>9</td>\n",
       "      <td>September</td>\n",
       "      <td>ultra</td>\n",
       "      <td>3000</td>\n",
       "    </tr>\n",
       "    <tr>\n",
       "      <th>...</th>\n",
       "      <td>...</td>\n",
       "      <td>...</td>\n",
       "      <td>...</td>\n",
       "      <td>...</td>\n",
       "      <td>...</td>\n",
       "      <td>...</td>\n",
       "      <td>...</td>\n",
       "      <td>...</td>\n",
       "    </tr>\n",
       "    <tr>\n",
       "      <th>162989</th>\n",
       "      <td>1499_215</td>\n",
       "      <td>2018-12-26</td>\n",
       "      <td>1</td>\n",
       "      <td>1499</td>\n",
       "      <td>12</td>\n",
       "      <td>December</td>\n",
       "      <td>smart</td>\n",
       "      <td>500</td>\n",
       "    </tr>\n",
       "    <tr>\n",
       "      <th>162990</th>\n",
       "      <td>1499_216</td>\n",
       "      <td>2018-10-18</td>\n",
       "      <td>19</td>\n",
       "      <td>1499</td>\n",
       "      <td>10</td>\n",
       "      <td>October</td>\n",
       "      <td>smart</td>\n",
       "      <td>500</td>\n",
       "    </tr>\n",
       "    <tr>\n",
       "      <th>162991</th>\n",
       "      <td>1499_217</td>\n",
       "      <td>2018-11-10</td>\n",
       "      <td>11</td>\n",
       "      <td>1499</td>\n",
       "      <td>11</td>\n",
       "      <td>November</td>\n",
       "      <td>smart</td>\n",
       "      <td>500</td>\n",
       "    </tr>\n",
       "    <tr>\n",
       "      <th>162992</th>\n",
       "      <td>1499_218</td>\n",
       "      <td>2018-10-06</td>\n",
       "      <td>5</td>\n",
       "      <td>1499</td>\n",
       "      <td>10</td>\n",
       "      <td>October</td>\n",
       "      <td>smart</td>\n",
       "      <td>500</td>\n",
       "    </tr>\n",
       "    <tr>\n",
       "      <th>162993</th>\n",
       "      <td>1499_219</td>\n",
       "      <td>2018-12-14</td>\n",
       "      <td>20</td>\n",
       "      <td>1499</td>\n",
       "      <td>12</td>\n",
       "      <td>December</td>\n",
       "      <td>smart</td>\n",
       "      <td>500</td>\n",
       "    </tr>\n",
       "  </tbody>\n",
       "</table>\n",
       "<p>162994 rows × 8 columns</p>\n",
       "</div>"
      ],
      "text/plain": [
       "              id  call_date  duration  user_id  month_num month_name tariff  \\\n",
       "0         1000_2 2018-06-11         3     1000          6       June  ultra   \n",
       "1         1000_3 2018-09-21        14     1000          9  September  ultra   \n",
       "2         1000_4 2018-12-15         6     1000         12   December  ultra   \n",
       "3         1000_7 2018-08-22        19     1000          8     August  ultra   \n",
       "4         1000_8 2018-09-15        19     1000          9  September  ultra   \n",
       "...          ...        ...       ...      ...        ...        ...    ...   \n",
       "162989  1499_215 2018-12-26         1     1499         12   December  smart   \n",
       "162990  1499_216 2018-10-18        19     1499         10    October  smart   \n",
       "162991  1499_217 2018-11-10        11     1499         11   November  smart   \n",
       "162992  1499_218 2018-10-06         5     1499         10    October  smart   \n",
       "162993  1499_219 2018-12-14        20     1499         12   December  smart   \n",
       "\n",
       "        tariff_time_limit  \n",
       "0                    3000  \n",
       "1                    3000  \n",
       "2                    3000  \n",
       "3                    3000  \n",
       "4                    3000  \n",
       "...                   ...  \n",
       "162989                500  \n",
       "162990                500  \n",
       "162991                500  \n",
       "162992                500  \n",
       "162993                500  \n",
       "\n",
       "[162994 rows x 8 columns]"
      ]
     },
     "execution_count": 23,
     "metadata": {},
     "output_type": "execute_result"
    }
   ],
   "source": [
    "def tariff_time_lim(row):\n",
    "    \"\"\"\n",
    "    Функция определяет количество бесплатных минут, соответствующее тарифу пользователя. \n",
    "    row: строка датасета calls\n",
    "    return: количество бесплатных минут\n",
    "    \"\"\"\n",
    "    if row['tariff'] == 'ultra':\n",
    "        return 3000\n",
    "    else: \n",
    "        return 500\n",
    "\n",
    "\n",
    "calls = calls.merge(users[['user_id','tariff']], how='left', on='user_id')\n",
    "calls['tariff_time_limit'] = calls.apply(tariff_time_lim, axis=1)\n",
    "calls"
   ]
  },
  {
   "cell_type": "markdown",
   "metadata": {},
   "source": [
    "Группировка таблицы _calls_ по пользователям и месяцам и добавление новой колонки.  \n",
    "Итог: __датафрейм _calls_pivot___ (описание колонок - выше)"
   ]
  },
  {
   "cell_type": "code",
   "execution_count": 24,
   "metadata": {
    "scrolled": false
   },
   "outputs": [
    {
     "data": {
      "text/html": [
       "<div>\n",
       "<style scoped>\n",
       "    .dataframe tbody tr th:only-of-type {\n",
       "        vertical-align: middle;\n",
       "    }\n",
       "\n",
       "    .dataframe tbody tr th {\n",
       "        vertical-align: top;\n",
       "    }\n",
       "\n",
       "    .dataframe thead th {\n",
       "        text-align: right;\n",
       "    }\n",
       "</style>\n",
       "<table border=\"1\" class=\"dataframe\">\n",
       "  <thead>\n",
       "    <tr style=\"text-align: right;\">\n",
       "      <th></th>\n",
       "      <th></th>\n",
       "      <th>duration_sum</th>\n",
       "      <th>call_count</th>\n",
       "      <th>tariff_time_limit</th>\n",
       "      <th>time_excess</th>\n",
       "    </tr>\n",
       "    <tr>\n",
       "      <th>user_id</th>\n",
       "      <th>month_num</th>\n",
       "      <th></th>\n",
       "      <th></th>\n",
       "      <th></th>\n",
       "      <th></th>\n",
       "    </tr>\n",
       "  </thead>\n",
       "  <tbody>\n",
       "    <tr>\n",
       "      <th rowspan=\"5\" valign=\"top\">1000</th>\n",
       "      <th>5</th>\n",
       "      <td>159</td>\n",
       "      <td>17</td>\n",
       "      <td>3000</td>\n",
       "      <td>-2841</td>\n",
       "    </tr>\n",
       "    <tr>\n",
       "      <th>6</th>\n",
       "      <td>172</td>\n",
       "      <td>28</td>\n",
       "      <td>3000</td>\n",
       "      <td>-2828</td>\n",
       "    </tr>\n",
       "    <tr>\n",
       "      <th>7</th>\n",
       "      <td>340</td>\n",
       "      <td>41</td>\n",
       "      <td>3000</td>\n",
       "      <td>-2660</td>\n",
       "    </tr>\n",
       "    <tr>\n",
       "      <th>8</th>\n",
       "      <td>408</td>\n",
       "      <td>42</td>\n",
       "      <td>3000</td>\n",
       "      <td>-2592</td>\n",
       "    </tr>\n",
       "    <tr>\n",
       "      <th>9</th>\n",
       "      <td>466</td>\n",
       "      <td>46</td>\n",
       "      <td>3000</td>\n",
       "      <td>-2534</td>\n",
       "    </tr>\n",
       "    <tr>\n",
       "      <th>...</th>\n",
       "      <th>...</th>\n",
       "      <td>...</td>\n",
       "      <td>...</td>\n",
       "      <td>...</td>\n",
       "      <td>...</td>\n",
       "    </tr>\n",
       "    <tr>\n",
       "      <th>1498</th>\n",
       "      <th>10</th>\n",
       "      <td>247</td>\n",
       "      <td>30</td>\n",
       "      <td>500</td>\n",
       "      <td>-253</td>\n",
       "    </tr>\n",
       "    <tr>\n",
       "      <th rowspan=\"4\" valign=\"top\">1499</th>\n",
       "      <th>9</th>\n",
       "      <td>70</td>\n",
       "      <td>8</td>\n",
       "      <td>500</td>\n",
       "      <td>-430</td>\n",
       "    </tr>\n",
       "    <tr>\n",
       "      <th>10</th>\n",
       "      <td>449</td>\n",
       "      <td>44</td>\n",
       "      <td>500</td>\n",
       "      <td>-51</td>\n",
       "    </tr>\n",
       "    <tr>\n",
       "      <th>11</th>\n",
       "      <td>612</td>\n",
       "      <td>62</td>\n",
       "      <td>500</td>\n",
       "      <td>112</td>\n",
       "    </tr>\n",
       "    <tr>\n",
       "      <th>12</th>\n",
       "      <td>492</td>\n",
       "      <td>56</td>\n",
       "      <td>500</td>\n",
       "      <td>-8</td>\n",
       "    </tr>\n",
       "  </tbody>\n",
       "</table>\n",
       "<p>3168 rows × 4 columns</p>\n",
       "</div>"
      ],
      "text/plain": [
       "                   duration_sum  call_count  tariff_time_limit  time_excess\n",
       "user_id month_num                                                          \n",
       "1000    5                   159          17               3000        -2841\n",
       "        6                   172          28               3000        -2828\n",
       "        7                   340          41               3000        -2660\n",
       "        8                   408          42               3000        -2592\n",
       "        9                   466          46               3000        -2534\n",
       "...                         ...         ...                ...          ...\n",
       "1498    10                  247          30                500         -253\n",
       "1499    9                    70           8                500         -430\n",
       "        10                  449          44                500          -51\n",
       "        11                  612          62                500          112\n",
       "        12                  492          56                500           -8\n",
       "\n",
       "[3168 rows x 4 columns]"
      ]
     },
     "execution_count": 24,
     "metadata": {},
     "output_type": "execute_result"
    }
   ],
   "source": [
    "calls_pivot = (calls.pivot_table(index=['user_id', 'month_num'], values=['id', 'duration', 'tariff_time_limit'], \n",
    "                                 aggfunc={'id': 'count', 'duration': 'sum', 'tariff_time_limit': 'last'})\n",
    "                    .rename(columns={'duration': 'duration_sum', 'id': 'call_count'}))\n",
    "calls_pivot['time_excess'] = calls_pivot['duration_sum'] - calls_pivot['tariff_time_limit']\n",
    "calls_pivot"
   ]
  },
  {
   "cell_type": "code",
   "execution_count": 25,
   "metadata": {},
   "outputs": [
    {
     "data": {
      "text/html": [
       "<div>\n",
       "<style scoped>\n",
       "    .dataframe tbody tr th:only-of-type {\n",
       "        vertical-align: middle;\n",
       "    }\n",
       "\n",
       "    .dataframe tbody tr th {\n",
       "        vertical-align: top;\n",
       "    }\n",
       "\n",
       "    .dataframe thead th {\n",
       "        text-align: right;\n",
       "    }\n",
       "</style>\n",
       "<table border=\"1\" class=\"dataframe\">\n",
       "  <thead>\n",
       "    <tr style=\"text-align: right;\">\n",
       "      <th></th>\n",
       "      <th></th>\n",
       "      <th>duration_sum</th>\n",
       "      <th>call_count</th>\n",
       "      <th>tariff_time_limit</th>\n",
       "      <th>time_excess</th>\n",
       "      <th>calls_extra_net_worth</th>\n",
       "    </tr>\n",
       "    <tr>\n",
       "      <th>user_id</th>\n",
       "      <th>month_num</th>\n",
       "      <th></th>\n",
       "      <th></th>\n",
       "      <th></th>\n",
       "      <th></th>\n",
       "      <th></th>\n",
       "    </tr>\n",
       "  </thead>\n",
       "  <tbody>\n",
       "    <tr>\n",
       "      <th rowspan=\"5\" valign=\"top\">1000</th>\n",
       "      <th>5</th>\n",
       "      <td>159</td>\n",
       "      <td>17</td>\n",
       "      <td>3000</td>\n",
       "      <td>-2841</td>\n",
       "      <td>0</td>\n",
       "    </tr>\n",
       "    <tr>\n",
       "      <th>6</th>\n",
       "      <td>172</td>\n",
       "      <td>28</td>\n",
       "      <td>3000</td>\n",
       "      <td>-2828</td>\n",
       "      <td>0</td>\n",
       "    </tr>\n",
       "    <tr>\n",
       "      <th>7</th>\n",
       "      <td>340</td>\n",
       "      <td>41</td>\n",
       "      <td>3000</td>\n",
       "      <td>-2660</td>\n",
       "      <td>0</td>\n",
       "    </tr>\n",
       "    <tr>\n",
       "      <th>8</th>\n",
       "      <td>408</td>\n",
       "      <td>42</td>\n",
       "      <td>3000</td>\n",
       "      <td>-2592</td>\n",
       "      <td>0</td>\n",
       "    </tr>\n",
       "    <tr>\n",
       "      <th>9</th>\n",
       "      <td>466</td>\n",
       "      <td>46</td>\n",
       "      <td>3000</td>\n",
       "      <td>-2534</td>\n",
       "      <td>0</td>\n",
       "    </tr>\n",
       "    <tr>\n",
       "      <th>...</th>\n",
       "      <th>...</th>\n",
       "      <td>...</td>\n",
       "      <td>...</td>\n",
       "      <td>...</td>\n",
       "      <td>...</td>\n",
       "      <td>...</td>\n",
       "    </tr>\n",
       "    <tr>\n",
       "      <th>1498</th>\n",
       "      <th>10</th>\n",
       "      <td>247</td>\n",
       "      <td>30</td>\n",
       "      <td>500</td>\n",
       "      <td>-253</td>\n",
       "      <td>0</td>\n",
       "    </tr>\n",
       "    <tr>\n",
       "      <th rowspan=\"4\" valign=\"top\">1499</th>\n",
       "      <th>9</th>\n",
       "      <td>70</td>\n",
       "      <td>8</td>\n",
       "      <td>500</td>\n",
       "      <td>-430</td>\n",
       "      <td>0</td>\n",
       "    </tr>\n",
       "    <tr>\n",
       "      <th>10</th>\n",
       "      <td>449</td>\n",
       "      <td>44</td>\n",
       "      <td>500</td>\n",
       "      <td>-51</td>\n",
       "      <td>0</td>\n",
       "    </tr>\n",
       "    <tr>\n",
       "      <th>11</th>\n",
       "      <td>612</td>\n",
       "      <td>62</td>\n",
       "      <td>500</td>\n",
       "      <td>112</td>\n",
       "      <td>336</td>\n",
       "    </tr>\n",
       "    <tr>\n",
       "      <th>12</th>\n",
       "      <td>492</td>\n",
       "      <td>56</td>\n",
       "      <td>500</td>\n",
       "      <td>-8</td>\n",
       "      <td>0</td>\n",
       "    </tr>\n",
       "  </tbody>\n",
       "</table>\n",
       "<p>3168 rows × 5 columns</p>\n",
       "</div>"
      ],
      "text/plain": [
       "                   duration_sum  call_count  tariff_time_limit  time_excess  \\\n",
       "user_id month_num                                                             \n",
       "1000    5                   159          17               3000        -2841   \n",
       "        6                   172          28               3000        -2828   \n",
       "        7                   340          41               3000        -2660   \n",
       "        8                   408          42               3000        -2592   \n",
       "        9                   466          46               3000        -2534   \n",
       "...                         ...         ...                ...          ...   \n",
       "1498    10                  247          30                500         -253   \n",
       "1499    9                    70           8                500         -430   \n",
       "        10                  449          44                500          -51   \n",
       "        11                  612          62                500          112   \n",
       "        12                  492          56                500           -8   \n",
       "\n",
       "                   calls_extra_net_worth  \n",
       "user_id month_num                         \n",
       "1000    5                              0  \n",
       "        6                              0  \n",
       "        7                              0  \n",
       "        8                              0  \n",
       "        9                              0  \n",
       "...                                  ...  \n",
       "1498    10                             0  \n",
       "1499    9                              0  \n",
       "        10                             0  \n",
       "        11                           336  \n",
       "        12                             0  \n",
       "\n",
       "[3168 rows x 5 columns]"
      ]
     },
     "execution_count": 25,
     "metadata": {},
     "output_type": "execute_result"
    }
   ],
   "source": [
    "def calls_extra_net_worth(row):\n",
    "    \"\"\"\n",
    "    Функция определяет дополнительную выручку от звонков для конкретного пользователя за конкретный месяц. \n",
    "    \n",
    "    row: строка датасета calls_pivot\n",
    "    return: значение дополнительной месячной прибыли от звонков\n",
    "    \"\"\"\n",
    "    if row['time_excess'] <= 0:\n",
    "        return 0\n",
    "    elif row['time_excess'] > 0:\n",
    "        if row['tariff_time_limit'] == 500:\n",
    "            return 3 * row['time_excess']\n",
    "        elif row['tariff_time_limit'] == 3000:\n",
    "            return row['time_excess']\n",
    "\n",
    "\n",
    "calls_pivot['calls_extra_net_worth'] = calls_pivot.apply(calls_extra_net_worth, axis=1)\n",
    "calls_pivot"
   ]
  },
  {
   "cell_type": "markdown",
   "metadata": {},
   "source": [
    "### Количество отправленных сообщений по месяцам. "
   ]
  },
  {
   "cell_type": "markdown",
   "metadata": {},
   "source": [
    "__Последовательность действий:__\n",
    "1. В таблицу _messages_ добавляется информация о тарифе пользователя\n",
    "2. В таблицу вносится информация о лимите сообщений (колонка _tariff_msg_limit_)\n",
    "3. Таблица _messages_ группируется по пользователям, затем по месяцам, в полученный датасет вносятся данные по количеству сообщений (колонка _msg_count_)\n",
    "4. В сгруппированную таблицу добавляются колонки с превышением лимита (отрицательное превышение = отсутствие превышения лимита, колонка _msg_excess_)\n",
    "5. Исходя из превышения лимита расчитывается дополнительная прибыль (колонка _msg_extra_net_worth_). "
   ]
  },
  {
   "cell_type": "code",
   "execution_count": 26,
   "metadata": {},
   "outputs": [
    {
     "data": {
      "text/html": [
       "<div>\n",
       "<style scoped>\n",
       "    .dataframe tbody tr th:only-of-type {\n",
       "        vertical-align: middle;\n",
       "    }\n",
       "\n",
       "    .dataframe tbody tr th {\n",
       "        vertical-align: top;\n",
       "    }\n",
       "\n",
       "    .dataframe thead th {\n",
       "        text-align: right;\n",
       "    }\n",
       "</style>\n",
       "<table border=\"1\" class=\"dataframe\">\n",
       "  <thead>\n",
       "    <tr style=\"text-align: right;\">\n",
       "      <th></th>\n",
       "      <th>id</th>\n",
       "      <th>message_date</th>\n",
       "      <th>user_id</th>\n",
       "      <th>month_num</th>\n",
       "      <th>month_name</th>\n",
       "      <th>tariff</th>\n",
       "      <th>tariff_msg_limit</th>\n",
       "    </tr>\n",
       "  </thead>\n",
       "  <tbody>\n",
       "    <tr>\n",
       "      <th>0</th>\n",
       "      <td>1000_0</td>\n",
       "      <td>2018-06-27</td>\n",
       "      <td>1000</td>\n",
       "      <td>6</td>\n",
       "      <td>June</td>\n",
       "      <td>ultra</td>\n",
       "      <td>1000</td>\n",
       "    </tr>\n",
       "    <tr>\n",
       "      <th>1</th>\n",
       "      <td>1000_1</td>\n",
       "      <td>2018-10-08</td>\n",
       "      <td>1000</td>\n",
       "      <td>10</td>\n",
       "      <td>October</td>\n",
       "      <td>ultra</td>\n",
       "      <td>1000</td>\n",
       "    </tr>\n",
       "    <tr>\n",
       "      <th>2</th>\n",
       "      <td>1000_2</td>\n",
       "      <td>2018-08-04</td>\n",
       "      <td>1000</td>\n",
       "      <td>8</td>\n",
       "      <td>August</td>\n",
       "      <td>ultra</td>\n",
       "      <td>1000</td>\n",
       "    </tr>\n",
       "    <tr>\n",
       "      <th>3</th>\n",
       "      <td>1000_3</td>\n",
       "      <td>2018-06-16</td>\n",
       "      <td>1000</td>\n",
       "      <td>6</td>\n",
       "      <td>June</td>\n",
       "      <td>ultra</td>\n",
       "      <td>1000</td>\n",
       "    </tr>\n",
       "    <tr>\n",
       "      <th>4</th>\n",
       "      <td>1000_4</td>\n",
       "      <td>2018-12-05</td>\n",
       "      <td>1000</td>\n",
       "      <td>12</td>\n",
       "      <td>December</td>\n",
       "      <td>ultra</td>\n",
       "      <td>1000</td>\n",
       "    </tr>\n",
       "  </tbody>\n",
       "</table>\n",
       "</div>"
      ],
      "text/plain": [
       "       id message_date  user_id  month_num month_name tariff  tariff_msg_limit\n",
       "0  1000_0   2018-06-27     1000          6       June  ultra              1000\n",
       "1  1000_1   2018-10-08     1000         10    October  ultra              1000\n",
       "2  1000_2   2018-08-04     1000          8     August  ultra              1000\n",
       "3  1000_3   2018-06-16     1000          6       June  ultra              1000\n",
       "4  1000_4   2018-12-05     1000         12   December  ultra              1000"
      ]
     },
     "execution_count": 26,
     "metadata": {},
     "output_type": "execute_result"
    }
   ],
   "source": [
    "def tariff_msg_lim(row):\n",
    "    if row['tariff'] == 'ultra':\n",
    "        return 1000\n",
    "    else: \n",
    "        return 50\n",
    "\n",
    "\n",
    "messages = messages.merge(users[['user_id', 'tariff']], how='left', on='user_id')\n",
    "messages['tariff_msg_limit'] = messages.apply(tariff_msg_lim, axis=1)\n",
    "messages.head()"
   ]
  },
  {
   "cell_type": "markdown",
   "metadata": {},
   "source": [
    "Итог: датафрейм ___messages_pivot___ (описание колонок - выше)"
   ]
  },
  {
   "cell_type": "code",
   "execution_count": 27,
   "metadata": {},
   "outputs": [
    {
     "data": {
      "text/html": [
       "<div>\n",
       "<style scoped>\n",
       "    .dataframe tbody tr th:only-of-type {\n",
       "        vertical-align: middle;\n",
       "    }\n",
       "\n",
       "    .dataframe tbody tr th {\n",
       "        vertical-align: top;\n",
       "    }\n",
       "\n",
       "    .dataframe thead th {\n",
       "        text-align: right;\n",
       "    }\n",
       "</style>\n",
       "<table border=\"1\" class=\"dataframe\">\n",
       "  <thead>\n",
       "    <tr style=\"text-align: right;\">\n",
       "      <th></th>\n",
       "      <th></th>\n",
       "      <th>message_count</th>\n",
       "      <th>tariff_msg_limit</th>\n",
       "      <th>msg_excess</th>\n",
       "      <th>msg_extra_net_worth</th>\n",
       "    </tr>\n",
       "    <tr>\n",
       "      <th>user_id</th>\n",
       "      <th>month_num</th>\n",
       "      <th></th>\n",
       "      <th></th>\n",
       "      <th></th>\n",
       "      <th></th>\n",
       "    </tr>\n",
       "  </thead>\n",
       "  <tbody>\n",
       "    <tr>\n",
       "      <th rowspan=\"5\" valign=\"top\">1000</th>\n",
       "      <th>5</th>\n",
       "      <td>22</td>\n",
       "      <td>1000</td>\n",
       "      <td>-978</td>\n",
       "      <td>0</td>\n",
       "    </tr>\n",
       "    <tr>\n",
       "      <th>6</th>\n",
       "      <td>60</td>\n",
       "      <td>1000</td>\n",
       "      <td>-940</td>\n",
       "      <td>0</td>\n",
       "    </tr>\n",
       "    <tr>\n",
       "      <th>7</th>\n",
       "      <td>75</td>\n",
       "      <td>1000</td>\n",
       "      <td>-925</td>\n",
       "      <td>0</td>\n",
       "    </tr>\n",
       "    <tr>\n",
       "      <th>8</th>\n",
       "      <td>81</td>\n",
       "      <td>1000</td>\n",
       "      <td>-919</td>\n",
       "      <td>0</td>\n",
       "    </tr>\n",
       "    <tr>\n",
       "      <th>9</th>\n",
       "      <td>57</td>\n",
       "      <td>1000</td>\n",
       "      <td>-943</td>\n",
       "      <td>0</td>\n",
       "    </tr>\n",
       "    <tr>\n",
       "      <th>...</th>\n",
       "      <th>...</th>\n",
       "      <td>...</td>\n",
       "      <td>...</td>\n",
       "      <td>...</td>\n",
       "      <td>...</td>\n",
       "    </tr>\n",
       "    <tr>\n",
       "      <th>1498</th>\n",
       "      <th>10</th>\n",
       "      <td>42</td>\n",
       "      <td>50</td>\n",
       "      <td>-8</td>\n",
       "      <td>0</td>\n",
       "    </tr>\n",
       "    <tr>\n",
       "      <th rowspan=\"4\" valign=\"top\">1499</th>\n",
       "      <th>9</th>\n",
       "      <td>11</td>\n",
       "      <td>50</td>\n",
       "      <td>-39</td>\n",
       "      <td>0</td>\n",
       "    </tr>\n",
       "    <tr>\n",
       "      <th>10</th>\n",
       "      <td>48</td>\n",
       "      <td>50</td>\n",
       "      <td>-2</td>\n",
       "      <td>0</td>\n",
       "    </tr>\n",
       "    <tr>\n",
       "      <th>11</th>\n",
       "      <td>59</td>\n",
       "      <td>50</td>\n",
       "      <td>9</td>\n",
       "      <td>27</td>\n",
       "    </tr>\n",
       "    <tr>\n",
       "      <th>12</th>\n",
       "      <td>66</td>\n",
       "      <td>50</td>\n",
       "      <td>16</td>\n",
       "      <td>48</td>\n",
       "    </tr>\n",
       "  </tbody>\n",
       "</table>\n",
       "<p>2717 rows × 4 columns</p>\n",
       "</div>"
      ],
      "text/plain": [
       "                   message_count  tariff_msg_limit  msg_excess  \\\n",
       "user_id month_num                                                \n",
       "1000    5                     22              1000        -978   \n",
       "        6                     60              1000        -940   \n",
       "        7                     75              1000        -925   \n",
       "        8                     81              1000        -919   \n",
       "        9                     57              1000        -943   \n",
       "...                          ...               ...         ...   \n",
       "1498    10                    42                50          -8   \n",
       "1499    9                     11                50         -39   \n",
       "        10                    48                50          -2   \n",
       "        11                    59                50           9   \n",
       "        12                    66                50          16   \n",
       "\n",
       "                   msg_extra_net_worth  \n",
       "user_id month_num                       \n",
       "1000    5                            0  \n",
       "        6                            0  \n",
       "        7                            0  \n",
       "        8                            0  \n",
       "        9                            0  \n",
       "...                                ...  \n",
       "1498    10                           0  \n",
       "1499    9                            0  \n",
       "        10                           0  \n",
       "        11                          27  \n",
       "        12                          48  \n",
       "\n",
       "[2717 rows x 4 columns]"
      ]
     },
     "execution_count": 27,
     "metadata": {},
     "output_type": "execute_result"
    }
   ],
   "source": [
    "def msg_extra_net_worth(row):\n",
    "    if row['msg_excess'] <= 0:\n",
    "        return 0\n",
    "    elif row['msg_excess'] > 0:\n",
    "        if row['tariff_msg_limit'] == 50:\n",
    "            return 3 * row['msg_excess']\n",
    "        elif row['tariff_msg_limit'] == 1000:\n",
    "            return row['msg_excess']\n",
    "\n",
    "\n",
    "messages_pivot = (messages.pivot_table(index=['user_id', 'month_num'], values=['id', 'tariff_msg_limit'], \n",
    "                                       aggfunc={'id': 'count', 'tariff_msg_limit': 'last'})\n",
    "                          .rename(columns={'id': 'message_count'}))\n",
    "messages_pivot['msg_excess'] = messages_pivot['message_count'] - messages_pivot['tariff_msg_limit']\n",
    "messages_pivot['msg_extra_net_worth'] = messages_pivot.apply(msg_extra_net_worth, axis=1)\n",
    "messages_pivot"
   ]
  },
  {
   "cell_type": "markdown",
   "metadata": {},
   "source": [
    "### Объем израсходованного интернет-трафика по месяцам. "
   ]
  },
  {
   "cell_type": "markdown",
   "metadata": {},
   "source": [
    "Расчет дополнительной прибыли от интернет трафика проходит аналогично звонкам и сообщениям.  \n",
    "При выполнении этого пункта будет использоваться датасет _internet_, содержащий нулевые значения в поле продолжительности звонка (_duration_).  \n",
    "__Последовательность действий:__\n",
    "1. В таблицу _internet_ добавляется информация о тарифе пользователя\n",
    "2. В таблицу вносится информация о лимите мегабайт (колонка _tariff_mb_limit_)\n",
    "3. Таблица _internet_ группируется по пользователям, затем по месяцам, в полученный датасет вносятся данные по объему израсходованного трафика (колонка _mb_amount_)\n",
    "4. В сгруппированную таблицу добавляются колонки с превышением лимита (отрицательное превышение = отсутствие превышения лимита, колонка _mb_excess_)\n",
    "5. Исходя из превышения лимита расчитывается дополнительная прибыль (колонка _internet_extra_net_worth_).  "
   ]
  },
  {
   "cell_type": "code",
   "execution_count": 28,
   "metadata": {},
   "outputs": [
    {
     "data": {
      "text/html": [
       "<div>\n",
       "<style scoped>\n",
       "    .dataframe tbody tr th:only-of-type {\n",
       "        vertical-align: middle;\n",
       "    }\n",
       "\n",
       "    .dataframe tbody tr th {\n",
       "        vertical-align: top;\n",
       "    }\n",
       "\n",
       "    .dataframe thead th {\n",
       "        text-align: right;\n",
       "    }\n",
       "</style>\n",
       "<table border=\"1\" class=\"dataframe\">\n",
       "  <thead>\n",
       "    <tr style=\"text-align: right;\">\n",
       "      <th></th>\n",
       "      <th>id</th>\n",
       "      <th>mb_used</th>\n",
       "      <th>session_date</th>\n",
       "      <th>user_id</th>\n",
       "      <th>month_num</th>\n",
       "      <th>month_name</th>\n",
       "      <th>tariff</th>\n",
       "      <th>tariff_mb_limit</th>\n",
       "    </tr>\n",
       "  </thead>\n",
       "  <tbody>\n",
       "    <tr>\n",
       "      <th>0</th>\n",
       "      <td>1000_0</td>\n",
       "      <td>113</td>\n",
       "      <td>2018-11-25</td>\n",
       "      <td>1000</td>\n",
       "      <td>11</td>\n",
       "      <td>November</td>\n",
       "      <td>ultra</td>\n",
       "      <td>30720</td>\n",
       "    </tr>\n",
       "    <tr>\n",
       "      <th>1</th>\n",
       "      <td>1000_1</td>\n",
       "      <td>1053</td>\n",
       "      <td>2018-09-07</td>\n",
       "      <td>1000</td>\n",
       "      <td>9</td>\n",
       "      <td>September</td>\n",
       "      <td>ultra</td>\n",
       "      <td>30720</td>\n",
       "    </tr>\n",
       "    <tr>\n",
       "      <th>2</th>\n",
       "      <td>1000_2</td>\n",
       "      <td>1198</td>\n",
       "      <td>2018-06-25</td>\n",
       "      <td>1000</td>\n",
       "      <td>6</td>\n",
       "      <td>June</td>\n",
       "      <td>ultra</td>\n",
       "      <td>30720</td>\n",
       "    </tr>\n",
       "    <tr>\n",
       "      <th>3</th>\n",
       "      <td>1000_3</td>\n",
       "      <td>551</td>\n",
       "      <td>2018-08-22</td>\n",
       "      <td>1000</td>\n",
       "      <td>8</td>\n",
       "      <td>August</td>\n",
       "      <td>ultra</td>\n",
       "      <td>30720</td>\n",
       "    </tr>\n",
       "    <tr>\n",
       "      <th>4</th>\n",
       "      <td>1000_4</td>\n",
       "      <td>303</td>\n",
       "      <td>2018-09-24</td>\n",
       "      <td>1000</td>\n",
       "      <td>9</td>\n",
       "      <td>September</td>\n",
       "      <td>ultra</td>\n",
       "      <td>30720</td>\n",
       "    </tr>\n",
       "  </tbody>\n",
       "</table>\n",
       "</div>"
      ],
      "text/plain": [
       "       id  mb_used session_date  user_id  month_num month_name tariff  \\\n",
       "0  1000_0      113   2018-11-25     1000         11   November  ultra   \n",
       "1  1000_1     1053   2018-09-07     1000          9  September  ultra   \n",
       "2  1000_2     1198   2018-06-25     1000          6       June  ultra   \n",
       "3  1000_3      551   2018-08-22     1000          8     August  ultra   \n",
       "4  1000_4      303   2018-09-24     1000          9  September  ultra   \n",
       "\n",
       "   tariff_mb_limit  \n",
       "0            30720  \n",
       "1            30720  \n",
       "2            30720  \n",
       "3            30720  \n",
       "4            30720  "
      ]
     },
     "execution_count": 28,
     "metadata": {},
     "output_type": "execute_result"
    }
   ],
   "source": [
    "def tariff_mb_lim(row):\n",
    "    if row['tariff'] == 'ultra':\n",
    "        return 30 * 1024\n",
    "    else: \n",
    "        return 15 * 1024\n",
    "\n",
    "\n",
    "internet = internet.merge(users[['user_id', 'tariff']], how='left', on='user_id')\n",
    "internet['tariff_mb_limit'] = internet.apply(tariff_mb_lim, axis=1)\n",
    "internet.head()"
   ]
  },
  {
   "cell_type": "markdown",
   "metadata": {},
   "source": [
    "Итог: датасет ___internet_pivot___ (описание колонок - выше)"
   ]
  },
  {
   "cell_type": "code",
   "execution_count": 29,
   "metadata": {},
   "outputs": [
    {
     "data": {
      "text/html": [
       "<div>\n",
       "<style scoped>\n",
       "    .dataframe tbody tr th:only-of-type {\n",
       "        vertical-align: middle;\n",
       "    }\n",
       "\n",
       "    .dataframe tbody tr th {\n",
       "        vertical-align: top;\n",
       "    }\n",
       "\n",
       "    .dataframe thead th {\n",
       "        text-align: right;\n",
       "    }\n",
       "</style>\n",
       "<table border=\"1\" class=\"dataframe\">\n",
       "  <thead>\n",
       "    <tr style=\"text-align: right;\">\n",
       "      <th></th>\n",
       "      <th></th>\n",
       "      <th>mb_amount</th>\n",
       "      <th>tariff_mb_limit</th>\n",
       "      <th>mb_excess</th>\n",
       "      <th>mb_extra_net_worth</th>\n",
       "    </tr>\n",
       "    <tr>\n",
       "      <th>user_id</th>\n",
       "      <th>month_num</th>\n",
       "      <th></th>\n",
       "      <th></th>\n",
       "      <th></th>\n",
       "      <th></th>\n",
       "    </tr>\n",
       "  </thead>\n",
       "  <tbody>\n",
       "    <tr>\n",
       "      <th rowspan=\"5\" valign=\"top\">1000</th>\n",
       "      <th>5</th>\n",
       "      <td>2256</td>\n",
       "      <td>30720</td>\n",
       "      <td>-28464</td>\n",
       "      <td>0.0</td>\n",
       "    </tr>\n",
       "    <tr>\n",
       "      <th>6</th>\n",
       "      <td>23257</td>\n",
       "      <td>30720</td>\n",
       "      <td>-7463</td>\n",
       "      <td>0.0</td>\n",
       "    </tr>\n",
       "    <tr>\n",
       "      <th>7</th>\n",
       "      <td>14016</td>\n",
       "      <td>30720</td>\n",
       "      <td>-16704</td>\n",
       "      <td>0.0</td>\n",
       "    </tr>\n",
       "    <tr>\n",
       "      <th>8</th>\n",
       "      <td>14070</td>\n",
       "      <td>30720</td>\n",
       "      <td>-16650</td>\n",
       "      <td>0.0</td>\n",
       "    </tr>\n",
       "    <tr>\n",
       "      <th>9</th>\n",
       "      <td>14581</td>\n",
       "      <td>30720</td>\n",
       "      <td>-16139</td>\n",
       "      <td>0.0</td>\n",
       "    </tr>\n",
       "    <tr>\n",
       "      <th>...</th>\n",
       "      <th>...</th>\n",
       "      <td>...</td>\n",
       "      <td>...</td>\n",
       "      <td>...</td>\n",
       "      <td>...</td>\n",
       "    </tr>\n",
       "    <tr>\n",
       "      <th>1498</th>\n",
       "      <th>10</th>\n",
       "      <td>20604</td>\n",
       "      <td>15360</td>\n",
       "      <td>5244</td>\n",
       "      <td>1024.2</td>\n",
       "    </tr>\n",
       "    <tr>\n",
       "      <th rowspan=\"4\" valign=\"top\">1499</th>\n",
       "      <th>9</th>\n",
       "      <td>1848</td>\n",
       "      <td>15360</td>\n",
       "      <td>-13512</td>\n",
       "      <td>0.0</td>\n",
       "    </tr>\n",
       "    <tr>\n",
       "      <th>10</th>\n",
       "      <td>17809</td>\n",
       "      <td>15360</td>\n",
       "      <td>2449</td>\n",
       "      <td>478.3</td>\n",
       "    </tr>\n",
       "    <tr>\n",
       "      <th>11</th>\n",
       "      <td>17984</td>\n",
       "      <td>15360</td>\n",
       "      <td>2624</td>\n",
       "      <td>512.5</td>\n",
       "    </tr>\n",
       "    <tr>\n",
       "      <th>12</th>\n",
       "      <td>13077</td>\n",
       "      <td>15360</td>\n",
       "      <td>-2283</td>\n",
       "      <td>0.0</td>\n",
       "    </tr>\n",
       "  </tbody>\n",
       "</table>\n",
       "<p>3201 rows × 4 columns</p>\n",
       "</div>"
      ],
      "text/plain": [
       "                   mb_amount  tariff_mb_limit  mb_excess  mb_extra_net_worth\n",
       "user_id month_num                                                           \n",
       "1000    5               2256            30720     -28464                 0.0\n",
       "        6              23257            30720      -7463                 0.0\n",
       "        7              14016            30720     -16704                 0.0\n",
       "        8              14070            30720     -16650                 0.0\n",
       "        9              14581            30720     -16139                 0.0\n",
       "...                      ...              ...        ...                 ...\n",
       "1498    10             20604            15360       5244              1024.2\n",
       "1499    9               1848            15360     -13512                 0.0\n",
       "        10             17809            15360       2449               478.3\n",
       "        11             17984            15360       2624               512.5\n",
       "        12             13077            15360      -2283                 0.0\n",
       "\n",
       "[3201 rows x 4 columns]"
      ]
     },
     "execution_count": 29,
     "metadata": {},
     "output_type": "execute_result"
    }
   ],
   "source": [
    "def mb_extra_net_worth(row):\n",
    "    if row['mb_excess'] <= 0:\n",
    "        return 0\n",
    "    elif row['mb_excess'] > 0:\n",
    "        if row['tariff_mb_limit'] == 15 * 1024:\n",
    "            return round(200 * row['mb_excess'] / 1024, 1)\n",
    "        elif row['tariff_mb_limit'] == 30 * 1024:\n",
    "            return round(150 * row['mb_excess'] / 1024, 1)\n",
    "\n",
    "\n",
    "internet_pivot = (internet.pivot_table(index=['user_id', 'month_num'], values=['mb_used', 'tariff_mb_limit'], \n",
    "                                       aggfunc={'mb_used': 'sum', 'tariff_mb_limit': 'last'})\n",
    "                          .rename(columns={'mb_used': 'mb_amount'}))\n",
    "internet_pivot['mb_excess'] = internet_pivot['mb_amount'] - internet_pivot['tariff_mb_limit']\n",
    "internet_pivot['mb_extra_net_worth'] = internet_pivot.apply(mb_extra_net_worth, axis=1)\n",
    "internet_pivot"
   ]
  },
  {
   "cell_type": "markdown",
   "metadata": {},
   "source": [
    "### Суммарная дополнительная прибыль с каждого пользователя\n",
    "Значения дополнительной прибыли по каждому из источников будут просуммированы и занесены в датафрейм ___total_pivot___"
   ]
  },
  {
   "cell_type": "code",
   "execution_count": 30,
   "metadata": {},
   "outputs": [
    {
     "data": {
      "text/html": [
       "<div>\n",
       "<style scoped>\n",
       "    .dataframe tbody tr th:only-of-type {\n",
       "        vertical-align: middle;\n",
       "    }\n",
       "\n",
       "    .dataframe tbody tr th {\n",
       "        vertical-align: top;\n",
       "    }\n",
       "\n",
       "    .dataframe thead th {\n",
       "        text-align: right;\n",
       "    }\n",
       "</style>\n",
       "<table border=\"1\" class=\"dataframe\">\n",
       "  <thead>\n",
       "    <tr style=\"text-align: right;\">\n",
       "      <th></th>\n",
       "      <th></th>\n",
       "      <th>minutes_cnt</th>\n",
       "      <th>rub_monthly_fee</th>\n",
       "      <th>calls_extra_net_worth</th>\n",
       "      <th>msg_extra_net_worth</th>\n",
       "      <th>msg_cnt</th>\n",
       "      <th>mb_extra_net_worth</th>\n",
       "      <th>mb_cnt</th>\n",
       "      <th>total_extra_net_worth</th>\n",
       "      <th>gb_cnt</th>\n",
       "      <th>total_net_worth</th>\n",
       "      <th>tariff</th>\n",
       "    </tr>\n",
       "    <tr>\n",
       "      <th>user_id</th>\n",
       "      <th>month_num</th>\n",
       "      <th></th>\n",
       "      <th></th>\n",
       "      <th></th>\n",
       "      <th></th>\n",
       "      <th></th>\n",
       "      <th></th>\n",
       "      <th></th>\n",
       "      <th></th>\n",
       "      <th></th>\n",
       "      <th></th>\n",
       "      <th></th>\n",
       "    </tr>\n",
       "  </thead>\n",
       "  <tbody>\n",
       "    <tr>\n",
       "      <th rowspan=\"5\" valign=\"top\">1000</th>\n",
       "      <th>5</th>\n",
       "      <td>159.0</td>\n",
       "      <td>1950.0</td>\n",
       "      <td>0.0</td>\n",
       "      <td>0.0</td>\n",
       "      <td>22.0</td>\n",
       "      <td>0.0</td>\n",
       "      <td>2256.0</td>\n",
       "      <td>0.0</td>\n",
       "      <td>2.20</td>\n",
       "      <td>1950.0</td>\n",
       "      <td>ultra</td>\n",
       "    </tr>\n",
       "    <tr>\n",
       "      <th>6</th>\n",
       "      <td>172.0</td>\n",
       "      <td>1950.0</td>\n",
       "      <td>0.0</td>\n",
       "      <td>0.0</td>\n",
       "      <td>60.0</td>\n",
       "      <td>0.0</td>\n",
       "      <td>23257.0</td>\n",
       "      <td>0.0</td>\n",
       "      <td>22.71</td>\n",
       "      <td>1950.0</td>\n",
       "      <td>ultra</td>\n",
       "    </tr>\n",
       "    <tr>\n",
       "      <th>7</th>\n",
       "      <td>340.0</td>\n",
       "      <td>1950.0</td>\n",
       "      <td>0.0</td>\n",
       "      <td>0.0</td>\n",
       "      <td>75.0</td>\n",
       "      <td>0.0</td>\n",
       "      <td>14016.0</td>\n",
       "      <td>0.0</td>\n",
       "      <td>13.69</td>\n",
       "      <td>1950.0</td>\n",
       "      <td>ultra</td>\n",
       "    </tr>\n",
       "    <tr>\n",
       "      <th>8</th>\n",
       "      <td>408.0</td>\n",
       "      <td>1950.0</td>\n",
       "      <td>0.0</td>\n",
       "      <td>0.0</td>\n",
       "      <td>81.0</td>\n",
       "      <td>0.0</td>\n",
       "      <td>14070.0</td>\n",
       "      <td>0.0</td>\n",
       "      <td>13.74</td>\n",
       "      <td>1950.0</td>\n",
       "      <td>ultra</td>\n",
       "    </tr>\n",
       "    <tr>\n",
       "      <th>9</th>\n",
       "      <td>466.0</td>\n",
       "      <td>1950.0</td>\n",
       "      <td>0.0</td>\n",
       "      <td>0.0</td>\n",
       "      <td>57.0</td>\n",
       "      <td>0.0</td>\n",
       "      <td>14581.0</td>\n",
       "      <td>0.0</td>\n",
       "      <td>14.24</td>\n",
       "      <td>1950.0</td>\n",
       "      <td>ultra</td>\n",
       "    </tr>\n",
       "    <tr>\n",
       "      <th>...</th>\n",
       "      <th>...</th>\n",
       "      <td>...</td>\n",
       "      <td>...</td>\n",
       "      <td>...</td>\n",
       "      <td>...</td>\n",
       "      <td>...</td>\n",
       "      <td>...</td>\n",
       "      <td>...</td>\n",
       "      <td>...</td>\n",
       "      <td>...</td>\n",
       "      <td>...</td>\n",
       "      <td>...</td>\n",
       "    </tr>\n",
       "    <tr>\n",
       "      <th>1498</th>\n",
       "      <th>10</th>\n",
       "      <td>247.0</td>\n",
       "      <td>550.0</td>\n",
       "      <td>0.0</td>\n",
       "      <td>0.0</td>\n",
       "      <td>42.0</td>\n",
       "      <td>1024.2</td>\n",
       "      <td>20604.0</td>\n",
       "      <td>1024.2</td>\n",
       "      <td>20.12</td>\n",
       "      <td>1574.2</td>\n",
       "      <td>smart</td>\n",
       "    </tr>\n",
       "    <tr>\n",
       "      <th rowspan=\"4\" valign=\"top\">1499</th>\n",
       "      <th>9</th>\n",
       "      <td>70.0</td>\n",
       "      <td>550.0</td>\n",
       "      <td>0.0</td>\n",
       "      <td>0.0</td>\n",
       "      <td>11.0</td>\n",
       "      <td>0.0</td>\n",
       "      <td>1848.0</td>\n",
       "      <td>0.0</td>\n",
       "      <td>1.80</td>\n",
       "      <td>550.0</td>\n",
       "      <td>smart</td>\n",
       "    </tr>\n",
       "    <tr>\n",
       "      <th>10</th>\n",
       "      <td>449.0</td>\n",
       "      <td>550.0</td>\n",
       "      <td>0.0</td>\n",
       "      <td>0.0</td>\n",
       "      <td>48.0</td>\n",
       "      <td>478.3</td>\n",
       "      <td>17809.0</td>\n",
       "      <td>478.3</td>\n",
       "      <td>17.39</td>\n",
       "      <td>1028.3</td>\n",
       "      <td>smart</td>\n",
       "    </tr>\n",
       "    <tr>\n",
       "      <th>11</th>\n",
       "      <td>612.0</td>\n",
       "      <td>550.0</td>\n",
       "      <td>336.0</td>\n",
       "      <td>27.0</td>\n",
       "      <td>59.0</td>\n",
       "      <td>512.5</td>\n",
       "      <td>17984.0</td>\n",
       "      <td>875.5</td>\n",
       "      <td>17.56</td>\n",
       "      <td>1425.5</td>\n",
       "      <td>smart</td>\n",
       "    </tr>\n",
       "    <tr>\n",
       "      <th>12</th>\n",
       "      <td>492.0</td>\n",
       "      <td>550.0</td>\n",
       "      <td>0.0</td>\n",
       "      <td>48.0</td>\n",
       "      <td>66.0</td>\n",
       "      <td>0.0</td>\n",
       "      <td>13077.0</td>\n",
       "      <td>48.0</td>\n",
       "      <td>12.77</td>\n",
       "      <td>598.0</td>\n",
       "      <td>smart</td>\n",
       "    </tr>\n",
       "  </tbody>\n",
       "</table>\n",
       "<p>3214 rows × 11 columns</p>\n",
       "</div>"
      ],
      "text/plain": [
       "                   minutes_cnt  rub_monthly_fee  calls_extra_net_worth  \\\n",
       "user_id month_num                                                        \n",
       "1000    5                159.0           1950.0                    0.0   \n",
       "        6                172.0           1950.0                    0.0   \n",
       "        7                340.0           1950.0                    0.0   \n",
       "        8                408.0           1950.0                    0.0   \n",
       "        9                466.0           1950.0                    0.0   \n",
       "...                        ...              ...                    ...   \n",
       "1498    10               247.0            550.0                    0.0   \n",
       "1499    9                 70.0            550.0                    0.0   \n",
       "        10               449.0            550.0                    0.0   \n",
       "        11               612.0            550.0                  336.0   \n",
       "        12               492.0            550.0                    0.0   \n",
       "\n",
       "                   msg_extra_net_worth  msg_cnt  mb_extra_net_worth   mb_cnt  \\\n",
       "user_id month_num                                                              \n",
       "1000    5                          0.0     22.0                 0.0   2256.0   \n",
       "        6                          0.0     60.0                 0.0  23257.0   \n",
       "        7                          0.0     75.0                 0.0  14016.0   \n",
       "        8                          0.0     81.0                 0.0  14070.0   \n",
       "        9                          0.0     57.0                 0.0  14581.0   \n",
       "...                                ...      ...                 ...      ...   \n",
       "1498    10                         0.0     42.0              1024.2  20604.0   \n",
       "1499    9                          0.0     11.0                 0.0   1848.0   \n",
       "        10                         0.0     48.0               478.3  17809.0   \n",
       "        11                        27.0     59.0               512.5  17984.0   \n",
       "        12                        48.0     66.0                 0.0  13077.0   \n",
       "\n",
       "                   total_extra_net_worth  gb_cnt  total_net_worth tariff  \n",
       "user_id month_num                                                         \n",
       "1000    5                            0.0    2.20           1950.0  ultra  \n",
       "        6                            0.0   22.71           1950.0  ultra  \n",
       "        7                            0.0   13.69           1950.0  ultra  \n",
       "        8                            0.0   13.74           1950.0  ultra  \n",
       "        9                            0.0   14.24           1950.0  ultra  \n",
       "...                                  ...     ...              ...    ...  \n",
       "1498    10                        1024.2   20.12           1574.2  smart  \n",
       "1499    9                            0.0    1.80            550.0  smart  \n",
       "        10                         478.3   17.39           1028.3  smart  \n",
       "        11                         875.5   17.56           1425.5  smart  \n",
       "        12                          48.0   12.77            598.0  smart  \n",
       "\n",
       "[3214 rows x 11 columns]"
      ]
     },
     "execution_count": 30,
     "metadata": {},
     "output_type": "execute_result"
    }
   ],
   "source": [
    "def rub_monthly_fee(row): \n",
    "    if row['minutes_included'] == 3000:\n",
    "        return 1950\n",
    "    elif row['minutes_included'] == 500:\n",
    "        return 550\n",
    "\n",
    "def tariff(row):\n",
    "    if row['rub_monthly_fee'] == 1950:\n",
    "        return 'ultra'\n",
    "    else:\n",
    "        return 'smart'\n",
    "    \n",
    "    \n",
    "total_pivot = (calls_pivot.drop(columns=['time_excess', 'call_count'])\n",
    "                          .merge(messages_pivot[['msg_extra_net_worth', 'message_count']], \n",
    "                                 on=['user_id', 'month_num'], how='outer')\n",
    "                          .merge(internet_pivot[['mb_extra_net_worth', 'mb_amount']], \n",
    "                                 on=['user_id', 'month_num'], how='outer')\n",
    "                          .fillna(0)\n",
    "                          .sort_values(by=['user_id', 'month_num'])\n",
    "                          .rename(columns={'tariff_time_limit': 'minutes_included',\n",
    "                                           'duration_sum': 'minutes_cnt', \n",
    "                                           'message_count': 'msg_cnt',\n",
    "                                           'mb_amount': 'mb_cnt'}))\n",
    "total_pivot['total_extra_net_worth'] = (total_pivot['calls_extra_net_worth'] + \n",
    "                                        total_pivot['msg_extra_net_worth'] + \n",
    "                                        total_pivot['mb_extra_net_worth'])\n",
    "total_pivot['gb_cnt'] = round(total_pivot['mb_cnt'] / 1024, 2)\n",
    "total_pivot['minutes_included'] = total_pivot.apply(rub_monthly_fee, axis=1)\n",
    "total_pivot.rename(columns={'minutes_included': 'rub_monthly_fee'}, inplace=True)\n",
    "total_pivot['total_net_worth'] = total_pivot['rub_monthly_fee'] + total_pivot['total_extra_net_worth']\n",
    "total_pivot['tariff'] = total_pivot.apply(tariff, axis=1)\n",
    "total_pivot"
   ]
  },
  {
   "cell_type": "markdown",
   "metadata": {},
   "source": [
    "На одном из предыдущих этапов в датафрейме возникли пропуски, заполним их в \"полуручном режиме\". "
   ]
  },
  {
   "cell_type": "code",
   "execution_count": 31,
   "metadata": {},
   "outputs": [
    {
     "data": {
      "text/plain": [
       "minutes_cnt               0\n",
       "rub_monthly_fee          46\n",
       "calls_extra_net_worth     0\n",
       "msg_extra_net_worth       0\n",
       "msg_cnt                   0\n",
       "mb_extra_net_worth        0\n",
       "mb_cnt                    0\n",
       "total_extra_net_worth     0\n",
       "gb_cnt                    0\n",
       "total_net_worth          46\n",
       "tariff                    0\n",
       "dtype: int64"
      ]
     },
     "execution_count": 31,
     "metadata": {},
     "output_type": "execute_result"
    }
   ],
   "source": [
    "total_pivot.isna().sum()"
   ]
  },
  {
   "cell_type": "code",
   "execution_count": 32,
   "metadata": {},
   "outputs": [],
   "source": [
    "total_pivot.loc[(total_pivot.loc[:, 'rub_monthly_fee'].isna()) & (total_pivot.loc[:, 'tariff'] == 'smart'), 'rub_monthly_fee'] = 550\n",
    "total_pivot.loc[(total_pivot.loc[:, 'rub_monthly_fee'].isna()) & (total_pivot.loc[:, 'tariff'] == 'ultra'), 'rub_monthly_fee'] = 1950"
   ]
  },
  {
   "cell_type": "code",
   "execution_count": 33,
   "metadata": {},
   "outputs": [],
   "source": [
    "total_pivot['total_net_worth'] = total_pivot['rub_monthly_fee'] + total_pivot['total_extra_net_worth']"
   ]
  },
  {
   "cell_type": "code",
   "execution_count": 34,
   "metadata": {},
   "outputs": [
    {
     "data": {
      "text/plain": [
       "minutes_cnt              0\n",
       "rub_monthly_fee          0\n",
       "calls_extra_net_worth    0\n",
       "msg_extra_net_worth      0\n",
       "msg_cnt                  0\n",
       "mb_extra_net_worth       0\n",
       "mb_cnt                   0\n",
       "total_extra_net_worth    0\n",
       "gb_cnt                   0\n",
       "total_net_worth          0\n",
       "tariff                   0\n",
       "dtype: int64"
      ]
     },
     "execution_count": 34,
     "metadata": {},
     "output_type": "execute_result"
    }
   ],
   "source": [
    "total_pivot.isna().sum()"
   ]
  },
  {
   "cell_type": "code",
   "execution_count": 35,
   "metadata": {},
   "outputs": [
    {
     "data": {
      "text/html": [
       "<div>\n",
       "<style scoped>\n",
       "    .dataframe tbody tr th:only-of-type {\n",
       "        vertical-align: middle;\n",
       "    }\n",
       "\n",
       "    .dataframe tbody tr th {\n",
       "        vertical-align: top;\n",
       "    }\n",
       "\n",
       "    .dataframe thead th {\n",
       "        text-align: right;\n",
       "    }\n",
       "</style>\n",
       "<table border=\"1\" class=\"dataframe\">\n",
       "  <thead>\n",
       "    <tr style=\"text-align: right;\">\n",
       "      <th></th>\n",
       "      <th></th>\n",
       "      <th>minutes_cnt</th>\n",
       "      <th>rub_monthly_fee</th>\n",
       "      <th>calls_extra_net_worth</th>\n",
       "      <th>msg_extra_net_worth</th>\n",
       "      <th>msg_cnt</th>\n",
       "      <th>mb_extra_net_worth</th>\n",
       "      <th>mb_cnt</th>\n",
       "      <th>total_extra_net_worth</th>\n",
       "      <th>gb_cnt</th>\n",
       "      <th>total_net_worth</th>\n",
       "      <th>tariff</th>\n",
       "    </tr>\n",
       "    <tr>\n",
       "      <th>user_id</th>\n",
       "      <th>month_num</th>\n",
       "      <th></th>\n",
       "      <th></th>\n",
       "      <th></th>\n",
       "      <th></th>\n",
       "      <th></th>\n",
       "      <th></th>\n",
       "      <th></th>\n",
       "      <th></th>\n",
       "      <th></th>\n",
       "      <th></th>\n",
       "      <th></th>\n",
       "    </tr>\n",
       "  </thead>\n",
       "  <tbody>\n",
       "    <tr>\n",
       "      <th rowspan=\"5\" valign=\"top\">1000</th>\n",
       "      <th>5</th>\n",
       "      <td>159.0</td>\n",
       "      <td>1950.0</td>\n",
       "      <td>0.0</td>\n",
       "      <td>0.0</td>\n",
       "      <td>22.0</td>\n",
       "      <td>0.0</td>\n",
       "      <td>2256.0</td>\n",
       "      <td>0.0</td>\n",
       "      <td>2.20</td>\n",
       "      <td>1950.0</td>\n",
       "      <td>ultra</td>\n",
       "    </tr>\n",
       "    <tr>\n",
       "      <th>6</th>\n",
       "      <td>172.0</td>\n",
       "      <td>1950.0</td>\n",
       "      <td>0.0</td>\n",
       "      <td>0.0</td>\n",
       "      <td>60.0</td>\n",
       "      <td>0.0</td>\n",
       "      <td>23257.0</td>\n",
       "      <td>0.0</td>\n",
       "      <td>22.71</td>\n",
       "      <td>1950.0</td>\n",
       "      <td>ultra</td>\n",
       "    </tr>\n",
       "    <tr>\n",
       "      <th>7</th>\n",
       "      <td>340.0</td>\n",
       "      <td>1950.0</td>\n",
       "      <td>0.0</td>\n",
       "      <td>0.0</td>\n",
       "      <td>75.0</td>\n",
       "      <td>0.0</td>\n",
       "      <td>14016.0</td>\n",
       "      <td>0.0</td>\n",
       "      <td>13.69</td>\n",
       "      <td>1950.0</td>\n",
       "      <td>ultra</td>\n",
       "    </tr>\n",
       "    <tr>\n",
       "      <th>8</th>\n",
       "      <td>408.0</td>\n",
       "      <td>1950.0</td>\n",
       "      <td>0.0</td>\n",
       "      <td>0.0</td>\n",
       "      <td>81.0</td>\n",
       "      <td>0.0</td>\n",
       "      <td>14070.0</td>\n",
       "      <td>0.0</td>\n",
       "      <td>13.74</td>\n",
       "      <td>1950.0</td>\n",
       "      <td>ultra</td>\n",
       "    </tr>\n",
       "    <tr>\n",
       "      <th>9</th>\n",
       "      <td>466.0</td>\n",
       "      <td>1950.0</td>\n",
       "      <td>0.0</td>\n",
       "      <td>0.0</td>\n",
       "      <td>57.0</td>\n",
       "      <td>0.0</td>\n",
       "      <td>14581.0</td>\n",
       "      <td>0.0</td>\n",
       "      <td>14.24</td>\n",
       "      <td>1950.0</td>\n",
       "      <td>ultra</td>\n",
       "    </tr>\n",
       "    <tr>\n",
       "      <th>...</th>\n",
       "      <th>...</th>\n",
       "      <td>...</td>\n",
       "      <td>...</td>\n",
       "      <td>...</td>\n",
       "      <td>...</td>\n",
       "      <td>...</td>\n",
       "      <td>...</td>\n",
       "      <td>...</td>\n",
       "      <td>...</td>\n",
       "      <td>...</td>\n",
       "      <td>...</td>\n",
       "      <td>...</td>\n",
       "    </tr>\n",
       "    <tr>\n",
       "      <th>1498</th>\n",
       "      <th>10</th>\n",
       "      <td>247.0</td>\n",
       "      <td>550.0</td>\n",
       "      <td>0.0</td>\n",
       "      <td>0.0</td>\n",
       "      <td>42.0</td>\n",
       "      <td>1024.2</td>\n",
       "      <td>20604.0</td>\n",
       "      <td>1024.2</td>\n",
       "      <td>20.12</td>\n",
       "      <td>1574.2</td>\n",
       "      <td>smart</td>\n",
       "    </tr>\n",
       "    <tr>\n",
       "      <th rowspan=\"4\" valign=\"top\">1499</th>\n",
       "      <th>9</th>\n",
       "      <td>70.0</td>\n",
       "      <td>550.0</td>\n",
       "      <td>0.0</td>\n",
       "      <td>0.0</td>\n",
       "      <td>11.0</td>\n",
       "      <td>0.0</td>\n",
       "      <td>1848.0</td>\n",
       "      <td>0.0</td>\n",
       "      <td>1.80</td>\n",
       "      <td>550.0</td>\n",
       "      <td>smart</td>\n",
       "    </tr>\n",
       "    <tr>\n",
       "      <th>10</th>\n",
       "      <td>449.0</td>\n",
       "      <td>550.0</td>\n",
       "      <td>0.0</td>\n",
       "      <td>0.0</td>\n",
       "      <td>48.0</td>\n",
       "      <td>478.3</td>\n",
       "      <td>17809.0</td>\n",
       "      <td>478.3</td>\n",
       "      <td>17.39</td>\n",
       "      <td>1028.3</td>\n",
       "      <td>smart</td>\n",
       "    </tr>\n",
       "    <tr>\n",
       "      <th>11</th>\n",
       "      <td>612.0</td>\n",
       "      <td>550.0</td>\n",
       "      <td>336.0</td>\n",
       "      <td>27.0</td>\n",
       "      <td>59.0</td>\n",
       "      <td>512.5</td>\n",
       "      <td>17984.0</td>\n",
       "      <td>875.5</td>\n",
       "      <td>17.56</td>\n",
       "      <td>1425.5</td>\n",
       "      <td>smart</td>\n",
       "    </tr>\n",
       "    <tr>\n",
       "      <th>12</th>\n",
       "      <td>492.0</td>\n",
       "      <td>550.0</td>\n",
       "      <td>0.0</td>\n",
       "      <td>48.0</td>\n",
       "      <td>66.0</td>\n",
       "      <td>0.0</td>\n",
       "      <td>13077.0</td>\n",
       "      <td>48.0</td>\n",
       "      <td>12.77</td>\n",
       "      <td>598.0</td>\n",
       "      <td>smart</td>\n",
       "    </tr>\n",
       "  </tbody>\n",
       "</table>\n",
       "<p>3214 rows × 11 columns</p>\n",
       "</div>"
      ],
      "text/plain": [
       "                   minutes_cnt  rub_monthly_fee  calls_extra_net_worth  \\\n",
       "user_id month_num                                                        \n",
       "1000    5                159.0           1950.0                    0.0   \n",
       "        6                172.0           1950.0                    0.0   \n",
       "        7                340.0           1950.0                    0.0   \n",
       "        8                408.0           1950.0                    0.0   \n",
       "        9                466.0           1950.0                    0.0   \n",
       "...                        ...              ...                    ...   \n",
       "1498    10               247.0            550.0                    0.0   \n",
       "1499    9                 70.0            550.0                    0.0   \n",
       "        10               449.0            550.0                    0.0   \n",
       "        11               612.0            550.0                  336.0   \n",
       "        12               492.0            550.0                    0.0   \n",
       "\n",
       "                   msg_extra_net_worth  msg_cnt  mb_extra_net_worth   mb_cnt  \\\n",
       "user_id month_num                                                              \n",
       "1000    5                          0.0     22.0                 0.0   2256.0   \n",
       "        6                          0.0     60.0                 0.0  23257.0   \n",
       "        7                          0.0     75.0                 0.0  14016.0   \n",
       "        8                          0.0     81.0                 0.0  14070.0   \n",
       "        9                          0.0     57.0                 0.0  14581.0   \n",
       "...                                ...      ...                 ...      ...   \n",
       "1498    10                         0.0     42.0              1024.2  20604.0   \n",
       "1499    9                          0.0     11.0                 0.0   1848.0   \n",
       "        10                         0.0     48.0               478.3  17809.0   \n",
       "        11                        27.0     59.0               512.5  17984.0   \n",
       "        12                        48.0     66.0                 0.0  13077.0   \n",
       "\n",
       "                   total_extra_net_worth  gb_cnt  total_net_worth tariff  \n",
       "user_id month_num                                                         \n",
       "1000    5                            0.0    2.20           1950.0  ultra  \n",
       "        6                            0.0   22.71           1950.0  ultra  \n",
       "        7                            0.0   13.69           1950.0  ultra  \n",
       "        8                            0.0   13.74           1950.0  ultra  \n",
       "        9                            0.0   14.24           1950.0  ultra  \n",
       "...                                  ...     ...              ...    ...  \n",
       "1498    10                        1024.2   20.12           1574.2  smart  \n",
       "1499    9                            0.0    1.80            550.0  smart  \n",
       "        10                         478.3   17.39           1028.3  smart  \n",
       "        11                         875.5   17.56           1425.5  smart  \n",
       "        12                          48.0   12.77            598.0  smart  \n",
       "\n",
       "[3214 rows x 11 columns]"
      ]
     },
     "execution_count": 35,
     "metadata": {},
     "output_type": "execute_result"
    }
   ],
   "source": [
    "total_pivot"
   ]
  },
  {
   "cell_type": "markdown",
   "metadata": {},
   "source": [
    "### Промежуточный вывод. \n",
    "В результате расчетов была сформирована таблица ___total_pivot___, содержащая следующие данные: \n",
    "1. _minutes_cnt_: количество израсходованных минут для конкретного пользователя за конкретный месяц\n",
    "2. _rub_monthly_fee_: абонентская плата за пользование тарифом\n",
    "3. _calls_extra_net_worth_: дополнительная выручка за счет звонков сверх лимита\n",
    "4. _msg_extra_net_worth_: дополнительная выручка за счет сообщений сверх лимита\n",
    "5. _msg_cnt_: общее количество отправленных за месяц сообщений\n",
    "6. _mb_extra_net_worth_: дополнительная выручка за счет превышения лимита интернет-трафика\n",
    "7. _mb_cnt_: общий объем израсходованного интернет-трафика в мегабайтах\n",
    "8. _total_extra_net_worth_: суммарная дополнительная прибыль\n",
    "9. _gb_cnt_: общий объем израсходованного интернет-трафика в гигабайтах\n",
    "10. _total_net_worth_: общая выручка для каждого пользователя для каждого месяца\n",
    "11. _tariff_: тариф абонента"
   ]
  },
  {
   "cell_type": "markdown",
   "metadata": {},
   "source": [
    "## Очистка итоговой таблицы от выбросов"
   ]
  },
  {
   "cell_type": "markdown",
   "metadata": {},
   "source": [
    "Итоговая таблица _total_pivot_ будет очищена от выбросов, определенных при помощи диаграмм размаха для количества сообщений, минут и объема интернет-трафика. "
   ]
  },
  {
   "cell_type": "code",
   "execution_count": 36,
   "metadata": {},
   "outputs": [
    {
     "data": {
      "image/png": "[encoded data removed]",
      "text/plain": [
       "<Figure size 432x288 with 1 Axes>"
      ]
     },
     "metadata": {
      "needs_background": "light"
     },
     "output_type": "display_data"
    },
    {
     "data": {
      "image/png": "[encoded data removed]",
      "text/plain": [
       "<Figure size 432x288 with 1 Axes>"
      ]
     },
     "metadata": {
      "needs_background": "light"
     },
     "output_type": "display_data"
    },
    {
     "data": {
      "image/png": "[encoded data removed]",
      "text/plain": [
       "<Figure size 432x288 with 1 Axes>"
      ]
     },
     "metadata": {
      "needs_background": "light"
     },
     "output_type": "display_data"
    }
   ],
   "source": [
    "plt.figure()\n",
    "plt.title('Тариф \"Смарт\". Количество минут в месяц')\n",
    "total_pivot.query('tariff == \"smart\"').boxplot('minutes_cnt')\n",
    "plt.show()\n",
    "\n",
    "plt.figure()\n",
    "plt.title('Тариф \"Смарт\". Объем интернет-трафика в месяц')\n",
    "total_pivot.query('tariff == \"smart\"').boxplot('mb_cnt')\n",
    "plt.show()\n",
    "\n",
    "plt.figure()\n",
    "plt.title('Тариф \"Смарт\". Количество сообщений в месяц')\n",
    "total_pivot.query('tariff == \"smart\"').boxplot('msg_cnt')\n",
    "plt.show()"
   ]
  },
  {
   "cell_type": "code",
   "execution_count": 37,
   "metadata": {},
   "outputs": [
    {
     "data": {
      "image/png": "[encoded data removed]",
      "text/plain": [
       "<Figure size 432x288 with 1 Axes>"
      ]
     },
     "metadata": {
      "needs_background": "light"
     },
     "output_type": "display_data"
    },
    {
     "data": {
      "image/png": "[encoded data removed]",
      "text/plain": [
       "<Figure size 432x288 with 1 Axes>"
      ]
     },
     "metadata": {
      "needs_background": "light"
     },
     "output_type": "display_data"
    },
    {
     "data": {
      "image/png": "[encoded data removed]",
      "text/plain": [
       "<Figure size 432x288 with 1 Axes>"
      ]
     },
     "metadata": {
      "needs_background": "light"
     },
     "output_type": "display_data"
    }
   ],
   "source": [
    "plt.figure()\n",
    "plt.title('Тариф \"Ультра\". Количество минут в месяц')\n",
    "total_pivot.query('tariff == \"ultra\"').boxplot('minutes_cnt')\n",
    "plt.show()\n",
    "\n",
    "plt.figure()\n",
    "plt.title('Тариф \"Ультра\". Объем интернет-трафика в месяц')\n",
    "total_pivot.query('tariff == \"ultra\"').boxplot('mb_cnt')\n",
    "plt.show()\n",
    "\n",
    "plt.figure()\n",
    "plt.title('Тариф \"Ультра\". Количество сообщений в месяц')\n",
    "total_pivot.query('tariff == \"ultra\"').boxplot('msg_cnt')\n",
    "plt.show()"
   ]
  },
  {
   "cell_type": "markdown",
   "metadata": {},
   "source": [
    "Исходя из полученных диаграмм размаха были назначены следующие границы: \n",
    "1. __Тариф \"Смарт__: \n",
    " 1. Минуты: до 925 мин (превышает лимит тарифа)\n",
    " 2. Объем интернет-трафика: от 1900 до 31000 Мб (превышает лимит тарифа)\n",
    " 3. Количество сообщений: до 110 (превышает лимит тарифа)\n",
    "2. __Тариф \"Ультра\"__: \n",
    " 1. Минуты: до 1500 мин (не превышает лимит тарифа)\n",
    " 2. Объем интернет-трафика: до 50000 Мб (превышает лимит тарифа)\n",
    " 3. Количество сообщений: до 190 (не превышает лимит тарифа)  \n",
    "  \n",
    "На данном этапе между абонентами разных тарифов проявляется заметная разница в поведении: пользователи тарифа \"Смарт\" чаще превышают лимиты, установленные тарифом. Иными словами, абонентам \"Смарта\" теснее в рамках тарифа.  \n",
    "В то же время тариф \"Ультра\" выглядит гораздо \"свободнее\". Особенно это касается сообщений: ни один из пользователей в выборке не приблизился и к трети лимита по сообщениям, то же можно сказать и о звонках.  \n",
    "Единственное, в чем абоненты разных тарифов схожи - превышение ограничения лимита интрнет-трафика. "
   ]
  },
  {
   "cell_type": "code",
   "execution_count": 38,
   "metadata": {},
   "outputs": [
    {
     "data": {
      "text/html": [
       "<div>\n",
       "<style scoped>\n",
       "    .dataframe tbody tr th:only-of-type {\n",
       "        vertical-align: middle;\n",
       "    }\n",
       "\n",
       "    .dataframe tbody tr th {\n",
       "        vertical-align: top;\n",
       "    }\n",
       "\n",
       "    .dataframe thead th {\n",
       "        text-align: right;\n",
       "    }\n",
       "</style>\n",
       "<table border=\"1\" class=\"dataframe\">\n",
       "  <thead>\n",
       "    <tr style=\"text-align: right;\">\n",
       "      <th></th>\n",
       "      <th></th>\n",
       "      <th>minutes_cnt</th>\n",
       "      <th>rub_monthly_fee</th>\n",
       "      <th>calls_extra_net_worth</th>\n",
       "      <th>msg_extra_net_worth</th>\n",
       "      <th>msg_cnt</th>\n",
       "      <th>mb_extra_net_worth</th>\n",
       "      <th>mb_cnt</th>\n",
       "      <th>total_extra_net_worth</th>\n",
       "      <th>gb_cnt</th>\n",
       "      <th>total_net_worth</th>\n",
       "      <th>tariff</th>\n",
       "    </tr>\n",
       "    <tr>\n",
       "      <th>user_id</th>\n",
       "      <th>month_num</th>\n",
       "      <th></th>\n",
       "      <th></th>\n",
       "      <th></th>\n",
       "      <th></th>\n",
       "      <th></th>\n",
       "      <th></th>\n",
       "      <th></th>\n",
       "      <th></th>\n",
       "      <th></th>\n",
       "      <th></th>\n",
       "      <th></th>\n",
       "    </tr>\n",
       "  </thead>\n",
       "  <tbody>\n",
       "    <tr>\n",
       "      <th rowspan=\"5\" valign=\"top\">1000</th>\n",
       "      <th>5</th>\n",
       "      <td>159.0</td>\n",
       "      <td>1950.0</td>\n",
       "      <td>0.0</td>\n",
       "      <td>0.0</td>\n",
       "      <td>22.0</td>\n",
       "      <td>0.0</td>\n",
       "      <td>2256.0</td>\n",
       "      <td>0.0</td>\n",
       "      <td>2.20</td>\n",
       "      <td>1950.0</td>\n",
       "      <td>ultra</td>\n",
       "    </tr>\n",
       "    <tr>\n",
       "      <th>6</th>\n",
       "      <td>172.0</td>\n",
       "      <td>1950.0</td>\n",
       "      <td>0.0</td>\n",
       "      <td>0.0</td>\n",
       "      <td>60.0</td>\n",
       "      <td>0.0</td>\n",
       "      <td>23257.0</td>\n",
       "      <td>0.0</td>\n",
       "      <td>22.71</td>\n",
       "      <td>1950.0</td>\n",
       "      <td>ultra</td>\n",
       "    </tr>\n",
       "    <tr>\n",
       "      <th>7</th>\n",
       "      <td>340.0</td>\n",
       "      <td>1950.0</td>\n",
       "      <td>0.0</td>\n",
       "      <td>0.0</td>\n",
       "      <td>75.0</td>\n",
       "      <td>0.0</td>\n",
       "      <td>14016.0</td>\n",
       "      <td>0.0</td>\n",
       "      <td>13.69</td>\n",
       "      <td>1950.0</td>\n",
       "      <td>ultra</td>\n",
       "    </tr>\n",
       "    <tr>\n",
       "      <th>8</th>\n",
       "      <td>408.0</td>\n",
       "      <td>1950.0</td>\n",
       "      <td>0.0</td>\n",
       "      <td>0.0</td>\n",
       "      <td>81.0</td>\n",
       "      <td>0.0</td>\n",
       "      <td>14070.0</td>\n",
       "      <td>0.0</td>\n",
       "      <td>13.74</td>\n",
       "      <td>1950.0</td>\n",
       "      <td>ultra</td>\n",
       "    </tr>\n",
       "    <tr>\n",
       "      <th>9</th>\n",
       "      <td>466.0</td>\n",
       "      <td>1950.0</td>\n",
       "      <td>0.0</td>\n",
       "      <td>0.0</td>\n",
       "      <td>57.0</td>\n",
       "      <td>0.0</td>\n",
       "      <td>14581.0</td>\n",
       "      <td>0.0</td>\n",
       "      <td>14.24</td>\n",
       "      <td>1950.0</td>\n",
       "      <td>ultra</td>\n",
       "    </tr>\n",
       "    <tr>\n",
       "      <th>...</th>\n",
       "      <th>...</th>\n",
       "      <td>...</td>\n",
       "      <td>...</td>\n",
       "      <td>...</td>\n",
       "      <td>...</td>\n",
       "      <td>...</td>\n",
       "      <td>...</td>\n",
       "      <td>...</td>\n",
       "      <td>...</td>\n",
       "      <td>...</td>\n",
       "      <td>...</td>\n",
       "      <td>...</td>\n",
       "    </tr>\n",
       "    <tr>\n",
       "      <th rowspan=\"2\" valign=\"top\">1498</th>\n",
       "      <th>9</th>\n",
       "      <td>471.0</td>\n",
       "      <td>550.0</td>\n",
       "      <td>0.0</td>\n",
       "      <td>0.0</td>\n",
       "      <td>44.0</td>\n",
       "      <td>1329.3</td>\n",
       "      <td>22166.0</td>\n",
       "      <td>1329.3</td>\n",
       "      <td>21.65</td>\n",
       "      <td>1879.3</td>\n",
       "      <td>smart</td>\n",
       "    </tr>\n",
       "    <tr>\n",
       "      <th>10</th>\n",
       "      <td>247.0</td>\n",
       "      <td>550.0</td>\n",
       "      <td>0.0</td>\n",
       "      <td>0.0</td>\n",
       "      <td>42.0</td>\n",
       "      <td>1024.2</td>\n",
       "      <td>20604.0</td>\n",
       "      <td>1024.2</td>\n",
       "      <td>20.12</td>\n",
       "      <td>1574.2</td>\n",
       "      <td>smart</td>\n",
       "    </tr>\n",
       "    <tr>\n",
       "      <th rowspan=\"3\" valign=\"top\">1499</th>\n",
       "      <th>10</th>\n",
       "      <td>449.0</td>\n",
       "      <td>550.0</td>\n",
       "      <td>0.0</td>\n",
       "      <td>0.0</td>\n",
       "      <td>48.0</td>\n",
       "      <td>478.3</td>\n",
       "      <td>17809.0</td>\n",
       "      <td>478.3</td>\n",
       "      <td>17.39</td>\n",
       "      <td>1028.3</td>\n",
       "      <td>smart</td>\n",
       "    </tr>\n",
       "    <tr>\n",
       "      <th>11</th>\n",
       "      <td>612.0</td>\n",
       "      <td>550.0</td>\n",
       "      <td>336.0</td>\n",
       "      <td>27.0</td>\n",
       "      <td>59.0</td>\n",
       "      <td>512.5</td>\n",
       "      <td>17984.0</td>\n",
       "      <td>875.5</td>\n",
       "      <td>17.56</td>\n",
       "      <td>1425.5</td>\n",
       "      <td>smart</td>\n",
       "    </tr>\n",
       "    <tr>\n",
       "      <th>12</th>\n",
       "      <td>492.0</td>\n",
       "      <td>550.0</td>\n",
       "      <td>0.0</td>\n",
       "      <td>48.0</td>\n",
       "      <td>66.0</td>\n",
       "      <td>0.0</td>\n",
       "      <td>13077.0</td>\n",
       "      <td>48.0</td>\n",
       "      <td>12.77</td>\n",
       "      <td>598.0</td>\n",
       "      <td>smart</td>\n",
       "    </tr>\n",
       "  </tbody>\n",
       "</table>\n",
       "<p>3114 rows × 11 columns</p>\n",
       "</div>"
      ],
      "text/plain": [
       "                   minutes_cnt  rub_monthly_fee  calls_extra_net_worth  \\\n",
       "user_id month_num                                                        \n",
       "1000    5                159.0           1950.0                    0.0   \n",
       "        6                172.0           1950.0                    0.0   \n",
       "        7                340.0           1950.0                    0.0   \n",
       "        8                408.0           1950.0                    0.0   \n",
       "        9                466.0           1950.0                    0.0   \n",
       "...                        ...              ...                    ...   \n",
       "1498    9                471.0            550.0                    0.0   \n",
       "        10               247.0            550.0                    0.0   \n",
       "1499    10               449.0            550.0                    0.0   \n",
       "        11               612.0            550.0                  336.0   \n",
       "        12               492.0            550.0                    0.0   \n",
       "\n",
       "                   msg_extra_net_worth  msg_cnt  mb_extra_net_worth   mb_cnt  \\\n",
       "user_id month_num                                                              \n",
       "1000    5                          0.0     22.0                 0.0   2256.0   \n",
       "        6                          0.0     60.0                 0.0  23257.0   \n",
       "        7                          0.0     75.0                 0.0  14016.0   \n",
       "        8                          0.0     81.0                 0.0  14070.0   \n",
       "        9                          0.0     57.0                 0.0  14581.0   \n",
       "...                                ...      ...                 ...      ...   \n",
       "1498    9                          0.0     44.0              1329.3  22166.0   \n",
       "        10                         0.0     42.0              1024.2  20604.0   \n",
       "1499    10                         0.0     48.0               478.3  17809.0   \n",
       "        11                        27.0     59.0               512.5  17984.0   \n",
       "        12                        48.0     66.0                 0.0  13077.0   \n",
       "\n",
       "                   total_extra_net_worth  gb_cnt  total_net_worth tariff  \n",
       "user_id month_num                                                         \n",
       "1000    5                            0.0    2.20           1950.0  ultra  \n",
       "        6                            0.0   22.71           1950.0  ultra  \n",
       "        7                            0.0   13.69           1950.0  ultra  \n",
       "        8                            0.0   13.74           1950.0  ultra  \n",
       "        9                            0.0   14.24           1950.0  ultra  \n",
       "...                                  ...     ...              ...    ...  \n",
       "1498    9                         1329.3   21.65           1879.3  smart  \n",
       "        10                        1024.2   20.12           1574.2  smart  \n",
       "1499    10                         478.3   17.39           1028.3  smart  \n",
       "        11                         875.5   17.56           1425.5  smart  \n",
       "        12                          48.0   12.77            598.0  smart  \n",
       "\n",
       "[3114 rows x 11 columns]"
      ]
     },
     "execution_count": 38,
     "metadata": {},
     "output_type": "execute_result"
    }
   ],
   "source": [
    "total_pivot_cnt_before = len(total_pivot)\n",
    "\n",
    "filter_smart = '(tariff == \"smart\" and minutes_cnt < 925 and 1900 < mb_cnt < 31000 and msg_cnt < 110)'\n",
    "filter_ultra = '(tariff == \"ultra\" and minutes_cnt < 1500 and mb_cnt < 50000 and msg_cnt < 190)'\n",
    "filter_total = filter_smart + ' or ' + filter_ultra\n",
    "total_pivot = total_pivot.query(filter_total)\n",
    "total_pivot_cnt_after = len(total_pivot)\n",
    "total_pivot"
   ]
  },
  {
   "cell_type": "code",
   "execution_count": 39,
   "metadata": {
    "scrolled": false
   },
   "outputs": [
    {
     "data": {
      "image/png": "[encoded data removed]",
      "text/plain": [
       "<Figure size 432x288 with 1 Axes>"
      ]
     },
     "metadata": {
      "needs_background": "light"
     },
     "output_type": "display_data"
    },
    {
     "data": {
      "image/png": "[encoded data removed]",
      "text/plain": [
       "<Figure size 432x288 with 1 Axes>"
      ]
     },
     "metadata": {
      "needs_background": "light"
     },
     "output_type": "display_data"
    },
    {
     "data": {
      "image/png": "[encoded data removed]",
      "text/plain": [
       "<Figure size 432x288 with 1 Axes>"
      ]
     },
     "metadata": {
      "needs_background": "light"
     },
     "output_type": "display_data"
    }
   ],
   "source": [
    "plt.figure()\n",
    "plt.title('Тариф \"Смарт\". Количество минут в месяц')\n",
    "total_pivot.query('tariff == \"smart\"').boxplot('minutes_cnt')\n",
    "plt.show()\n",
    "\n",
    "plt.figure()\n",
    "plt.title('Тариф \"Смарт\". Объем интернет-трафика в месяц')\n",
    "total_pivot.query('tariff == \"smart\"').boxplot('mb_cnt')\n",
    "plt.show()\n",
    "\n",
    "plt.figure()\n",
    "plt.title('Тариф \"Смарт\". Количество сообщений в месяц')\n",
    "total_pivot.query('tariff == \"smart\"').boxplot('msg_cnt')\n",
    "plt.show()"
   ]
  },
  {
   "cell_type": "code",
   "execution_count": 40,
   "metadata": {},
   "outputs": [
    {
     "data": {
      "image/png": "[encoded data removed]",
      "text/plain": [
       "<Figure size 432x288 with 1 Axes>"
      ]
     },
     "metadata": {
      "needs_background": "light"
     },
     "output_type": "display_data"
    },
    {
     "data": {
      "image/png": "[encoded data removed]",
      "text/plain": [
       "<Figure size 432x288 with 1 Axes>"
      ]
     },
     "metadata": {
      "needs_background": "light"
     },
     "output_type": "display_data"
    },
    {
     "data": {
      "image/png": "[encoded data removed]",
      "text/plain": [
       "<Figure size 432x288 with 1 Axes>"
      ]
     },
     "metadata": {
      "needs_background": "light"
     },
     "output_type": "display_data"
    }
   ],
   "source": [
    "plt.figure()\n",
    "plt.title('Тариф \"Ультра\". Количество минут в месяц')\n",
    "total_pivot.query('tariff == \"ultra\"').boxplot('minutes_cnt')\n",
    "plt.show()\n",
    "\n",
    "plt.figure()\n",
    "plt.title('Тариф \"Ультра\". Объем интернет-трафика в месяц')\n",
    "total_pivot.query('tariff == \"ultra\"').boxplot('mb_cnt')\n",
    "plt.show()\n",
    "\n",
    "plt.figure()\n",
    "plt.title('Тариф \"Ультра\". Количество сообщений в месяц')\n",
    "total_pivot.query('tariff == \"ultra\"').boxplot('msg_cnt')\n",
    "plt.show()"
   ]
  },
  {
   "cell_type": "markdown",
   "metadata": {},
   "source": [
    "После очистки данных в таблице остались единичные выбросы, крайне близко расположенные к \"усам\", соответственно, их присутствие не вызовет заметного искажения данных. "
   ]
  },
  {
   "cell_type": "code",
   "execution_count": 41,
   "metadata": {},
   "outputs": [
    {
     "name": "stdout",
     "output_type": "stream",
     "text": [
      "Сокращение объема данных после удаления выбросов: 3.1%\n"
     ]
    }
   ],
   "source": [
    "total_pivot_cnt_reduce = round(100 * (total_pivot_cnt_before - total_pivot_cnt_after) / total_pivot_cnt_before, 1)\n",
    "print(f'Сокращение объема данных после удаления выбросов: {total_pivot_cnt_reduce}%')"
   ]
  },
  {
   "cell_type": "code",
   "execution_count": 42,
   "metadata": {},
   "outputs": [
    {
     "data": {
      "text/plain": [
       "495"
      ]
     },
     "execution_count": 42,
     "metadata": {},
     "output_type": "execute_result"
    }
   ],
   "source": [
    "len(total_pivot.reset_index()['user_id'].unique())"
   ]
  },
  {
   "cell_type": "markdown",
   "metadata": {},
   "source": [
    "### Промежуточный вывод. \n",
    "В ходе очистки итоговой сводной таблице объем датафрейма сократился на 3.1%, что, помимо всего прочего, привело к удалению из рассмотрения 5 пользователей. "
   ]
  },
  {
   "cell_type": "markdown",
   "metadata": {},
   "source": [
    "## Расчет статистик выборки. "
   ]
  },
  {
   "cell_type": "code",
   "execution_count": 43,
   "metadata": {
    "scrolled": true
   },
   "outputs": [
    {
     "name": "stdout",
     "output_type": "stream",
     "text": [
      "Таблица средних значений: \n"
     ]
    },
    {
     "data": {
      "text/html": [
       "<div>\n",
       "<style scoped>\n",
       "    .dataframe tbody tr th:only-of-type {\n",
       "        vertical-align: middle;\n",
       "    }\n",
       "\n",
       "    .dataframe tbody tr th {\n",
       "        vertical-align: top;\n",
       "    }\n",
       "\n",
       "    .dataframe thead th {\n",
       "        text-align: right;\n",
       "    }\n",
       "</style>\n",
       "<table border=\"1\" class=\"dataframe\">\n",
       "  <thead>\n",
       "    <tr style=\"text-align: right;\">\n",
       "      <th></th>\n",
       "      <th>tariff</th>\n",
       "      <th>gb_cnt_mean</th>\n",
       "      <th>mb_cnt_mean</th>\n",
       "      <th>minutes_cnt_mean</th>\n",
       "      <th>msg_cnt_mean</th>\n",
       "      <th>total_extra_net_worth_mean</th>\n",
       "      <th>total_net_worth_mean</th>\n",
       "    </tr>\n",
       "  </thead>\n",
       "  <tbody>\n",
       "    <tr>\n",
       "      <th>0</th>\n",
       "      <td>smart</td>\n",
       "      <td>15.886923</td>\n",
       "      <td>16268.174333</td>\n",
       "      <td>412.9</td>\n",
       "      <td>32.9</td>\n",
       "      <td>642.461408</td>\n",
       "      <td>1192.461408</td>\n",
       "    </tr>\n",
       "    <tr>\n",
       "      <th>1</th>\n",
       "      <td>ultra</td>\n",
       "      <td>19.004511</td>\n",
       "      <td>19460.739362</td>\n",
       "      <td>545.2</td>\n",
       "      <td>48.0</td>\n",
       "      <td>109.608723</td>\n",
       "      <td>2059.608723</td>\n",
       "    </tr>\n",
       "  </tbody>\n",
       "</table>\n",
       "</div>"
      ],
      "text/plain": [
       "  tariff  gb_cnt_mean   mb_cnt_mean  minutes_cnt_mean  msg_cnt_mean  \\\n",
       "0  smart    15.886923  16268.174333             412.9          32.9   \n",
       "1  ultra    19.004511  19460.739362             545.2          48.0   \n",
       "\n",
       "   total_extra_net_worth_mean  total_net_worth_mean  \n",
       "0                  642.461408           1192.461408  \n",
       "1                  109.608723           2059.608723  "
      ]
     },
     "execution_count": 43,
     "metadata": {},
     "output_type": "execute_result"
    }
   ],
   "source": [
    "mean_values = (total_pivot.pivot_table(index='tariff', values=['minutes_cnt', 'mb_cnt', 'msg_cnt', 'total_net_worth', \n",
    "                                                              'total_extra_net_worth', 'gb_cnt'])\n",
    "                         .reset_index()\n",
    "                         .rename(columns={'minutes_cnt': 'minutes_cnt_mean',\n",
    "                                          'mb_cnt': 'mb_cnt_mean',\n",
    "                                          'gb_cnt': 'gb_cnt_mean',\n",
    "                                          'msg_cnt': 'msg_cnt_mean', \n",
    "                                          'total_net_worth': 'total_net_worth_mean',\n",
    "                                          'total_extra_net_worth': 'total_extra_net_worth_mean'}))\n",
    "mean_values['minutes_cnt_mean'] = round(mean_values['minutes_cnt_mean'], 1)\n",
    "mean_values['msg_cnt_mean'] = round(mean_values['msg_cnt_mean'], 1)\n",
    "print('Таблица средних значений: ')\n",
    "mean_values"
   ]
  },
  {
   "cell_type": "markdown",
   "metadata": {},
   "source": [
    "Согласно полученным средним значениям, __абоненты тарифа \"Ультра\" в среднем используют услуги связи более активно__: они обходят абонентов \"Смарта\" по использованию всех источников трафика.  \n",
    "Помимо этого, __абонент тарифа \"Ультра\" в среднем приносит компании больше прибыли__.  \n",
    "  \n",
    "Однако, __абоненты тарифа \"Смарт\" в среднем переплачивают за исчерпание лимита больше, чем составляет их абонентская плата__ (642 рубля переплат в дополнение к 500 рублям абонентской платы). "
   ]
  },
  {
   "cell_type": "code",
   "execution_count": 44,
   "metadata": {
    "scrolled": false
   },
   "outputs": [
    {
     "name": "stdout",
     "output_type": "stream",
     "text": [
      "Таблица дисперсий и стандартных отклонений:\n"
     ]
    },
    {
     "data": {
      "text/html": [
       "<div>\n",
       "<style scoped>\n",
       "    .dataframe tbody tr th:only-of-type {\n",
       "        vertical-align: middle;\n",
       "    }\n",
       "\n",
       "    .dataframe tbody tr th {\n",
       "        vertical-align: top;\n",
       "    }\n",
       "\n",
       "    .dataframe thead tr th {\n",
       "        text-align: left;\n",
       "    }\n",
       "</style>\n",
       "<table border=\"1\" class=\"dataframe\">\n",
       "  <thead>\n",
       "    <tr>\n",
       "      <th></th>\n",
       "      <th>tariff</th>\n",
       "      <th colspan=\"2\" halign=\"left\">minutes_cnt</th>\n",
       "      <th colspan=\"2\" halign=\"left\">gb_cnt</th>\n",
       "      <th colspan=\"2\" halign=\"left\">msg_cnt</th>\n",
       "    </tr>\n",
       "    <tr>\n",
       "      <th></th>\n",
       "      <th></th>\n",
       "      <th>var</th>\n",
       "      <th>std</th>\n",
       "      <th>var</th>\n",
       "      <th>std</th>\n",
       "      <th>var</th>\n",
       "      <th>std</th>\n",
       "    </tr>\n",
       "  </thead>\n",
       "  <tbody>\n",
       "    <tr>\n",
       "      <th>0</th>\n",
       "      <td>smart</td>\n",
       "      <td>34033.454691</td>\n",
       "      <td>184.481584</td>\n",
       "      <td>27.802015</td>\n",
       "      <td>5.272762</td>\n",
       "      <td>722.556401</td>\n",
       "      <td>26.880409</td>\n",
       "    </tr>\n",
       "    <tr>\n",
       "      <th>1</th>\n",
       "      <td>ultra</td>\n",
       "      <td>91050.639521</td>\n",
       "      <td>301.745985</td>\n",
       "      <td>97.292471</td>\n",
       "      <td>9.863695</td>\n",
       "      <td>2055.077854</td>\n",
       "      <td>45.332967</td>\n",
       "    </tr>\n",
       "  </tbody>\n",
       "</table>\n",
       "</div>"
      ],
      "text/plain": [
       "  tariff   minutes_cnt                 gb_cnt                msg_cnt  \\\n",
       "                   var         std        var       std          var   \n",
       "0  smart  34033.454691  184.481584  27.802015  5.272762   722.556401   \n",
       "1  ultra  91050.639521  301.745985  97.292471  9.863695  2055.077854   \n",
       "\n",
       "              \n",
       "         std  \n",
       "0  26.880409  \n",
       "1  45.332967  "
      ]
     },
     "execution_count": 44,
     "metadata": {},
     "output_type": "execute_result"
    }
   ],
   "source": [
    "tp_gb = (total_pivot.groupby(by='tariff')[['minutes_cnt', 'gb_cnt', 'msg_cnt']]\n",
    "                    .agg([np.var, np.std,])\n",
    "                    .reset_index())\n",
    "print('Таблица дисперсий и стандартных отклонений:')\n",
    "tp_gb"
   ]
  },
  {
   "cell_type": "markdown",
   "metadata": {},
   "source": [
    "Согласно полученным значениям стандартных отклонений, распределения показателей шире у абонентов тарифа \"Ультра\". Иными словами, характеристики абонентов \"Ультры\" варьируются в более широком диапазоне относительно тех же характеристик абонентов тарифа \"Смарт\". "
   ]
  },
  {
   "cell_type": "markdown",
   "metadata": {},
   "source": [
    "## Построение и анализ распределений.  \n",
    "Анализ распределения месячного использования минут, сообщений и интернет-трафика для пользователей обоих тарифов.  \n",
    "Распределение будет представлено частотной гистограммой и плотностным распределением. "
   ]
  },
  {
   "cell_type": "markdown",
   "metadata": {},
   "source": [
    "### Количество отправленных сообщений"
   ]
  },
  {
   "cell_type": "code",
   "execution_count": 45,
   "metadata": {},
   "outputs": [
    {
     "data": {
      "image/png": "[encoded data removed]",
      "text/plain": [
       "<Figure size 1080x432 with 1 Axes>"
      ]
     },
     "metadata": {
      "needs_background": "light"
     },
     "output_type": "display_data"
    },
    {
     "data": {
      "image/png": "[encoded data removed]",
      "text/plain": [
       "<Figure size 1080x432 with 1 Axes>"
      ]
     },
     "metadata": {
      "needs_background": "light"
     },
     "output_type": "display_data"
    }
   ],
   "source": [
    "plt.figure(figsize=(15, 6))\n",
    "plt.title('Количество отправленных сообщений для тарифа \"Smart\"')\n",
    "plt.grid()\n",
    "plt.xlim(0, total_pivot.query('tariff == \"ultra\"')['msg_cnt'].max())\n",
    "plt.xlabel('Количество отправленных сообщений')\n",
    "plt.ylabel('Частота')\n",
    "sns.histplot(data=total_pivot.query('tariff == \"smart\"'), x=\"msg_cnt\", kde=True, bins=25, color='blue')\n",
    "plt.show()\n",
    "\n",
    "plt.figure(figsize=(15, 6))\n",
    "plt.title('Количество отправленных сообщений для тарифа \"Ultra\"')\n",
    "plt.grid()\n",
    "plt.xlim(0, total_pivot.query('tariff == \"ultra\"')['msg_cnt'].max())\n",
    "plt.xlabel('Количество отправленных сообщений')\n",
    "plt.ylabel('Частота')\n",
    "sns.histplot(data=total_pivot.query('tariff == \"ultra\"'), x=\"msg_cnt\", kde=True, bins=25, color='red')\n",
    "plt.show()"
   ]
  },
  {
   "cell_type": "markdown",
   "metadata": {},
   "source": [
    "Распределение по форме ближе всего к распределению Пуассона. В обоих случаях наблюдается максимум частоты у нуля, после чего частота монотонно понижается, формируя длинный \"хвост\" распределения.  \n",
    "Вероятнее всего, это связано с крайне низкой востребованностью СМС-сообщений в сравнении с мессенджерами и социальными сетями.  \n",
    "Также налицо смещенность распределения для тарифа \"Смарт\" в левую сторону относительно распределения для \"Ультры\". "
   ]
  },
  {
   "cell_type": "markdown",
   "metadata": {},
   "source": [
    "### Количество минут."
   ]
  },
  {
   "cell_type": "code",
   "execution_count": 46,
   "metadata": {},
   "outputs": [
    {
     "data": {
      "image/png": "[encoded data removed]",
      "text/plain": [
       "<Figure size 1080x432 with 1 Axes>"
      ]
     },
     "metadata": {
      "needs_background": "light"
     },
     "output_type": "display_data"
    },
    {
     "data": {
      "image/png": "[encoded data removed]",
      "text/plain": [
       "<Figure size 1080x432 with 1 Axes>"
      ]
     },
     "metadata": {
      "needs_background": "light"
     },
     "output_type": "display_data"
    }
   ],
   "source": [
    "plt.figure(figsize=(15, 6))\n",
    "plt.title('Количество минут для тарифа \"Smart\"')\n",
    "plt.grid()\n",
    "plt.xlim(0, total_pivot.query('tariff == \"ultra\"')['minutes_cnt'].max())\n",
    "plt.xlabel('Количество минут')\n",
    "plt.ylabel('Частота')\n",
    "sns.histplot(data=total_pivot.query('tariff == \"smart\"'), x=\"minutes_cnt\", kde=True, bins=25, color='blue')\n",
    "plt.show()\n",
    "\n",
    "plt.figure(figsize=(15, 6))\n",
    "plt.title('Количество минут для тарифа \"Ultra\"')\n",
    "plt.grid()\n",
    "plt.xlabel('Количество минут')\n",
    "plt.ylabel('Частота')\n",
    "plt.xlim(0, total_pivot.query('tariff == \"ultra\"')['minutes_cnt'].max())\n",
    "sns.histplot(data=total_pivot.query('tariff == \"ultra\"'), x=\"minutes_cnt\", kde=True, bins=25, color='red')\n",
    "plt.show()"
   ]
  },
  {
   "cell_type": "markdown",
   "metadata": {},
   "source": [
    "Распределение используемых минут в обоих случаях имеет форму нормального распределения. Как и утверждалось ранее, размах распределения у тарифа \"Ультра\" больше, а распределение для тарифа \"Смарт\" смещено влево. "
   ]
  },
  {
   "cell_type": "markdown",
   "metadata": {},
   "source": [
    "### Объем интернет-трафика. "
   ]
  },
  {
   "cell_type": "code",
   "execution_count": 47,
   "metadata": {
    "scrolled": false
   },
   "outputs": [
    {
     "data": {
      "image/png": "[encoded data removed]",
      "text/plain": [
       "<Figure size 1080x432 with 1 Axes>"
      ]
     },
     "metadata": {
      "needs_background": "light"
     },
     "output_type": "display_data"
    },
    {
     "data": {
      "image/png": "[encoded data removed]",
      "text/plain": [
       "<Figure size 1080x432 with 1 Axes>"
      ]
     },
     "metadata": {
      "needs_background": "light"
     },
     "output_type": "display_data"
    }
   ],
   "source": [
    "plt.figure(figsize=(15, 6))\n",
    "plt.title('Объем интернет-трафика для тарифа \"Smart\"')\n",
    "plt.grid()\n",
    "plt.xlim(0, total_pivot.query('tariff == \"ultra\"')['gb_cnt'].max())\n",
    "plt.xlabel('Объем трафика в гигабайтах')\n",
    "plt.ylabel('Частота')\n",
    "sns.histplot(data=total_pivot.query('tariff == \"smart\"'), x=\"gb_cnt\", kde=True, bins=30, color='blue')\n",
    "plt.show()\n",
    "\n",
    "plt.figure(figsize=(15, 6))\n",
    "plt.title('Объем интернет-трафика для тарифа \"Ultra\"')\n",
    "plt.grid()\n",
    "plt.xlim(0, total_pivot.query('tariff == \"ultra\"')['gb_cnt'].max())\n",
    "plt.xlabel('Объем трафика в гигабайтах')\n",
    "plt.ylabel('Частота')\n",
    "sns.histplot(data=total_pivot.query('tariff == \"ultra\"'), x=\"gb_cnt\", kde=True, bins=25, color='red')\n",
    "plt.show()"
   ]
  },
  {
   "cell_type": "markdown",
   "metadata": {},
   "source": [
    "Аналогичные выводы и касательно распределений объема трафика: размах шире; данные для \"Ультры\" смещены вправо относительно данных для \"Смарта\". "
   ]
  },
  {
   "cell_type": "markdown",
   "metadata": {},
   "source": [
    "### Вероятность превышения тарифа (получение дополнительной прибыли) для каждого из компонент тарифа. "
   ]
  },
  {
   "cell_type": "markdown",
   "metadata": {},
   "source": [
    "Расчет вероятности превышения тарифного лимита для минут, сообщений и мегабайт интернет-трафика для обоих тарифов.  \n",
    "Данные значения отражают вероятность того, что пользователь принесет компании дополнительную прибыль.  \n",
    "Ключевое допущение: распределения аппроксимированы нормальным распределением. "
   ]
  },
  {
   "cell_type": "code",
   "execution_count": 48,
   "metadata": {},
   "outputs": [],
   "source": [
    "# расчет средних для тарифа \"Смарт\"\n",
    "smart_msg_mu   = total_pivot.query('tariff == \"smart\"')['msg_cnt'].mean()\n",
    "smart_calls_mu = total_pivot.query('tariff == \"smart\"')['minutes_cnt'].mean()\n",
    "smart_mb_mu    = total_pivot.query('tariff == \"smart\"')['mb_cnt'].mean()\n",
    "\n",
    "#расчет стандартных отклонений для тарифа \"Смарт\"\n",
    "smart_msg_sigma   = np.std(total_pivot.query('tariff == \"smart\"')['msg_cnt'], ddof=1)\n",
    "smart_calls_sigma = np.std(total_pivot.query('tariff == \"smart\"')['minutes_cnt'], ddof=1)\n",
    "smart_mb_sigma    = np.std(total_pivot.query('tariff == \"smart\"')['mb_cnt'], ddof=1)\n",
    "\n",
    "#аппроксимация распределений с нормальным для тарифа \"Смарт\"\n",
    "smart_msg_distr   = st.norm(smart_msg_mu, smart_msg_sigma)\n",
    "smart_calls_distr = st.norm(smart_calls_mu, smart_calls_sigma)\n",
    "smart_mb_distr    = st.norm(smart_mb_mu, smart_mb_sigma)\n",
    "\n",
    "# расчет средних для тарифа \"Ультра\"\n",
    "ultra_msg_mu   = np.std(total_pivot.query('tariff == \"ultra\"')['msg_cnt'], ddof=1)\n",
    "ultra_calls_mu = np.std(total_pivot.query('tariff == \"ultra\"')['minutes_cnt'], ddof=1)\n",
    "ultra_mb_mu    = np.std(total_pivot.query('tariff == \"ultra\"')['mb_cnt'], ddof=1)\n",
    "\n",
    "#расчет стандартных отклонений для тарифа \"Ультра\"\n",
    "ultra_msg_sigma   = np.std(total_pivot.query('tariff == \"ultra\"')['msg_cnt'], ddof=1)\n",
    "ultra_calls_sigma = np.std(total_pivot.query('tariff == \"ultra\"')['minutes_cnt'], ddof=1)\n",
    "ultra_mb_sigma    = np.std(total_pivot.query('tariff == \"ultra\"')['mb_cnt'], ddof=1)\n",
    "\n",
    "#аппроксимация распределений с нормальным для тарифа \"Ультра\"\n",
    "ultra_msg_distr   = st.norm(ultra_msg_mu, ultra_msg_sigma)\n",
    "ultra_calls_distr = st.norm(ultra_calls_mu, ultra_calls_sigma)\n",
    "ultra_mb_distr    = st.norm(ultra_mb_mu, ultra_mb_sigma)"
   ]
  },
  {
   "cell_type": "code",
   "execution_count": 49,
   "metadata": {},
   "outputs": [],
   "source": [
    "#расчет вероятностей для тарифа \"Смарт\"\n",
    "smart_msg_lim   = round(100 * (1 - smart_msg_distr.cdf(50)), 1)\n",
    "smart_calls_lim = round(100 * (1 - smart_calls_distr.cdf(500)), 1)\n",
    "smart_mb_lim    = round(100 * (1 - smart_mb_distr.cdf(15 * 1024)), 1)\n",
    "\n",
    "#расчет вероятностей для тарифа \"Ультра\"\n",
    "ultra_msg_lim   = round(100 * (1 - ultra_msg_distr.cdf(1000)), 1)\n",
    "ultra_calls_lim = round(100 * (1 - ultra_calls_distr.cdf(3000)), 1)\n",
    "ultra_mb_lim    = round(100 * (1 - ultra_mb_distr.cdf(30 * 1024)), 1)"
   ]
  },
  {
   "cell_type": "code",
   "execution_count": 50,
   "metadata": {},
   "outputs": [
    {
     "name": "stdout",
     "output_type": "stream",
     "text": [
      "Тариф \"Смарт\". Вероятности превышения тарифного лимита\n",
      "Сообщения:       26.3%\n",
      "Минуты:          31.8%\n",
      "Интернет-трафик: 56.7%\n",
      "\n",
      "Тариф \"Ультра\". Вероятности превышения тарифного лимита\n",
      "Сообщения:       0.0%\n",
      "Минуты:          0.0%\n",
      "Интернет-трафик: 2.1%\n"
     ]
    }
   ],
   "source": [
    "print('Тариф \"Смарт\". Вероятности превышения тарифного лимита')\n",
    "print(f'Сообщения:       {(smart_msg_lim)}%')\n",
    "print(f'Минуты:          {(smart_calls_lim)}%')\n",
    "print(f'Интернет-трафик: {(smart_mb_lim)}%')\n",
    "print()\n",
    "print('Тариф \"Ультра\". Вероятности превышения тарифного лимита')\n",
    "print(f'Сообщения:       {(ultra_msg_lim)}%')\n",
    "print(f'Минуты:          {(ultra_calls_lim)}%')\n",
    "print(f'Интернет-трафик: {(ultra_mb_lim)}%')"
   ]
  },
  {
   "cell_type": "markdown",
   "metadata": {},
   "source": [
    "#### Промежуточный вывод.\n",
    "Если аппроксимировать распределения пунктов тарифного плана нормальным распределением, наиболее выгодным с точки зрения переплат является тариф \"Смарт\": пользователи приносят значительную дополнительную прибыль по всем пунктам тарифа.  \n",
    "__Если тариф \"Смарт\" со стороны оператора содержать дешевле, то выгоднее вложиться в его рекламное продвижение.__"
   ]
  },
  {
   "cell_type": "markdown",
   "metadata": {},
   "source": [
    "### Промежуточный вывод. \n",
    "- Формы распределений соответствуют полученым ранее статистикам. Ключевые особенности: \n",
    "1. __Размах распределений__ больше у тарифа \"Ультра\", причем для всех показателей\n",
    "2. __Пиковые значения частоты__ у распределений для тарифа \"Смарт\" выше (иногда почти в 3 раза), что связано с тем, что в начальной выборке пользователей этого тарифа в два раза больше \n",
    "3. Для всех показателей распределения для тарифа \"Смарт\" __смещены влево__, что вызвано меньшим объемом минут, СМС и трафика, доступных за абонентскую плату. \n",
    "4. __Форма распределения__ всех показателей, кроме сообщений, __совпадает с нормальным__. У распределения сообщений форма совпадает с формой __распределения Пуассона__ \n",
    "5. Тарифы схожи тем, что в обоих случаях распределение для сообщений __резко скошено влево__, что связано с низкой востребованностью СМС-сообщений, как средства связи. В данной выборке пользователи ни одного из тарифов не превышают лимит по сообщениям. \n",
    "  \n",
    " \n",
    " \n",
    "- На основании статистики по переплатам наиболее выгоден тариф \"Смарт\" (в случае, если его содержание обходится компании дешевле). "
   ]
  },
  {
   "cell_type": "markdown",
   "metadata": {},
   "source": [
    "## Проверка гипотез. \n",
    "### Гипотеза №1. Средняя выручка пользователей тарифов «Ультра» и «Смарт» различается. "
   ]
  },
  {
   "cell_type": "markdown",
   "metadata": {},
   "source": [
    "#### Нулевая гипотеза\n",
    "_Средние выручки от абонентов тарифов \"Смарт\" и \"Ультра\" равны._  \n",
    "#### Альтернативная гипотеза\n",
    "_Средние выручки от абонетов тарифов \"Смарт\" и \"Ультра\" различны._\n",
    "  \n",
    "Важно! Ранее при анализе \"трат\" пользователей было установлено, что по всем аспектам (звонки, СМС, интернет) абоненты разных тарифов отличаются.  \n",
    "Соответственно, при проведении статистических тестов __дисперсии выборок будем считать разными__.  \n",
    "__Уровень статистической значимости примем равным 5%__. "
   ]
  },
  {
   "cell_type": "code",
   "execution_count": 51,
   "metadata": {},
   "outputs": [
    {
     "name": "stdout",
     "output_type": "stream",
     "text": [
      "Объем выборки для тарифа \"Смарт\": 2174\n",
      "Объем выборки для тарифа \"Ультра\": 940\n",
      "Соотношение объемов выборок: 2.3\n"
     ]
    }
   ],
   "source": [
    "#вычленение исследуемых выборок\n",
    "smart = total_pivot.reset_index().query('tariff == \"smart\"')['total_net_worth']\n",
    "ultra = total_pivot.reset_index().query('tariff == \"ultra\"')['total_net_worth']\n",
    "\n",
    "print('Объем выборки для тарифа \"Смарт\":', len(smart))\n",
    "print('Объем выборки для тарифа \"Ультра\":', len(ultra))\n",
    "print('Соотношение объемов выборок:', round(len(smart) / len(ultra), 1))"
   ]
  },
  {
   "cell_type": "code",
   "execution_count": 52,
   "metadata": {},
   "outputs": [
    {
     "name": "stdout",
     "output_type": "stream",
     "text": [
      "p-значение:  0.0\n",
      "Нулевая гипотеза опровергнута\n"
     ]
    }
   ],
   "source": [
    "results = st.ttest_ind(smart, ultra, equal_var=False)\n",
    "\n",
    "alpha = 0.05\n",
    "\n",
    "print('p-значение: ', results.pvalue)\n",
    "\n",
    "if (results.pvalue < alpha): \n",
    "    print('Нулевая гипотеза опровергнута')\n",
    "else: \n",
    "    print('Не удалось опровергнуть нулевую гипотезу')"
   ]
  },
  {
   "cell_type": "markdown",
   "metadata": {},
   "source": [
    "#### Промежуточный вывод: \n",
    "__средняя выручка пользователей разных тарифов различна__.  \n",
    "  \n",
    "Параметры теста: \n",
    "1. Уровень статистической значимости: 5%\n",
    "2. Выборки имеют разные дисперсии\n",
    "3. Объемы выборок: \n",
    " 1. \"Смарт\": 2174\n",
    " 2. \"Ультра\": 940\n",
    " 3. Соотношение объемов: 2.3"
   ]
  },
  {
   "cell_type": "markdown",
   "metadata": {},
   "source": [
    "### Гипотеза №2. Cредняя выручка пользователей из Москвы отличается от выручки пользователей из других регионов."
   ]
  },
  {
   "cell_type": "markdown",
   "metadata": {},
   "source": [
    "#### Нулевая гипотеза\n",
    "_Средние выручки пользователей из Москвы и других регионов равны_\n",
    "\n",
    "#### Альтернативная гипотеза\n",
    "_Средние выручки пользователей из Москвы и других регионов различны_"
   ]
  },
  {
   "cell_type": "code",
   "execution_count": 53,
   "metadata": {},
   "outputs": [],
   "source": [
    "#вычленение исследуемых выборок\n",
    "moscow_users = users.query('city == \"Москва\"')['user_id']\n",
    "other_cities_users = users.query('city != \"Москва\"')['user_id']"
   ]
  },
  {
   "cell_type": "code",
   "execution_count": 54,
   "metadata": {},
   "outputs": [
    {
     "name": "stdout",
     "output_type": "stream",
     "text": [
      "Количество пользователей из Москвы: 99\n",
      "Количество пользователей из других городов: 396\n",
      "\n",
      "Объем выборки с абонентами из Москвы: 602\n",
      "Объем выборки с абонентами из других регионов: 2512\n",
      "Соотношение объемов выборок: 4.2\n"
     ]
    }
   ],
   "source": [
    "moscow_users_data = total_pivot.reset_index().query('user_id in @moscow_users')\n",
    "moscow_users_cnt = len(moscow_users_data['user_id'].unique())\n",
    "print(f'Количество пользователей из Москвы: {moscow_users_cnt}')\n",
    "\n",
    "other_cities_users_data = total_pivot.reset_index().query('user_id in @other_cities_users')\n",
    "other_cities_users_cnt = len(other_cities_users_data['user_id'].unique())\n",
    "print(f'Количество пользователей из других городов: {other_cities_users_cnt}')\n",
    "print()\n",
    "print('Объем выборки с абонентами из Москвы:', len(moscow_users_data))\n",
    "print('Объем выборки с абонентами из других регионов:', len(other_cities_users_data))\n",
    "print('Соотношение объемов выборок:', round(len(other_cities_users_data) / len(moscow_users_data), 1))"
   ]
  },
  {
   "cell_type": "markdown",
   "metadata": {},
   "source": [
    "Очевидно, на этапе очистки итоговой таблицы от выбросов (см. пункт 1.5) все 5 удаленных пользователей проживают в регионах. "
   ]
  },
  {
   "cell_type": "code",
   "execution_count": 55,
   "metadata": {},
   "outputs": [
    {
     "name": "stdout",
     "output_type": "stream",
     "text": [
      "p-значение: 0.0793786269657511\n",
      "Не удалось опровергнуть нулевую гипотезу\n"
     ]
    }
   ],
   "source": [
    "results = st.ttest_ind(moscow_users_data['total_net_worth'], other_cities_users_data['total_net_worth'])\n",
    "\n",
    "print('p-значение:', results.pvalue)\n",
    "\n",
    "if (results.pvalue < alpha):\n",
    "    print('Нулевая гипотеза опровергнута')\n",
    "else:\n",
    "    print('Не удалось опровергнуть нулевую гипотезу')"
   ]
  },
  {
   "cell_type": "markdown",
   "metadata": {},
   "source": [
    "#### Промежуточный вывод. \n",
    "Согласно проведенному t-тесту, __средние выручки от абонентов из Москвы и абонентов из других регионов равны.__\n",
    "  \n",
    "  \n",
    "Параметры теста: \n",
    "1. Уровень статистической значимости: 5%\n",
    "2. Выборки приняты равными по дисперсии\n",
    "3. Объемы выборок: \n",
    " 1. Данные по абонентам из Москвы: 602\n",
    " 2. Данные по абонентам из других регионов: 2512\n",
    " 3. Соотношения объемов выборок: 4.2"
   ]
  },
  {
   "cell_type": "markdown",
   "metadata": {},
   "source": [
    "### Промежуточный вывод.\n",
    "Результаты статистического тестирования: \n",
    "1. __Средняя выручка__ от абонентов тарифа \"Смарт\" __отличается__ от средней выручки от абонентов тарифа \"Ультра\"\n",
    "2. __Средняя выручка__ от абонентов из Москвы __равна__ средней выручке от абонентов из других регионов"
   ]
  },
  {
   "cell_type": "markdown",
   "metadata": {},
   "source": [
    "## Общий вывод"
   ]
  },
  {
   "cell_type": "markdown",
   "metadata": {},
   "source": [
    "В ходе выполнения проекта: \n",
    "1. __Данные исследованы__ отдельно в рамках исходных таблиц\n",
    "2. Была проведена __замена типов данных__\n",
    "3. В таблицы были __добавлены новые колонки__ с преобразованными величинами\n",
    "4. __Нулевые значеня__ были удалены\n",
    "5. Были __проведены расчеты__ значений суммарной выручки и выручки от отдельных компонентов тарифа\n",
    "6. Данные были __собраны в общую__ сводную __таблицу__\n",
    "7. Общая сводная таблица была __очищена от выбросов__\n",
    "8. Для очищенной сводной таблицы были проведены __расчеты статистик, построены__ частотные и плотностные __распределения__\n",
    "9. На основании очищенных данных были __расчитаны вероятности__ того что пользователь принесет дополнительную прибыль за счет превышения тарифа\n",
    "10. Были __проверены статистические гипотезы__, связанные с прибыльностью абонентов и тарифов."
   ]
  },
  {
   "cell_type": "markdown",
   "metadata": {},
   "source": [
    "__При корректировке рекламного бюджета необходимо учесть следующее:__ \n",
    "1. Абоненты тарифа \"Смарт\" переплачивают значительно чаще, чем абоненты тарифа \"Ультра\"\n",
    " - _за сообщения_: 26.3% случаев (против 0% для \"Ультры)\n",
    " - _за минуты_   : 31.8% случаев (против 0% для \"Ультры)\n",
    " - _за интернет_ : 56.7% случаев (против 2.1% для \"Ультры)\n",
    "2. Средняя выручка от абонентов тарифа \"Смарт\" не равна средней выручке от абонентов тарифа \"Ультра\"\n",
    "3. Средняя выручка от абонентов из Москвы не отличается от средней выручки от абонентов из регионов"
   ]
  }
 ],
 "metadata": {
  "kernelspec": {
   "display_name": "Python 3",
   "language": "python",
   "name": "python3"
  },
  "language_info": {
   "codemirror_mode": {
    "name": "ipython",
    "version": 3
   },
   "file_extension": ".py",
   "mimetype": "text/x-python",
   "name": "python",
   "nbconvert_exporter": "python",
   "pygments_lexer": "ipython3",
   "version": "3.8.5"
  },
  "toc": {
   "base_numbering": 1,
   "nav_menu": {
    "height": "783px",
    "width": "413px"
   },
   "number_sections": true,
   "sideBar": true,
   "skip_h1_title": false,
   "title_cell": "Table of Contents",
   "title_sidebar": "Contents",
   "toc_cell": false,
   "toc_position": {},
   "toc_section_display": true,
   "toc_window_display": false
  }
 },
 "nbformat": 4,
 "nbformat_minor": 4
}
