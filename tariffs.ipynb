{
 "cells": [
  {
   "cell_type": "markdown",
   "metadata": {},
   "source": [
    "# Определение тарифа"
   ]
  },
  {
   "cell_type": "markdown",
   "metadata": {},
   "source": [
    "Для анализа предоставлена выборка из двух групп абонентов, пользующихся разными тарифами одной компании.  \n",
    "  \n",
    "Тарифы отличаются абонентской платой и лимитом на минуты разговора, СМС и интернет-трафик.  \n",
    "  \n",
    "Для каждого абонента известны данные о пользовании тарифом: количество и продолжительность звонков, количество отправленных СМС-сообщений и данные о пользовании интернетом (все вышеперечисленное с указание даты совершения действия). \n",
    "  \n",
    "  Требуется проанализировать данные и сформулировать аналитически- и статистически-обоснованные выводы, которые помогут при принятии решений относительно корректировки рекламного бюджета компании. "
   ]
  },
  {
   "cell_type": "markdown",
   "metadata": {},
   "source": [
    "## Импорт и изучение данных"
   ]
  },
  {
   "cell_type": "code",
   "execution_count": 1,
   "metadata": {},
   "outputs": [],
   "source": [
    "import pandas as pd\n",
    "import matplotlib.pyplot as plt\n",
    "import scipy.stats as st\n",
    "import math as mt\n",
    "import numpy as np\n",
    "import seaborn as sns"
   ]
  },
  {
   "cell_type": "code",
   "execution_count": 2,
   "metadata": {},
   "outputs": [],
   "source": [
    "users = pd.read_csv('users.csv')\n",
    "messages = pd.read_csv('messages.csv')\n",
    "internet = pd.read_csv('internet.csv')\n",
    "calls = pd.read_csv('calls.csv')\n",
    "tariffs = pd.read_csv('tariffs.csv')"
   ]
  },
  {
   "cell_type": "markdown",
   "metadata": {},
   "source": [
    "### Таблица _users.csv_"
   ]
  },
  {
   "cell_type": "code",
   "execution_count": 3,
   "metadata": {},
   "outputs": [
    {
     "name": "stdout",
     "output_type": "stream",
     "text": [
      "<class 'pandas.core.frame.DataFrame'>\n",
      "RangeIndex: 500 entries, 0 to 499\n",
      "Data columns (total 8 columns):\n",
      " #   Column      Non-Null Count  Dtype \n",
      "---  ------      --------------  ----- \n",
      " 0   user_id     500 non-null    int64 \n",
      " 1   age         500 non-null    int64 \n",
      " 2   churn_date  38 non-null     object\n",
      " 3   city        500 non-null    object\n",
      " 4   first_name  500 non-null    object\n",
      " 5   last_name   500 non-null    object\n",
      " 6   reg_date    500 non-null    object\n",
      " 7   tariff      500 non-null    object\n",
      "dtypes: int64(2), object(6)\n",
      "memory usage: 31.4+ KB\n"
     ]
    }
   ],
   "source": [
    "users.info()"
   ]
  },
  {
   "cell_type": "code",
   "execution_count": 4,
   "metadata": {},
   "outputs": [
    {
     "data": {
      "text/html": [
       "<div>\n",
       "<style scoped>\n",
       "    .dataframe tbody tr th:only-of-type {\n",
       "        vertical-align: middle;\n",
       "    }\n",
       "\n",
       "    .dataframe tbody tr th {\n",
       "        vertical-align: top;\n",
       "    }\n",
       "\n",
       "    .dataframe thead th {\n",
       "        text-align: right;\n",
       "    }\n",
       "</style>\n",
       "<table border=\"1\" class=\"dataframe\">\n",
       "  <thead>\n",
       "    <tr style=\"text-align: right;\">\n",
       "      <th></th>\n",
       "      <th>user_id</th>\n",
       "      <th>age</th>\n",
       "      <th>churn_date</th>\n",
       "      <th>city</th>\n",
       "      <th>first_name</th>\n",
       "      <th>last_name</th>\n",
       "      <th>reg_date</th>\n",
       "      <th>tariff</th>\n",
       "    </tr>\n",
       "  </thead>\n",
       "  <tbody>\n",
       "    <tr>\n",
       "      <th>0</th>\n",
       "      <td>1000</td>\n",
       "      <td>52</td>\n",
       "      <td>NaN</td>\n",
       "      <td>Краснодар</td>\n",
       "      <td>Рафаил</td>\n",
       "      <td>Верещагин</td>\n",
       "      <td>2018-05-25</td>\n",
       "      <td>ultra</td>\n",
       "    </tr>\n",
       "    <tr>\n",
       "      <th>1</th>\n",
       "      <td>1001</td>\n",
       "      <td>41</td>\n",
       "      <td>NaN</td>\n",
       "      <td>Москва</td>\n",
       "      <td>Иван</td>\n",
       "      <td>Ежов</td>\n",
       "      <td>2018-11-01</td>\n",
       "      <td>smart</td>\n",
       "    </tr>\n",
       "    <tr>\n",
       "      <th>2</th>\n",
       "      <td>1002</td>\n",
       "      <td>59</td>\n",
       "      <td>NaN</td>\n",
       "      <td>Стерлитамак</td>\n",
       "      <td>Евгений</td>\n",
       "      <td>Абрамович</td>\n",
       "      <td>2018-06-17</td>\n",
       "      <td>smart</td>\n",
       "    </tr>\n",
       "    <tr>\n",
       "      <th>3</th>\n",
       "      <td>1003</td>\n",
       "      <td>23</td>\n",
       "      <td>NaN</td>\n",
       "      <td>Москва</td>\n",
       "      <td>Белла</td>\n",
       "      <td>Белякова</td>\n",
       "      <td>2018-08-17</td>\n",
       "      <td>ultra</td>\n",
       "    </tr>\n",
       "    <tr>\n",
       "      <th>4</th>\n",
       "      <td>1004</td>\n",
       "      <td>68</td>\n",
       "      <td>NaN</td>\n",
       "      <td>Новокузнецк</td>\n",
       "      <td>Татьяна</td>\n",
       "      <td>Авдеенко</td>\n",
       "      <td>2018-05-14</td>\n",
       "      <td>ultra</td>\n",
       "    </tr>\n",
       "  </tbody>\n",
       "</table>\n",
       "</div>"
      ],
      "text/plain": [
       "   user_id  age churn_date         city first_name  last_name    reg_date  \\\n",
       "0     1000   52        NaN    Краснодар     Рафаил  Верещагин  2018-05-25   \n",
       "1     1001   41        NaN       Москва       Иван       Ежов  2018-11-01   \n",
       "2     1002   59        NaN  Стерлитамак    Евгений  Абрамович  2018-06-17   \n",
       "3     1003   23        NaN       Москва      Белла   Белякова  2018-08-17   \n",
       "4     1004   68        NaN  Новокузнецк    Татьяна   Авдеенко  2018-05-14   \n",
       "\n",
       "  tariff  \n",
       "0  ultra  \n",
       "1  smart  \n",
       "2  smart  \n",
       "3  ultra  \n",
       "4  ultra  "
      ]
     },
     "execution_count": 4,
     "metadata": {},
     "output_type": "execute_result"
    }
   ],
   "source": [
    "users.head()"
   ]
  },
  {
   "cell_type": "code",
   "execution_count": 5,
   "metadata": {},
   "outputs": [
    {
     "name": "stdout",
     "output_type": "stream",
     "text": [
      "Количество абонентов тарифа \"Смарт\" в выборке: 351\n",
      "Количество абонентов тарифа \"Ультра\" в выборке: 149\n"
     ]
    }
   ],
   "source": [
    "ultra_cnt = len(users.query('tariff == \"ultra\"'))\n",
    "smart_cnt = len(users.query('tariff == \"smart\"'))\n",
    "print(f'Количество абонентов тарифа \"Смарт\" в выборке: {smart_cnt}')\n",
    "print(f'Количество абонентов тарифа \"Ультра\" в выборке: {ultra_cnt}')"
   ]
  },
  {
   "cell_type": "markdown",
   "metadata": {},
   "source": [
    "Наиболее важная особенность: __в выборке более чем в два раза больше пользователей тарифа \"Смарт\"__ -  более бюджетного варианта. \n",
    "Описание пользователей содержит пропуски только в колонке _churn_date_. Возникновение пропусков связано с тем, что на момент сбора данных абонент еще использовал тариф. Удаление пропусков не нужно.  \n",
    "Перед работой будет необходимо заменить типы данных в колонках _churn_date_, _reg_date_.  \n",
    "Помимо этого в таблицу будет добавлена колонка _is_active_, содержащая значения True/False, отражающая факт пользования тарифом на момент выгрузки данных.  "
   ]
  },
  {
   "cell_type": "markdown",
   "metadata": {},
   "source": [
    "### Таблица _messages.csv_."
   ]
  },
  {
   "cell_type": "code",
   "execution_count": 6,
   "metadata": {},
   "outputs": [
    {
     "name": "stdout",
     "output_type": "stream",
     "text": [
      "<class 'pandas.core.frame.DataFrame'>\n",
      "RangeIndex: 123036 entries, 0 to 123035\n",
      "Data columns (total 3 columns):\n",
      " #   Column        Non-Null Count   Dtype \n",
      "---  ------        --------------   ----- \n",
      " 0   id            123036 non-null  object\n",
      " 1   message_date  123036 non-null  object\n",
      " 2   user_id       123036 non-null  int64 \n",
      "dtypes: int64(1), object(2)\n",
      "memory usage: 2.8+ MB\n"
     ]
    }
   ],
   "source": [
    "messages.info()"
   ]
  },
  {
   "cell_type": "code",
   "execution_count": 7,
   "metadata": {},
   "outputs": [
    {
     "data": {
      "text/html": [
       "<div>\n",
       "<style scoped>\n",
       "    .dataframe tbody tr th:only-of-type {\n",
       "        vertical-align: middle;\n",
       "    }\n",
       "\n",
       "    .dataframe tbody tr th {\n",
       "        vertical-align: top;\n",
       "    }\n",
       "\n",
       "    .dataframe thead th {\n",
       "        text-align: right;\n",
       "    }\n",
       "</style>\n",
       "<table border=\"1\" class=\"dataframe\">\n",
       "  <thead>\n",
       "    <tr style=\"text-align: right;\">\n",
       "      <th></th>\n",
       "      <th>id</th>\n",
       "      <th>message_date</th>\n",
       "      <th>user_id</th>\n",
       "    </tr>\n",
       "  </thead>\n",
       "  <tbody>\n",
       "    <tr>\n",
       "      <th>0</th>\n",
       "      <td>1000_0</td>\n",
       "      <td>2018-06-27</td>\n",
       "      <td>1000</td>\n",
       "    </tr>\n",
       "    <tr>\n",
       "      <th>1</th>\n",
       "      <td>1000_1</td>\n",
       "      <td>2018-10-08</td>\n",
       "      <td>1000</td>\n",
       "    </tr>\n",
       "    <tr>\n",
       "      <th>2</th>\n",
       "      <td>1000_2</td>\n",
       "      <td>2018-08-04</td>\n",
       "      <td>1000</td>\n",
       "    </tr>\n",
       "    <tr>\n",
       "      <th>3</th>\n",
       "      <td>1000_3</td>\n",
       "      <td>2018-06-16</td>\n",
       "      <td>1000</td>\n",
       "    </tr>\n",
       "    <tr>\n",
       "      <th>4</th>\n",
       "      <td>1000_4</td>\n",
       "      <td>2018-12-05</td>\n",
       "      <td>1000</td>\n",
       "    </tr>\n",
       "    <tr>\n",
       "      <th>...</th>\n",
       "      <td>...</td>\n",
       "      <td>...</td>\n",
       "      <td>...</td>\n",
       "    </tr>\n",
       "    <tr>\n",
       "      <th>123031</th>\n",
       "      <td>1499_179</td>\n",
       "      <td>2018-12-12</td>\n",
       "      <td>1499</td>\n",
       "    </tr>\n",
       "    <tr>\n",
       "      <th>123032</th>\n",
       "      <td>1499_180</td>\n",
       "      <td>2018-09-28</td>\n",
       "      <td>1499</td>\n",
       "    </tr>\n",
       "    <tr>\n",
       "      <th>123033</th>\n",
       "      <td>1499_181</td>\n",
       "      <td>2018-09-27</td>\n",
       "      <td>1499</td>\n",
       "    </tr>\n",
       "    <tr>\n",
       "      <th>123034</th>\n",
       "      <td>1499_182</td>\n",
       "      <td>2018-11-15</td>\n",
       "      <td>1499</td>\n",
       "    </tr>\n",
       "    <tr>\n",
       "      <th>123035</th>\n",
       "      <td>1499_183</td>\n",
       "      <td>2018-11-16</td>\n",
       "      <td>1499</td>\n",
       "    </tr>\n",
       "  </tbody>\n",
       "</table>\n",
       "<p>123036 rows × 3 columns</p>\n",
       "</div>"
      ],
      "text/plain": [
       "              id message_date  user_id\n",
       "0         1000_0   2018-06-27     1000\n",
       "1         1000_1   2018-10-08     1000\n",
       "2         1000_2   2018-08-04     1000\n",
       "3         1000_3   2018-06-16     1000\n",
       "4         1000_4   2018-12-05     1000\n",
       "...          ...          ...      ...\n",
       "123031  1499_179   2018-12-12     1499\n",
       "123032  1499_180   2018-09-28     1499\n",
       "123033  1499_181   2018-09-27     1499\n",
       "123034  1499_182   2018-11-15     1499\n",
       "123035  1499_183   2018-11-16     1499\n",
       "\n",
       "[123036 rows x 3 columns]"
      ]
     },
     "execution_count": 7,
     "metadata": {},
     "output_type": "execute_result"
    }
   ],
   "source": [
    "messages"
   ]
  },
  {
   "cell_type": "markdown",
   "metadata": {},
   "source": [
    "В таблице _messages_ необходимо привести данные в колонке _message_date_ к типу datetime[64].  \n",
    "Также важно, что колонка _id_ не будет подвергнута каким-либо изменениям за их ненадобностью. "
   ]
  },
  {
   "cell_type": "markdown",
   "metadata": {},
   "source": [
    "### Таблица _calls.csv_."
   ]
  },
  {
   "cell_type": "code",
   "execution_count": 8,
   "metadata": {},
   "outputs": [
    {
     "name": "stdout",
     "output_type": "stream",
     "text": [
      "<class 'pandas.core.frame.DataFrame'>\n",
      "RangeIndex: 202607 entries, 0 to 202606\n",
      "Data columns (total 4 columns):\n",
      " #   Column     Non-Null Count   Dtype  \n",
      "---  ------     --------------   -----  \n",
      " 0   id         202607 non-null  object \n",
      " 1   call_date  202607 non-null  object \n",
      " 2   duration   202607 non-null  float64\n",
      " 3   user_id    202607 non-null  int64  \n",
      "dtypes: float64(1), int64(1), object(2)\n",
      "memory usage: 6.2+ MB\n"
     ]
    }
   ],
   "source": [
    "calls.info()"
   ]
  },
  {
   "cell_type": "code",
   "execution_count": 9,
   "metadata": {},
   "outputs": [
    {
     "data": {
      "text/html": [
       "<div>\n",
       "<style scoped>\n",
       "    .dataframe tbody tr th:only-of-type {\n",
       "        vertical-align: middle;\n",
       "    }\n",
       "\n",
       "    .dataframe tbody tr th {\n",
       "        vertical-align: top;\n",
       "    }\n",
       "\n",
       "    .dataframe thead th {\n",
       "        text-align: right;\n",
       "    }\n",
       "</style>\n",
       "<table border=\"1\" class=\"dataframe\">\n",
       "  <thead>\n",
       "    <tr style=\"text-align: right;\">\n",
       "      <th></th>\n",
       "      <th>id</th>\n",
       "      <th>call_date</th>\n",
       "      <th>duration</th>\n",
       "      <th>user_id</th>\n",
       "    </tr>\n",
       "  </thead>\n",
       "  <tbody>\n",
       "    <tr>\n",
       "      <th>0</th>\n",
       "      <td>1000_0</td>\n",
       "      <td>2018-07-25</td>\n",
       "      <td>0.00</td>\n",
       "      <td>1000</td>\n",
       "    </tr>\n",
       "    <tr>\n",
       "      <th>1</th>\n",
       "      <td>1000_1</td>\n",
       "      <td>2018-08-17</td>\n",
       "      <td>0.00</td>\n",
       "      <td>1000</td>\n",
       "    </tr>\n",
       "    <tr>\n",
       "      <th>2</th>\n",
       "      <td>1000_2</td>\n",
       "      <td>2018-06-11</td>\n",
       "      <td>2.85</td>\n",
       "      <td>1000</td>\n",
       "    </tr>\n",
       "    <tr>\n",
       "      <th>3</th>\n",
       "      <td>1000_3</td>\n",
       "      <td>2018-09-21</td>\n",
       "      <td>13.80</td>\n",
       "      <td>1000</td>\n",
       "    </tr>\n",
       "    <tr>\n",
       "      <th>4</th>\n",
       "      <td>1000_4</td>\n",
       "      <td>2018-12-15</td>\n",
       "      <td>5.18</td>\n",
       "      <td>1000</td>\n",
       "    </tr>\n",
       "  </tbody>\n",
       "</table>\n",
       "</div>"
      ],
      "text/plain": [
       "       id   call_date  duration  user_id\n",
       "0  1000_0  2018-07-25      0.00     1000\n",
       "1  1000_1  2018-08-17      0.00     1000\n",
       "2  1000_2  2018-06-11      2.85     1000\n",
       "3  1000_3  2018-09-21     13.80     1000\n",
       "4  1000_4  2018-12-15      5.18     1000"
      ]
     },
     "execution_count": 9,
     "metadata": {},
     "output_type": "execute_result"
    }
   ],
   "source": [
    "calls.head()"
   ]
  },
  {
   "cell_type": "markdown",
   "metadata": {},
   "source": [
    "В таблице _calls.csv_ необходимо заменить тип данных в колонке _call_date_ на datetime[64].  \n",
    "Данные в колонке _duration_ нужно будет привести к целому количеству минут.  \n",
    "Помимо этого, важно учитывать, что _0_ в колонке _duration_ соответствует несостоявшемуся звонку. "
   ]
  },
  {
   "cell_type": "markdown",
   "metadata": {},
   "source": [
    "### Таблица _internet.csv_."
   ]
  },
  {
   "cell_type": "code",
   "execution_count": 10,
   "metadata": {},
   "outputs": [
    {
     "name": "stdout",
     "output_type": "stream",
     "text": [
      "<class 'pandas.core.frame.DataFrame'>\n",
      "RangeIndex: 149396 entries, 0 to 149395\n",
      "Data columns (total 5 columns):\n",
      " #   Column        Non-Null Count   Dtype  \n",
      "---  ------        --------------   -----  \n",
      " 0   Unnamed: 0    149396 non-null  int64  \n",
      " 1   id            149396 non-null  object \n",
      " 2   mb_used       149396 non-null  float64\n",
      " 3   session_date  149396 non-null  object \n",
      " 4   user_id       149396 non-null  int64  \n",
      "dtypes: float64(1), int64(2), object(2)\n",
      "memory usage: 5.7+ MB\n"
     ]
    }
   ],
   "source": [
    "internet.info()"
   ]
  },
  {
   "cell_type": "code",
   "execution_count": 11,
   "metadata": {},
   "outputs": [
    {
     "data": {
      "text/html": [
       "<div>\n",
       "<style scoped>\n",
       "    .dataframe tbody tr th:only-of-type {\n",
       "        vertical-align: middle;\n",
       "    }\n",
       "\n",
       "    .dataframe tbody tr th {\n",
       "        vertical-align: top;\n",
       "    }\n",
       "\n",
       "    .dataframe thead th {\n",
       "        text-align: right;\n",
       "    }\n",
       "</style>\n",
       "<table border=\"1\" class=\"dataframe\">\n",
       "  <thead>\n",
       "    <tr style=\"text-align: right;\">\n",
       "      <th></th>\n",
       "      <th>Unnamed: 0</th>\n",
       "      <th>id</th>\n",
       "      <th>mb_used</th>\n",
       "      <th>session_date</th>\n",
       "      <th>user_id</th>\n",
       "    </tr>\n",
       "  </thead>\n",
       "  <tbody>\n",
       "    <tr>\n",
       "      <th>0</th>\n",
       "      <td>0</td>\n",
       "      <td>1000_0</td>\n",
       "      <td>112.95</td>\n",
       "      <td>2018-11-25</td>\n",
       "      <td>1000</td>\n",
       "    </tr>\n",
       "    <tr>\n",
       "      <th>1</th>\n",
       "      <td>1</td>\n",
       "      <td>1000_1</td>\n",
       "      <td>1052.81</td>\n",
       "      <td>2018-09-07</td>\n",
       "      <td>1000</td>\n",
       "    </tr>\n",
       "    <tr>\n",
       "      <th>2</th>\n",
       "      <td>2</td>\n",
       "      <td>1000_2</td>\n",
       "      <td>1197.26</td>\n",
       "      <td>2018-06-25</td>\n",
       "      <td>1000</td>\n",
       "    </tr>\n",
       "    <tr>\n",
       "      <th>3</th>\n",
       "      <td>3</td>\n",
       "      <td>1000_3</td>\n",
       "      <td>550.27</td>\n",
       "      <td>2018-08-22</td>\n",
       "      <td>1000</td>\n",
       "    </tr>\n",
       "    <tr>\n",
       "      <th>4</th>\n",
       "      <td>4</td>\n",
       "      <td>1000_4</td>\n",
       "      <td>302.56</td>\n",
       "      <td>2018-09-24</td>\n",
       "      <td>1000</td>\n",
       "    </tr>\n",
       "    <tr>\n",
       "      <th>...</th>\n",
       "      <td>...</td>\n",
       "      <td>...</td>\n",
       "      <td>...</td>\n",
       "      <td>...</td>\n",
       "      <td>...</td>\n",
       "    </tr>\n",
       "    <tr>\n",
       "      <th>149391</th>\n",
       "      <td>149391</td>\n",
       "      <td>1499_152</td>\n",
       "      <td>318.90</td>\n",
       "      <td>2018-10-03</td>\n",
       "      <td>1499</td>\n",
       "    </tr>\n",
       "    <tr>\n",
       "      <th>149392</th>\n",
       "      <td>149392</td>\n",
       "      <td>1499_153</td>\n",
       "      <td>490.13</td>\n",
       "      <td>2018-12-14</td>\n",
       "      <td>1499</td>\n",
       "    </tr>\n",
       "    <tr>\n",
       "      <th>149393</th>\n",
       "      <td>149393</td>\n",
       "      <td>1499_154</td>\n",
       "      <td>0.00</td>\n",
       "      <td>2018-10-27</td>\n",
       "      <td>1499</td>\n",
       "    </tr>\n",
       "    <tr>\n",
       "      <th>149394</th>\n",
       "      <td>149394</td>\n",
       "      <td>1499_155</td>\n",
       "      <td>1246.32</td>\n",
       "      <td>2018-11-26</td>\n",
       "      <td>1499</td>\n",
       "    </tr>\n",
       "    <tr>\n",
       "      <th>149395</th>\n",
       "      <td>149395</td>\n",
       "      <td>1499_156</td>\n",
       "      <td>544.37</td>\n",
       "      <td>2018-10-26</td>\n",
       "      <td>1499</td>\n",
       "    </tr>\n",
       "  </tbody>\n",
       "</table>\n",
       "<p>149396 rows × 5 columns</p>\n",
       "</div>"
      ],
      "text/plain": [
       "        Unnamed: 0        id  mb_used session_date  user_id\n",
       "0                0    1000_0   112.95   2018-11-25     1000\n",
       "1                1    1000_1  1052.81   2018-09-07     1000\n",
       "2                2    1000_2  1197.26   2018-06-25     1000\n",
       "3                3    1000_3   550.27   2018-08-22     1000\n",
       "4                4    1000_4   302.56   2018-09-24     1000\n",
       "...            ...       ...      ...          ...      ...\n",
       "149391      149391  1499_152   318.90   2018-10-03     1499\n",
       "149392      149392  1499_153   490.13   2018-12-14     1499\n",
       "149393      149393  1499_154     0.00   2018-10-27     1499\n",
       "149394      149394  1499_155  1246.32   2018-11-26     1499\n",
       "149395      149395  1499_156   544.37   2018-10-26     1499\n",
       "\n",
       "[149396 rows x 5 columns]"
      ]
     },
     "execution_count": 11,
     "metadata": {},
     "output_type": "execute_result"
    }
   ],
   "source": [
    "internet"
   ]
  },
  {
   "cell_type": "markdown",
   "metadata": {},
   "source": [
    "В таблице _internet.csv_ необходимо заменить тип данных в колонке _session_date_ на тип datetime[64].  \n",
    "Данные в колонке _mb_used_ нужно привести к типу int[64] с округлением в бОльшую сторону.  \n",
    "Помимо этого, в таблице присутствует колонка _Unnamed: 0_, возникшая, вероятно, при выгрузке данных и содержащая дубли индексов записей. Колонка будет удалена.  \n",
    "Колонка _id_ менятся не будет"
   ]
  },
  {
   "cell_type": "markdown",
   "metadata": {},
   "source": [
    "### Таблица _tariffs.csv_."
   ]
  },
  {
   "cell_type": "code",
   "execution_count": 12,
   "metadata": {},
   "outputs": [
    {
     "name": "stdout",
     "output_type": "stream",
     "text": [
      "<class 'pandas.core.frame.DataFrame'>\n",
      "RangeIndex: 2 entries, 0 to 1\n",
      "Data columns (total 8 columns):\n",
      " #   Column                 Non-Null Count  Dtype \n",
      "---  ------                 --------------  ----- \n",
      " 0   messages_included      2 non-null      int64 \n",
      " 1   mb_per_month_included  2 non-null      int64 \n",
      " 2   minutes_included       2 non-null      int64 \n",
      " 3   rub_monthly_fee        2 non-null      int64 \n",
      " 4   rub_per_gb             2 non-null      int64 \n",
      " 5   rub_per_message        2 non-null      int64 \n",
      " 6   rub_per_minute         2 non-null      int64 \n",
      " 7   tariff_name            2 non-null      object\n",
      "dtypes: int64(7), object(1)\n",
      "memory usage: 256.0+ bytes\n"
     ]
    }
   ],
   "source": [
    "tariffs.info()"
   ]
  },
  {
   "cell_type": "code",
   "execution_count": 13,
   "metadata": {},
   "outputs": [
    {
     "data": {
      "text/html": [
       "<div>\n",
       "<style scoped>\n",
       "    .dataframe tbody tr th:only-of-type {\n",
       "        vertical-align: middle;\n",
       "    }\n",
       "\n",
       "    .dataframe tbody tr th {\n",
       "        vertical-align: top;\n",
       "    }\n",
       "\n",
       "    .dataframe thead th {\n",
       "        text-align: right;\n",
       "    }\n",
       "</style>\n",
       "<table border=\"1\" class=\"dataframe\">\n",
       "  <thead>\n",
       "    <tr style=\"text-align: right;\">\n",
       "      <th></th>\n",
       "      <th>messages_included</th>\n",
       "      <th>mb_per_month_included</th>\n",
       "      <th>minutes_included</th>\n",
       "      <th>rub_monthly_fee</th>\n",
       "      <th>rub_per_gb</th>\n",
       "      <th>rub_per_message</th>\n",
       "      <th>rub_per_minute</th>\n",
       "      <th>tariff_name</th>\n",
       "    </tr>\n",
       "  </thead>\n",
       "  <tbody>\n",
       "    <tr>\n",
       "      <th>0</th>\n",
       "      <td>50</td>\n",
       "      <td>15360</td>\n",
       "      <td>500</td>\n",
       "      <td>550</td>\n",
       "      <td>200</td>\n",
       "      <td>3</td>\n",
       "      <td>3</td>\n",
       "      <td>smart</td>\n",
       "    </tr>\n",
       "    <tr>\n",
       "      <th>1</th>\n",
       "      <td>1000</td>\n",
       "      <td>30720</td>\n",
       "      <td>3000</td>\n",
       "      <td>1950</td>\n",
       "      <td>150</td>\n",
       "      <td>1</td>\n",
       "      <td>1</td>\n",
       "      <td>ultra</td>\n",
       "    </tr>\n",
       "  </tbody>\n",
       "</table>\n",
       "</div>"
      ],
      "text/plain": [
       "   messages_included  mb_per_month_included  minutes_included  \\\n",
       "0                 50                  15360               500   \n",
       "1               1000                  30720              3000   \n",
       "\n",
       "   rub_monthly_fee  rub_per_gb  rub_per_message  rub_per_minute tariff_name  \n",
       "0              550         200                3               3       smart  \n",
       "1             1950         150                1               1       ultra  "
      ]
     },
     "execution_count": 13,
     "metadata": {},
     "output_type": "execute_result"
    }
   ],
   "source": [
    "tariffs.head()"
   ]
  },
  {
   "cell_type": "markdown",
   "metadata": {},
   "source": [
    "Данные в таблице _tariffs.csv_ в редактировании не нуждаются. "
   ]
  },
  {
   "cell_type": "markdown",
   "metadata": {},
   "source": [
    "### Промежуточный вывод. \n",
    "В ходе поверхностного знакомства с данными в первом приближении были сформулированы требования по __очистке__ данных, __замене типов__ данных, а также __выявлены особенности и__ явные __ошибки__ в исходных данных. "
   ]
  },
  {
   "cell_type": "markdown",
   "metadata": {},
   "source": [
    "## План выполнения проекта\n",
    "1. Проведение предобработки данных: \n",
    " 1. - [x] Удаление лишних столбцов\n",
    " 2. - [x] Замена типов данных\n",
    " 3. - [x] Обработка пропусков\n",
    " 4. - [x] Добавление новых столбцов в случае необходимости\n",
    " 5. - [x] Промежуточный вывод\n",
    "2. Проведение расчетов (для каждого пользователя): \n",
    " 1. - [x] Количество сделанных звонков и израсходованных минут разговора по месяцам\n",
    " 2. - [x] Количество отправленных сообщений по месяцам\n",
    " 3. - [x] Объем израсходованного интернет-трафика по месяцам\n",
    " 4. - [x] Помесячную выручку с каждого пользователя\n",
    " 5. - [x] Сбор информации в итоговую сводную таблицу\n",
    " 5. - [x] Промежуточный вывод\n",
    "3. Анализ статистик выборки:\n",
    " 1. - [x] Средние значения\n",
    " 2. - [x] Дисперсии, стандартные отклонения\n",
    " 3. - [x] Построение частотных диаграм и кривых распределения плотностей вероятности\n",
    " 4. - [x] Описание распределений\n",
    " 5. - [x] Расчет вероятности получения дополнительной прибыли с каждого пользователя\n",
    " 6. - [x] Промежуточный вывод\n",
    "4. Проверка гипотез:\n",
    " 1. - [x] Формулирование нулевых и альтернативных гипотез\n",
    " 2. - [x] Проведение статистических тестов\n",
    " 3. - [x] Промежуточный вывод\n",
    "5. - [x] Общий вывод\n",
    "  "
   ]
  },
  {
   "cell_type": "markdown",
   "metadata": {},
   "source": [
    "## Предобработка данных"
   ]
  },
  {
   "cell_type": "markdown",
   "metadata": {},
   "source": [
    "### Удаление столбцов. \n",
    "В таблице _messages.csv_ присутствует колонка, не имеющая смысла и подлежащая удалению.  \n",
    "Возникновение колонки связано, вероятнее всего, с ошибкой в алгоритме выгрузки данных."
   ]
  },
  {
   "cell_type": "code",
   "execution_count": 14,
   "metadata": {},
   "outputs": [],
   "source": [
    "internet = internet.drop(columns=['Unnamed: 0'])"
   ]
  },
  {
   "cell_type": "markdown",
   "metadata": {},
   "source": [
    "### Замена типов данных. \n",
    "Замена будет выполнена в соответствии с ранее сделанными выводами.  \n",
    "##### Таблица _users.csv_. \n",
    "1. Введение формата _datetime64_\n",
    "2. Добавление колонки _is_active_, содержашей информацию о статусе пользования тарифом"
   ]
  },
  {
   "cell_type": "code",
   "execution_count": 15,
   "metadata": {},
   "outputs": [
    {
     "name": "stdout",
     "output_type": "stream",
     "text": [
      "<class 'pandas.core.frame.DataFrame'>\n",
      "RangeIndex: 500 entries, 0 to 499\n",
      "Data columns (total 9 columns):\n",
      " #   Column      Non-Null Count  Dtype         \n",
      "---  ------      --------------  -----         \n",
      " 0   user_id     500 non-null    int64         \n",
      " 1   age         500 non-null    int64         \n",
      " 2   churn_date  38 non-null     datetime64[ns]\n",
      " 3   city        500 non-null    object        \n",
      " 4   first_name  500 non-null    object        \n",
      " 5   last_name   500 non-null    object        \n",
      " 6   reg_date    500 non-null    datetime64[ns]\n",
      " 7   tariff      500 non-null    object        \n",
      " 8   is_active   500 non-null    bool          \n",
      "dtypes: bool(1), datetime64[ns](2), int64(2), object(4)\n",
      "memory usage: 31.9+ KB\n"
     ]
    }
   ],
   "source": [
    "users['reg_date'] = pd.to_datetime(users['reg_date'], format='%Y-%m-%d')\n",
    "users['churn_date'] = pd.to_datetime(users['churn_date'], format='%Y-%m-%d')\n",
    "users['is_active'] = users['churn_date'].isna()\n",
    "users.info()"
   ]
  },
  {
   "cell_type": "markdown",
   "metadata": {},
   "source": [
    "##### Таблица _messages.csv_.\n",
    "1. Введение формата _datetime64_"
   ]
  },
  {
   "cell_type": "code",
   "execution_count": 16,
   "metadata": {},
   "outputs": [
    {
     "name": "stdout",
     "output_type": "stream",
     "text": [
      "<class 'pandas.core.frame.DataFrame'>\n",
      "RangeIndex: 123036 entries, 0 to 123035\n",
      "Data columns (total 3 columns):\n",
      " #   Column        Non-Null Count   Dtype         \n",
      "---  ------        --------------   -----         \n",
      " 0   id            123036 non-null  object        \n",
      " 1   message_date  123036 non-null  datetime64[ns]\n",
      " 2   user_id       123036 non-null  int64         \n",
      "dtypes: datetime64[ns](1), int64(1), object(1)\n",
      "memory usage: 2.8+ MB\n"
     ]
    }
   ],
   "source": [
    "messages['message_date'] = pd.to_datetime(messages['message_date'], format='%Y-%m-%d')\n",
    "messages.info()"
   ]
  },
  {
   "cell_type": "markdown",
   "metadata": {},
   "source": [
    "##### Таблица _calls.csv_. \n",
    "1. Введение формата _datetime64_\n",
    "2. Округление данных о продолжительности звонка в бОльшую сторону и приведение к типу _int64_ "
   ]
  },
  {
   "cell_type": "code",
   "execution_count": 17,
   "metadata": {},
   "outputs": [
    {
     "name": "stdout",
     "output_type": "stream",
     "text": [
      "<class 'pandas.core.frame.DataFrame'>\n",
      "RangeIndex: 202607 entries, 0 to 202606\n",
      "Data columns (total 4 columns):\n",
      " #   Column     Non-Null Count   Dtype         \n",
      "---  ------     --------------   -----         \n",
      " 0   id         202607 non-null  object        \n",
      " 1   call_date  202607 non-null  datetime64[ns]\n",
      " 2   duration   202607 non-null  int64         \n",
      " 3   user_id    202607 non-null  int64         \n",
      "dtypes: datetime64[ns](1), int64(2), object(1)\n",
      "memory usage: 6.2+ MB\n"
     ]
    }
   ],
   "source": [
    "calls['call_date'] = pd.to_datetime(calls['call_date'], format='%Y-%m-%d')\n",
    "calls['duration'] = np.ceil(calls['duration']).astype('int64')\n",
    "calls.info()"
   ]
  },
  {
   "cell_type": "markdown",
   "metadata": {},
   "source": [
    "##### Таблица _internet.csv_.\n",
    "1. Введение формата _datetime64_\n",
    "2. Округление объема интернет-трафика в бОльшую сторону и приведение к типу _int64_"
   ]
  },
  {
   "cell_type": "code",
   "execution_count": 18,
   "metadata": {},
   "outputs": [
    {
     "name": "stdout",
     "output_type": "stream",
     "text": [
      "<class 'pandas.core.frame.DataFrame'>\n",
      "RangeIndex: 149396 entries, 0 to 149395\n",
      "Data columns (total 4 columns):\n",
      " #   Column        Non-Null Count   Dtype         \n",
      "---  ------        --------------   -----         \n",
      " 0   id            149396 non-null  object        \n",
      " 1   mb_used       149396 non-null  int64         \n",
      " 2   session_date  149396 non-null  datetime64[ns]\n",
      " 3   user_id       149396 non-null  int64         \n",
      "dtypes: datetime64[ns](1), int64(2), object(1)\n",
      "memory usage: 4.6+ MB\n"
     ]
    }
   ],
   "source": [
    "internet['session_date'] = pd.to_datetime(internet['session_date'], format='%Y-%m-%d')\n",
    "internet['mb_used'] = np.ceil(internet['mb_used']).astype('int64')\n",
    "internet.info()"
   ]
  },
  {
   "cell_type": "markdown",
   "metadata": {},
   "source": [
    "### Нулевые значения продолжительности звонков и объема использованного трафика. "
   ]
  },
  {
   "cell_type": "markdown",
   "metadata": {},
   "source": [
    "#### Таблица _calls.csv_.\n",
    "__Ключевой параметр, исследуемый в проекте - экономическая эффективность тарифов.__  \n",
    "Согласно политике ценообразования, за звонок, продолжительностью в 0 секунд, абонент не платит, помимо этого, такие звонки не расходуют ресурс минут тарифа.  \n",
    "Следовательно, при исследовании прибыльности тарифа, __случаи с нулевой продолжительностью звонка рассматривать нельзя.__ С точки зрения статистики, сохранение записей о звонках с нулевой продолжительностью приведет к __смещению статистик выборки__ в меньшую сторону.  \n",
    "  \n",
    "_Примечание_: было проведено сравнение результатов дальнейшего исследования для датасетов с сохраненными нулевыми значениями и без них. Разница в полученных значениях не превысила сотой процента для каждого из показателей. Вероятнее всего, это связано с тем, что при расчетах данные группируются по месяцам и влияение нулевых значений практически полностью нивелируется. "
   ]
  },
  {
   "cell_type": "code",
   "execution_count": 19,
   "metadata": {},
   "outputs": [
    {
     "name": "stdout",
     "output_type": "stream",
     "text": [
      "<class 'pandas.core.frame.DataFrame'>\n",
      "RangeIndex: 162994 entries, 0 to 162993\n",
      "Data columns (total 4 columns):\n",
      " #   Column     Non-Null Count   Dtype         \n",
      "---  ------     --------------   -----         \n",
      " 0   id         162994 non-null  object        \n",
      " 1   call_date  162994 non-null  datetime64[ns]\n",
      " 2   duration   162994 non-null  int64         \n",
      " 3   user_id    162994 non-null  int64         \n",
      "dtypes: datetime64[ns](1), int64(2), object(1)\n",
      "memory usage: 5.0+ MB\n"
     ]
    }
   ],
   "source": [
    "calls_len_before = len(calls)\n",
    "calls = calls.query('duration != 0').reset_index(drop=True)\n",
    "calls_len_after = len(calls)\n",
    "calls_len_reduce = round(100 * (calls_len_before - calls_len_after) / calls_len_before, 2)\n",
    "calls.info()"
   ]
  },
  {
   "cell_type": "code",
   "execution_count": 20,
   "metadata": {},
   "outputs": [
    {
     "name": "stdout",
     "output_type": "stream",
     "text": [
      "<class 'pandas.core.frame.DataFrame'>\n",
      "RangeIndex: 129798 entries, 0 to 129797\n",
      "Data columns (total 4 columns):\n",
      " #   Column        Non-Null Count   Dtype         \n",
      "---  ------        --------------   -----         \n",
      " 0   id            129798 non-null  object        \n",
      " 1   mb_used       129798 non-null  int64         \n",
      " 2   session_date  129798 non-null  datetime64[ns]\n",
      " 3   user_id       129798 non-null  int64         \n",
      "dtypes: datetime64[ns](1), int64(2), object(1)\n",
      "memory usage: 4.0+ MB\n"
     ]
    }
   ],
   "source": [
    "internet_len_before = len(internet)\n",
    "internet = internet.query('mb_used != 0').reset_index(drop=True)\n",
    "internet_len_after = len(internet)\n",
    "internet_len_reduce = round(100 * (internet_len_before - internet_len_after) / internet_len_before, 2)\n",
    "internet.info()"
   ]
  },
  {
   "cell_type": "code",
   "execution_count": 21,
   "metadata": {},
   "outputs": [
    {
     "name": "stdout",
     "output_type": "stream",
     "text": [
      "Сокращение датасета calls составило 19.55%\n",
      "Сокращение датасета internet составило 13.12%\n"
     ]
    }
   ],
   "source": [
    "print(f'Сокращение датасета calls составило {calls_len_reduce}%')\n",
    "print(f'Сокращение датасета internet составило {internet_len_reduce}%')"
   ]
  },
  {
   "cell_type": "markdown",
   "metadata": {},
   "source": [
    "#### Таблица _users.csv_. \n",
    "Данная таблица единственная из всего набора содержит пропуски.  \n",
    "Однако, согласно техническому заданию, пропуски возникли в результате особенностей алгоритма выгрузки данных и в расчете (на данном этапе) ни на что не влияют.  \n",
    "В случае возникновения необходимости, пропуски будут удалены в дальнейшем. "
   ]
  },
  {
   "cell_type": "markdown",
   "metadata": {},
   "source": [
    "### Добавление новых столбцов. "
   ]
  },
  {
   "cell_type": "markdown",
   "metadata": {},
   "source": [
    "Во все таблицы, содержащие данные типа _datetime_ будут добавлены колонки _month_num_ и _month_name_, отвечающие за номер месяца и его название соответственно. "
   ]
  },
  {
   "cell_type": "code",
   "execution_count": 22,
   "metadata": {},
   "outputs": [],
   "source": [
    "users['month_num'] = users['reg_date'].dt.month\n",
    "users['month_name'] = users['reg_date'].dt.month_name()\n",
    "\n",
    "messages['month_num'] = messages['message_date'].dt.month\n",
    "messages['month_name'] = messages['message_date'].dt.month_name()\n",
    "\n",
    "calls['month_num'] = calls['call_date'].dt.month\n",
    "calls['month_name'] = calls['call_date'].dt.month_name()\n",
    "\n",
    "internet['month_num'] = internet['session_date'].dt.month\n",
    "internet['month_name'] = internet['session_date'].dt.month_name()"
   ]
  },
  {
   "cell_type": "markdown",
   "metadata": {},
   "source": [
    "### Промежуточный вывод. \n",
    "В ходе предобработки данных: \n",
    "1. Была произведена замена типов (введены типы datetime64, int64) \n",
    "2. Количества звонков и израсходованного интернет-трафика были перерассчитаны с учетом политики ценообразования компании\n",
    "3. Была удалена лишняя колонка в таблице _internet.csv_\n",
    "4. В имеющиеся таблицы с информацией о датах были добавлены колонки, отвечающие за номер месяца и его название. "
   ]
  },
  {
   "cell_type": "markdown",
   "metadata": {},
   "source": [
    "## Расчеты. "
   ]
  },
  {
   "cell_type": "markdown",
   "metadata": {},
   "source": [
    "Расчеты будут проведены в следующем порядке: \n",
    "1. Данные по минутам, сообщениям и трафику будут сгруппированы по пользователям и месяцам\n",
    "2. Для каждой составляющей выручки будут рассчитаны количества и израсходованный объем\n",
    "3. Данные будут объеденены в общую сводную таблицу\n",
    "4. В полученную таблицу для каждого пользователя и месяца будут добавлены значения месячной выручки"
   ]
  },
  {
   "cell_type": "markdown",
   "metadata": {},
   "source": [
    "### Минуты разговора. "
   ]
  },
  {
   "cell_type": "code",
   "execution_count": 23,
   "metadata": {},
   "outputs": [
    {
     "data": {
      "text/html": [
       "<div>\n",
       "<style scoped>\n",
       "    .dataframe tbody tr th:only-of-type {\n",
       "        vertical-align: middle;\n",
       "    }\n",
       "\n",
       "    .dataframe tbody tr th {\n",
       "        vertical-align: top;\n",
       "    }\n",
       "\n",
       "    .dataframe thead th {\n",
       "        text-align: right;\n",
       "    }\n",
       "</style>\n",
       "<table border=\"1\" class=\"dataframe\">\n",
       "  <thead>\n",
       "    <tr style=\"text-align: right;\">\n",
       "      <th></th>\n",
       "      <th></th>\n",
       "      <th>minutes_cnt</th>\n",
       "      <th>call_cnt</th>\n",
       "    </tr>\n",
       "    <tr>\n",
       "      <th>user_id</th>\n",
       "      <th>month_num</th>\n",
       "      <th></th>\n",
       "      <th></th>\n",
       "    </tr>\n",
       "  </thead>\n",
       "  <tbody>\n",
       "    <tr>\n",
       "      <th rowspan=\"5\" valign=\"top\">1000</th>\n",
       "      <th>5</th>\n",
       "      <td>159</td>\n",
       "      <td>17</td>\n",
       "    </tr>\n",
       "    <tr>\n",
       "      <th>6</th>\n",
       "      <td>172</td>\n",
       "      <td>28</td>\n",
       "    </tr>\n",
       "    <tr>\n",
       "      <th>7</th>\n",
       "      <td>340</td>\n",
       "      <td>41</td>\n",
       "    </tr>\n",
       "    <tr>\n",
       "      <th>8</th>\n",
       "      <td>408</td>\n",
       "      <td>42</td>\n",
       "    </tr>\n",
       "    <tr>\n",
       "      <th>9</th>\n",
       "      <td>466</td>\n",
       "      <td>46</td>\n",
       "    </tr>\n",
       "    <tr>\n",
       "      <th>...</th>\n",
       "      <th>...</th>\n",
       "      <td>...</td>\n",
       "      <td>...</td>\n",
       "    </tr>\n",
       "    <tr>\n",
       "      <th>1498</th>\n",
       "      <th>10</th>\n",
       "      <td>247</td>\n",
       "      <td>30</td>\n",
       "    </tr>\n",
       "    <tr>\n",
       "      <th rowspan=\"4\" valign=\"top\">1499</th>\n",
       "      <th>9</th>\n",
       "      <td>70</td>\n",
       "      <td>8</td>\n",
       "    </tr>\n",
       "    <tr>\n",
       "      <th>10</th>\n",
       "      <td>449</td>\n",
       "      <td>44</td>\n",
       "    </tr>\n",
       "    <tr>\n",
       "      <th>11</th>\n",
       "      <td>612</td>\n",
       "      <td>62</td>\n",
       "    </tr>\n",
       "    <tr>\n",
       "      <th>12</th>\n",
       "      <td>492</td>\n",
       "      <td>56</td>\n",
       "    </tr>\n",
       "  </tbody>\n",
       "</table>\n",
       "<p>3168 rows × 2 columns</p>\n",
       "</div>"
      ],
      "text/plain": [
       "                   minutes_cnt  call_cnt\n",
       "user_id month_num                       \n",
       "1000    5                  159        17\n",
       "        6                  172        28\n",
       "        7                  340        41\n",
       "        8                  408        42\n",
       "        9                  466        46\n",
       "...                        ...       ...\n",
       "1498    10                 247        30\n",
       "1499    9                   70         8\n",
       "        10                 449        44\n",
       "        11                 612        62\n",
       "        12                 492        56\n",
       "\n",
       "[3168 rows x 2 columns]"
      ]
     },
     "execution_count": 23,
     "metadata": {},
     "output_type": "execute_result"
    }
   ],
   "source": [
    "calls_pivot = (calls.pivot_table(index=['user_id', 'month_num'], \n",
    "                                 values=['id', 'duration'], \n",
    "                                 aggfunc={'id': 'count', \n",
    "                                         'duration': 'sum'})\n",
    "                    .rename(columns={'duration': 'minutes_cnt',\n",
    "                                    'id': 'call_cnt'}))\n",
    "calls_pivot"
   ]
  },
  {
   "cell_type": "markdown",
   "metadata": {},
   "source": [
    "###### Количество пользователей, расходовавших минуты"
   ]
  },
  {
   "cell_type": "code",
   "execution_count": 24,
   "metadata": {},
   "outputs": [
    {
     "data": {
      "text/plain": [
       "492"
      ]
     },
     "execution_count": 24,
     "metadata": {},
     "output_type": "execute_result"
    }
   ],
   "source": [
    "len(calls_pivot.reset_index()['user_id'].unique())"
   ]
  },
  {
   "cell_type": "markdown",
   "metadata": {},
   "source": [
    "### Объем интернет-трафика. "
   ]
  },
  {
   "cell_type": "code",
   "execution_count": 25,
   "metadata": {},
   "outputs": [
    {
     "data": {
      "text/html": [
       "<div>\n",
       "<style scoped>\n",
       "    .dataframe tbody tr th:only-of-type {\n",
       "        vertical-align: middle;\n",
       "    }\n",
       "\n",
       "    .dataframe tbody tr th {\n",
       "        vertical-align: top;\n",
       "    }\n",
       "\n",
       "    .dataframe thead th {\n",
       "        text-align: right;\n",
       "    }\n",
       "</style>\n",
       "<table border=\"1\" class=\"dataframe\">\n",
       "  <thead>\n",
       "    <tr style=\"text-align: right;\">\n",
       "      <th></th>\n",
       "      <th></th>\n",
       "      <th>session_cnt</th>\n",
       "      <th>mb_cnt</th>\n",
       "    </tr>\n",
       "    <tr>\n",
       "      <th>user_id</th>\n",
       "      <th>month_num</th>\n",
       "      <th></th>\n",
       "      <th></th>\n",
       "    </tr>\n",
       "  </thead>\n",
       "  <tbody>\n",
       "    <tr>\n",
       "      <th rowspan=\"5\" valign=\"top\">1000</th>\n",
       "      <th>5</th>\n",
       "      <td>4</td>\n",
       "      <td>2256</td>\n",
       "    </tr>\n",
       "    <tr>\n",
       "      <th>6</th>\n",
       "      <td>44</td>\n",
       "      <td>23257</td>\n",
       "    </tr>\n",
       "    <tr>\n",
       "      <th>7</th>\n",
       "      <td>28</td>\n",
       "      <td>14016</td>\n",
       "    </tr>\n",
       "    <tr>\n",
       "      <th>8</th>\n",
       "      <td>27</td>\n",
       "      <td>14070</td>\n",
       "    </tr>\n",
       "    <tr>\n",
       "      <th>9</th>\n",
       "      <td>25</td>\n",
       "      <td>14581</td>\n",
       "    </tr>\n",
       "    <tr>\n",
       "      <th>...</th>\n",
       "      <th>...</th>\n",
       "      <td>...</td>\n",
       "      <td>...</td>\n",
       "    </tr>\n",
       "    <tr>\n",
       "      <th>1498</th>\n",
       "      <th>10</th>\n",
       "      <td>49</td>\n",
       "      <td>20604</td>\n",
       "    </tr>\n",
       "    <tr>\n",
       "      <th rowspan=\"4\" valign=\"top\">1499</th>\n",
       "      <th>9</th>\n",
       "      <td>4</td>\n",
       "      <td>1848</td>\n",
       "    </tr>\n",
       "    <tr>\n",
       "      <th>10</th>\n",
       "      <td>43</td>\n",
       "      <td>17809</td>\n",
       "    </tr>\n",
       "    <tr>\n",
       "      <th>11</th>\n",
       "      <td>39</td>\n",
       "      <td>17984</td>\n",
       "    </tr>\n",
       "    <tr>\n",
       "      <th>12</th>\n",
       "      <td>40</td>\n",
       "      <td>13077</td>\n",
       "    </tr>\n",
       "  </tbody>\n",
       "</table>\n",
       "<p>3201 rows × 2 columns</p>\n",
       "</div>"
      ],
      "text/plain": [
       "                   session_cnt  mb_cnt\n",
       "user_id month_num                     \n",
       "1000    5                    4    2256\n",
       "        6                   44   23257\n",
       "        7                   28   14016\n",
       "        8                   27   14070\n",
       "        9                   25   14581\n",
       "...                        ...     ...\n",
       "1498    10                  49   20604\n",
       "1499    9                    4    1848\n",
       "        10                  43   17809\n",
       "        11                  39   17984\n",
       "        12                  40   13077\n",
       "\n",
       "[3201 rows x 2 columns]"
      ]
     },
     "execution_count": 25,
     "metadata": {},
     "output_type": "execute_result"
    }
   ],
   "source": [
    "internet_pivot = (internet.pivot_table(index=['user_id', 'month_num'], \n",
    "                                       values=['mb_used', 'id'], \n",
    "                                       aggfunc={'mb_used': 'sum', \n",
    "                                                'id': 'count'})\n",
    "                          .rename(columns={'id': 'session_cnt', \n",
    "                                           'mb_used': 'mb_cnt'}))\n",
    "internet_pivot"
   ]
  },
  {
   "cell_type": "markdown",
   "metadata": {},
   "source": [
    "###### Количество абонентов, пользовавшихся интернетом"
   ]
  },
  {
   "cell_type": "code",
   "execution_count": 26,
   "metadata": {},
   "outputs": [
    {
     "data": {
      "text/plain": [
       "497"
      ]
     },
     "execution_count": 26,
     "metadata": {},
     "output_type": "execute_result"
    }
   ],
   "source": [
    "len(internet_pivot.reset_index()['user_id'].unique())"
   ]
  },
  {
   "cell_type": "markdown",
   "metadata": {},
   "source": [
    "### СМС-сообщения"
   ]
  },
  {
   "cell_type": "code",
   "execution_count": 27,
   "metadata": {},
   "outputs": [
    {
     "data": {
      "text/html": [
       "<div>\n",
       "<style scoped>\n",
       "    .dataframe tbody tr th:only-of-type {\n",
       "        vertical-align: middle;\n",
       "    }\n",
       "\n",
       "    .dataframe tbody tr th {\n",
       "        vertical-align: top;\n",
       "    }\n",
       "\n",
       "    .dataframe thead th {\n",
       "        text-align: right;\n",
       "    }\n",
       "</style>\n",
       "<table border=\"1\" class=\"dataframe\">\n",
       "  <thead>\n",
       "    <tr style=\"text-align: right;\">\n",
       "      <th></th>\n",
       "      <th></th>\n",
       "      <th>msg_cnt</th>\n",
       "    </tr>\n",
       "    <tr>\n",
       "      <th>user_id</th>\n",
       "      <th>month_num</th>\n",
       "      <th></th>\n",
       "    </tr>\n",
       "  </thead>\n",
       "  <tbody>\n",
       "    <tr>\n",
       "      <th rowspan=\"5\" valign=\"top\">1000</th>\n",
       "      <th>5</th>\n",
       "      <td>22</td>\n",
       "    </tr>\n",
       "    <tr>\n",
       "      <th>6</th>\n",
       "      <td>60</td>\n",
       "    </tr>\n",
       "    <tr>\n",
       "      <th>7</th>\n",
       "      <td>75</td>\n",
       "    </tr>\n",
       "    <tr>\n",
       "      <th>8</th>\n",
       "      <td>81</td>\n",
       "    </tr>\n",
       "    <tr>\n",
       "      <th>9</th>\n",
       "      <td>57</td>\n",
       "    </tr>\n",
       "    <tr>\n",
       "      <th>...</th>\n",
       "      <th>...</th>\n",
       "      <td>...</td>\n",
       "    </tr>\n",
       "    <tr>\n",
       "      <th>1498</th>\n",
       "      <th>10</th>\n",
       "      <td>42</td>\n",
       "    </tr>\n",
       "    <tr>\n",
       "      <th rowspan=\"4\" valign=\"top\">1499</th>\n",
       "      <th>9</th>\n",
       "      <td>11</td>\n",
       "    </tr>\n",
       "    <tr>\n",
       "      <th>10</th>\n",
       "      <td>48</td>\n",
       "    </tr>\n",
       "    <tr>\n",
       "      <th>11</th>\n",
       "      <td>59</td>\n",
       "    </tr>\n",
       "    <tr>\n",
       "      <th>12</th>\n",
       "      <td>66</td>\n",
       "    </tr>\n",
       "  </tbody>\n",
       "</table>\n",
       "<p>2717 rows × 1 columns</p>\n",
       "</div>"
      ],
      "text/plain": [
       "                   msg_cnt\n",
       "user_id month_num         \n",
       "1000    5               22\n",
       "        6               60\n",
       "        7               75\n",
       "        8               81\n",
       "        9               57\n",
       "...                    ...\n",
       "1498    10              42\n",
       "1499    9               11\n",
       "        10              48\n",
       "        11              59\n",
       "        12              66\n",
       "\n",
       "[2717 rows x 1 columns]"
      ]
     },
     "execution_count": 27,
     "metadata": {},
     "output_type": "execute_result"
    }
   ],
   "source": [
    "messages_pivot = (messages.pivot_table(index=['user_id', 'month_num'], \n",
    "                                       values=['id'], \n",
    "                                       aggfunc={'id': 'count'})\n",
    "                          .rename(columns={'id': 'msg_cnt'}))\n",
    "messages_pivot"
   ]
  },
  {
   "cell_type": "markdown",
   "metadata": {},
   "source": [
    "###### Количество абонентов, отправлявших СМС-сообщения"
   ]
  },
  {
   "cell_type": "code",
   "execution_count": 28,
   "metadata": {},
   "outputs": [
    {
     "data": {
      "text/plain": [
       "426"
      ]
     },
     "execution_count": 28,
     "metadata": {},
     "output_type": "execute_result"
    }
   ],
   "source": [
    "len(messages_pivot.reset_index()['user_id'].unique())"
   ]
  },
  {
   "cell_type": "markdown",
   "metadata": {},
   "source": [
    "### Общая таблица"
   ]
  },
  {
   "cell_type": "code",
   "execution_count": 29,
   "metadata": {
    "scrolled": false
   },
   "outputs": [
    {
     "name": "stdout",
     "output_type": "stream",
     "text": [
      "Количество абонентов, пользовавшихся услугами связи: 498\n"
     ]
    }
   ],
   "source": [
    "total_pivot = (calls_pivot.merge(messages_pivot, \n",
    "                                 on=['user_id', 'month_num'], \n",
    "                                 how='outer') \n",
    "                          .merge(internet_pivot, \n",
    "                                 on=['user_id', 'month_num'], \n",
    "                                 how='outer')\n",
    "                          .reset_index()\n",
    "                          .merge(users[['user_id', 'tariff']], \n",
    "                                 on='user_id',\n",
    "                                 how='left')\n",
    "                          .fillna(0))\n",
    "print('Количество абонентов, пользовавшихся услугами связи:', len(total_pivot.reset_index()['user_id'].unique()))\n",
    "total_pivot['gb_cnt'] = np.round(total_pivot['mb_cnt'] / 1024, 2)"
   ]
  },
  {
   "cell_type": "markdown",
   "metadata": {},
   "source": [
    "После проведения операций, описанных выше, в итоговую таблицу не попали __2 пользователя__, которые, по всей видимости, __не использовали услуги связи__ ни по одному из направлений. "
   ]
  },
  {
   "cell_type": "code",
   "execution_count": 30,
   "metadata": {},
   "outputs": [
    {
     "data": {
      "text/html": [
       "<div>\n",
       "<style scoped>\n",
       "    .dataframe tbody tr th:only-of-type {\n",
       "        vertical-align: middle;\n",
       "    }\n",
       "\n",
       "    .dataframe tbody tr th {\n",
       "        vertical-align: top;\n",
       "    }\n",
       "\n",
       "    .dataframe thead th {\n",
       "        text-align: right;\n",
       "    }\n",
       "</style>\n",
       "<table border=\"1\" class=\"dataframe\">\n",
       "  <thead>\n",
       "    <tr style=\"text-align: right;\">\n",
       "      <th></th>\n",
       "      <th>user_id</th>\n",
       "      <th>month_num</th>\n",
       "      <th>minutes_cnt</th>\n",
       "      <th>call_cnt</th>\n",
       "      <th>msg_cnt</th>\n",
       "      <th>session_cnt</th>\n",
       "      <th>mb_cnt</th>\n",
       "      <th>tariff</th>\n",
       "      <th>gb_cnt</th>\n",
       "      <th>total_net_worth</th>\n",
       "    </tr>\n",
       "  </thead>\n",
       "  <tbody>\n",
       "    <tr>\n",
       "      <th>0</th>\n",
       "      <td>1000</td>\n",
       "      <td>5</td>\n",
       "      <td>159.0</td>\n",
       "      <td>17.0</td>\n",
       "      <td>22.0</td>\n",
       "      <td>4.0</td>\n",
       "      <td>2256.0</td>\n",
       "      <td>ultra</td>\n",
       "      <td>2.20</td>\n",
       "      <td>1971</td>\n",
       "    </tr>\n",
       "    <tr>\n",
       "      <th>1</th>\n",
       "      <td>1000</td>\n",
       "      <td>6</td>\n",
       "      <td>172.0</td>\n",
       "      <td>28.0</td>\n",
       "      <td>60.0</td>\n",
       "      <td>44.0</td>\n",
       "      <td>23257.0</td>\n",
       "      <td>ultra</td>\n",
       "      <td>22.71</td>\n",
       "      <td>2009</td>\n",
       "    </tr>\n",
       "    <tr>\n",
       "      <th>2</th>\n",
       "      <td>1000</td>\n",
       "      <td>7</td>\n",
       "      <td>340.0</td>\n",
       "      <td>41.0</td>\n",
       "      <td>75.0</td>\n",
       "      <td>28.0</td>\n",
       "      <td>14016.0</td>\n",
       "      <td>ultra</td>\n",
       "      <td>13.69</td>\n",
       "      <td>2024</td>\n",
       "    </tr>\n",
       "    <tr>\n",
       "      <th>3</th>\n",
       "      <td>1000</td>\n",
       "      <td>8</td>\n",
       "      <td>408.0</td>\n",
       "      <td>42.0</td>\n",
       "      <td>81.0</td>\n",
       "      <td>27.0</td>\n",
       "      <td>14070.0</td>\n",
       "      <td>ultra</td>\n",
       "      <td>13.74</td>\n",
       "      <td>2030</td>\n",
       "    </tr>\n",
       "    <tr>\n",
       "      <th>4</th>\n",
       "      <td>1000</td>\n",
       "      <td>9</td>\n",
       "      <td>466.0</td>\n",
       "      <td>46.0</td>\n",
       "      <td>57.0</td>\n",
       "      <td>25.0</td>\n",
       "      <td>14581.0</td>\n",
       "      <td>ultra</td>\n",
       "      <td>14.24</td>\n",
       "      <td>2006</td>\n",
       "    </tr>\n",
       "    <tr>\n",
       "      <th>...</th>\n",
       "      <td>...</td>\n",
       "      <td>...</td>\n",
       "      <td>...</td>\n",
       "      <td>...</td>\n",
       "      <td>...</td>\n",
       "      <td>...</td>\n",
       "      <td>...</td>\n",
       "      <td>...</td>\n",
       "      <td>...</td>\n",
       "      <td>...</td>\n",
       "    </tr>\n",
       "    <tr>\n",
       "      <th>3209</th>\n",
       "      <td>1489</td>\n",
       "      <td>10</td>\n",
       "      <td>0.0</td>\n",
       "      <td>0.0</td>\n",
       "      <td>21.0</td>\n",
       "      <td>52.0</td>\n",
       "      <td>19588.0</td>\n",
       "      <td>smart</td>\n",
       "      <td>19.13</td>\n",
       "      <td>1604</td>\n",
       "    </tr>\n",
       "    <tr>\n",
       "      <th>3210</th>\n",
       "      <td>1489</td>\n",
       "      <td>11</td>\n",
       "      <td>0.0</td>\n",
       "      <td>0.0</td>\n",
       "      <td>20.0</td>\n",
       "      <td>45.0</td>\n",
       "      <td>17516.0</td>\n",
       "      <td>smart</td>\n",
       "      <td>17.11</td>\n",
       "      <td>1201</td>\n",
       "    </tr>\n",
       "    <tr>\n",
       "      <th>3211</th>\n",
       "      <td>1489</td>\n",
       "      <td>12</td>\n",
       "      <td>0.0</td>\n",
       "      <td>0.0</td>\n",
       "      <td>35.0</td>\n",
       "      <td>43.0</td>\n",
       "      <td>17341.0</td>\n",
       "      <td>smart</td>\n",
       "      <td>16.93</td>\n",
       "      <td>1046</td>\n",
       "    </tr>\n",
       "    <tr>\n",
       "      <th>3212</th>\n",
       "      <td>1240</td>\n",
       "      <td>2</td>\n",
       "      <td>0.0</td>\n",
       "      <td>0.0</td>\n",
       "      <td>0.0</td>\n",
       "      <td>3.0</td>\n",
       "      <td>961.0</td>\n",
       "      <td>ultra</td>\n",
       "      <td>0.94</td>\n",
       "      <td>1950</td>\n",
       "    </tr>\n",
       "    <tr>\n",
       "      <th>3213</th>\n",
       "      <td>1476</td>\n",
       "      <td>4</td>\n",
       "      <td>0.0</td>\n",
       "      <td>0.0</td>\n",
       "      <td>0.0</td>\n",
       "      <td>1.0</td>\n",
       "      <td>531.0</td>\n",
       "      <td>ultra</td>\n",
       "      <td>0.52</td>\n",
       "      <td>1950</td>\n",
       "    </tr>\n",
       "  </tbody>\n",
       "</table>\n",
       "<p>3214 rows × 10 columns</p>\n",
       "</div>"
      ],
      "text/plain": [
       "      user_id  month_num  minutes_cnt  call_cnt  msg_cnt  session_cnt  \\\n",
       "0        1000          5        159.0      17.0     22.0          4.0   \n",
       "1        1000          6        172.0      28.0     60.0         44.0   \n",
       "2        1000          7        340.0      41.0     75.0         28.0   \n",
       "3        1000          8        408.0      42.0     81.0         27.0   \n",
       "4        1000          9        466.0      46.0     57.0         25.0   \n",
       "...       ...        ...          ...       ...      ...          ...   \n",
       "3209     1489         10          0.0       0.0     21.0         52.0   \n",
       "3210     1489         11          0.0       0.0     20.0         45.0   \n",
       "3211     1489         12          0.0       0.0     35.0         43.0   \n",
       "3212     1240          2          0.0       0.0      0.0          3.0   \n",
       "3213     1476          4          0.0       0.0      0.0          1.0   \n",
       "\n",
       "       mb_cnt tariff  gb_cnt  total_net_worth  \n",
       "0      2256.0  ultra    2.20             1971  \n",
       "1     23257.0  ultra   22.71             2009  \n",
       "2     14016.0  ultra   13.69             2024  \n",
       "3     14070.0  ultra   13.74             2030  \n",
       "4     14581.0  ultra   14.24             2006  \n",
       "...       ...    ...     ...              ...  \n",
       "3209  19588.0  smart   19.13             1604  \n",
       "3210  17516.0  smart   17.11             1201  \n",
       "3211  17341.0  smart   16.93             1046  \n",
       "3212    961.0  ultra    0.94             1950  \n",
       "3213    531.0  ultra    0.52             1950  \n",
       "\n",
       "[3214 rows x 10 columns]"
      ]
     },
     "execution_count": 30,
     "metadata": {},
     "output_type": "execute_result"
    }
   ],
   "source": [
    "def total_net_worth(row):\n",
    "    \"\"\"\n",
    "    Функция расчитывает итоговую прибыль для каждого месяца с учетом превышения тарифа (если таковой имеется). \n",
    "    \n",
    "    row: строка датасета total_pivot\n",
    "    tariff: тариф рассматриваемого пользователя\n",
    "    total_net_worth: итоговая общая прибыль\n",
    "    minutes_over_limit: превышение лимита по минутам\n",
    "    mb_over_limit: превышение лимита по интернет-трафику\n",
    "    msg_over_limit: превышение лимита по СМС-сообщениям\n",
    "    tariffs: таблица с данными о тарифах\n",
    "    \n",
    "    return: итоговое значение выручки для данного месяца\n",
    "    \"\"\"\n",
    "    #тариф пользователя\n",
    "    tariff = row['tariff']\n",
    "    #начальное значение выручки, равное абонентской плате за пользование тарифом\n",
    "    total_net_worth = tariffs[tariffs['tariff_name'] == tariff]['rub_monthly_fee']\n",
    "    \n",
    "    #превышения лимитов\n",
    "    minutes_over_limit = row['minutes_cnt'] - tariffs[tariffs['tariff_name'] == tariff]['minutes_included']\n",
    "    mb_over_limit = row['mb_cnt'] - tariffs[tariffs['tariff_name'] == tariff]['mb_per_month_included']\n",
    "    msg_over_limit = row['msg_cnt'] - tariffs[tariffs['tariff_name'] == tariff]['rub_per_message']\n",
    "    \n",
    "    #расчет общей выручки с учетом превышения лимитов, если таковые имеются\n",
    "    if int(minutes_over_limit) > 0:\n",
    "        total_net_worth += minutes_over_limit * tariffs[tariffs['tariff_name'] == tariff]['rub_per_minute']\n",
    "    \n",
    "    if int(mb_over_limit) > 0:\n",
    "        total_net_worth += np.ceil(mb_over_limit / 1024) * tariffs[tariffs['tariff_name'] == tariff]['rub_per_gb']\n",
    "    \n",
    "    if int(msg_over_limit) > 0:\n",
    "        total_net_worth += msg_over_limit * tariffs[tariffs['tariff_name'] == tariff]['rub_per_message']\n",
    "    \n",
    "    return int(total_net_worth)\n",
    "\n",
    "\n",
    "total_pivot['total_net_worth'] = total_pivot.apply(total_net_worth, axis=1)\n",
    "total_pivot"
   ]
  },
  {
   "cell_type": "code",
   "execution_count": 31,
   "metadata": {},
   "outputs": [
    {
     "name": "stdout",
     "output_type": "stream",
     "text": [
      "Количество пропусков в итоговом датасете:\n",
      "user_id            0\n",
      "month_num          0\n",
      "minutes_cnt        0\n",
      "call_cnt           0\n",
      "msg_cnt            0\n",
      "session_cnt        0\n",
      "mb_cnt             0\n",
      "tariff             0\n",
      "gb_cnt             0\n",
      "total_net_worth    0\n",
      "dtype: int64\n"
     ]
    }
   ],
   "source": [
    "print('Количество пропусков в итоговом датасете:', total_pivot.isna().sum(), sep='\\n')"
   ]
  },
  {
   "cell_type": "markdown",
   "metadata": {},
   "source": [
    "### Промежуточный вывод. \n",
    "После проведения группировки, слияния и расчетов была получена таблица `pivot_table`, содержащая следующие колонки: \n",
    "* `user_id` - ID пользователя\n",
    "* `month_num` - номер месяца, для которого предоставлены данные\n",
    "* `minutes_cnt` - количество минут\n",
    "* `call_cnt` - количество совершенных звонков\n",
    "* `msg_cnt` - количество отправленных сообщений\n",
    "* `session_cnt` - количество заходов в интернет\n",
    "* `mb_cnt` - объем израсходованного трафика\n",
    "* `tariff` - название тарифа\n",
    "* `gb_cnt` - объем израсходованного трафика в гигабайтах\n",
    "* `total_net_worth` - итоговое значение выручки для текушего месяца\n",
    "  \n",
    "Помимо этого было установлено, что в выборке присутствуют 2 пользователя, не пользовавшиеся услугами связи. "
   ]
  },
  {
   "cell_type": "markdown",
   "metadata": {},
   "source": [
    "## Расчет статистик выборки. "
   ]
  },
  {
   "cell_type": "code",
   "execution_count": 46,
   "metadata": {},
   "outputs": [
    {
     "data": {
      "text/html": [
       "<div>\n",
       "<style scoped>\n",
       "    .dataframe tbody tr th:only-of-type {\n",
       "        vertical-align: middle;\n",
       "    }\n",
       "\n",
       "    .dataframe tbody tr th {\n",
       "        vertical-align: top;\n",
       "    }\n",
       "\n",
       "    .dataframe thead th {\n",
       "        text-align: right;\n",
       "    }\n",
       "</style>\n",
       "<table border=\"1\" class=\"dataframe\">\n",
       "  <thead>\n",
       "    <tr style=\"text-align: right;\">\n",
       "      <th></th>\n",
       "      <th>user_id</th>\n",
       "      <th>month_num</th>\n",
       "      <th>minutes_cnt</th>\n",
       "      <th>call_cnt</th>\n",
       "      <th>msg_cnt</th>\n",
       "      <th>session_cnt</th>\n",
       "      <th>mb_cnt</th>\n",
       "      <th>tariff</th>\n",
       "      <th>gb_cnt</th>\n",
       "      <th>total_net_worth</th>\n",
       "    </tr>\n",
       "  </thead>\n",
       "  <tbody>\n",
       "    <tr>\n",
       "      <th>0</th>\n",
       "      <td>1000</td>\n",
       "      <td>5</td>\n",
       "      <td>159.0</td>\n",
       "      <td>17.0</td>\n",
       "      <td>22.0</td>\n",
       "      <td>4.0</td>\n",
       "      <td>2256.0</td>\n",
       "      <td>ultra</td>\n",
       "      <td>2.20</td>\n",
       "      <td>1971</td>\n",
       "    </tr>\n",
       "    <tr>\n",
       "      <th>1</th>\n",
       "      <td>1000</td>\n",
       "      <td>6</td>\n",
       "      <td>172.0</td>\n",
       "      <td>28.0</td>\n",
       "      <td>60.0</td>\n",
       "      <td>44.0</td>\n",
       "      <td>23257.0</td>\n",
       "      <td>ultra</td>\n",
       "      <td>22.71</td>\n",
       "      <td>2009</td>\n",
       "    </tr>\n",
       "    <tr>\n",
       "      <th>2</th>\n",
       "      <td>1000</td>\n",
       "      <td>7</td>\n",
       "      <td>340.0</td>\n",
       "      <td>41.0</td>\n",
       "      <td>75.0</td>\n",
       "      <td>28.0</td>\n",
       "      <td>14016.0</td>\n",
       "      <td>ultra</td>\n",
       "      <td>13.69</td>\n",
       "      <td>2024</td>\n",
       "    </tr>\n",
       "    <tr>\n",
       "      <th>3</th>\n",
       "      <td>1000</td>\n",
       "      <td>8</td>\n",
       "      <td>408.0</td>\n",
       "      <td>42.0</td>\n",
       "      <td>81.0</td>\n",
       "      <td>27.0</td>\n",
       "      <td>14070.0</td>\n",
       "      <td>ultra</td>\n",
       "      <td>13.74</td>\n",
       "      <td>2030</td>\n",
       "    </tr>\n",
       "    <tr>\n",
       "      <th>4</th>\n",
       "      <td>1000</td>\n",
       "      <td>9</td>\n",
       "      <td>466.0</td>\n",
       "      <td>46.0</td>\n",
       "      <td>57.0</td>\n",
       "      <td>25.0</td>\n",
       "      <td>14581.0</td>\n",
       "      <td>ultra</td>\n",
       "      <td>14.24</td>\n",
       "      <td>2006</td>\n",
       "    </tr>\n",
       "    <tr>\n",
       "      <th>...</th>\n",
       "      <td>...</td>\n",
       "      <td>...</td>\n",
       "      <td>...</td>\n",
       "      <td>...</td>\n",
       "      <td>...</td>\n",
       "      <td>...</td>\n",
       "      <td>...</td>\n",
       "      <td>...</td>\n",
       "      <td>...</td>\n",
       "      <td>...</td>\n",
       "    </tr>\n",
       "    <tr>\n",
       "      <th>3209</th>\n",
       "      <td>1489</td>\n",
       "      <td>10</td>\n",
       "      <td>0.0</td>\n",
       "      <td>0.0</td>\n",
       "      <td>21.0</td>\n",
       "      <td>52.0</td>\n",
       "      <td>19588.0</td>\n",
       "      <td>smart</td>\n",
       "      <td>19.13</td>\n",
       "      <td>1604</td>\n",
       "    </tr>\n",
       "    <tr>\n",
       "      <th>3210</th>\n",
       "      <td>1489</td>\n",
       "      <td>11</td>\n",
       "      <td>0.0</td>\n",
       "      <td>0.0</td>\n",
       "      <td>20.0</td>\n",
       "      <td>45.0</td>\n",
       "      <td>17516.0</td>\n",
       "      <td>smart</td>\n",
       "      <td>17.11</td>\n",
       "      <td>1201</td>\n",
       "    </tr>\n",
       "    <tr>\n",
       "      <th>3211</th>\n",
       "      <td>1489</td>\n",
       "      <td>12</td>\n",
       "      <td>0.0</td>\n",
       "      <td>0.0</td>\n",
       "      <td>35.0</td>\n",
       "      <td>43.0</td>\n",
       "      <td>17341.0</td>\n",
       "      <td>smart</td>\n",
       "      <td>16.93</td>\n",
       "      <td>1046</td>\n",
       "    </tr>\n",
       "    <tr>\n",
       "      <th>3212</th>\n",
       "      <td>1240</td>\n",
       "      <td>2</td>\n",
       "      <td>0.0</td>\n",
       "      <td>0.0</td>\n",
       "      <td>0.0</td>\n",
       "      <td>3.0</td>\n",
       "      <td>961.0</td>\n",
       "      <td>ultra</td>\n",
       "      <td>0.94</td>\n",
       "      <td>1950</td>\n",
       "    </tr>\n",
       "    <tr>\n",
       "      <th>3213</th>\n",
       "      <td>1476</td>\n",
       "      <td>4</td>\n",
       "      <td>0.0</td>\n",
       "      <td>0.0</td>\n",
       "      <td>0.0</td>\n",
       "      <td>1.0</td>\n",
       "      <td>531.0</td>\n",
       "      <td>ultra</td>\n",
       "      <td>0.52</td>\n",
       "      <td>1950</td>\n",
       "    </tr>\n",
       "  </tbody>\n",
       "</table>\n",
       "<p>3214 rows × 10 columns</p>\n",
       "</div>"
      ],
      "text/plain": [
       "      user_id  month_num  minutes_cnt  call_cnt  msg_cnt  session_cnt  \\\n",
       "0        1000          5        159.0      17.0     22.0          4.0   \n",
       "1        1000          6        172.0      28.0     60.0         44.0   \n",
       "2        1000          7        340.0      41.0     75.0         28.0   \n",
       "3        1000          8        408.0      42.0     81.0         27.0   \n",
       "4        1000          9        466.0      46.0     57.0         25.0   \n",
       "...       ...        ...          ...       ...      ...          ...   \n",
       "3209     1489         10          0.0       0.0     21.0         52.0   \n",
       "3210     1489         11          0.0       0.0     20.0         45.0   \n",
       "3211     1489         12          0.0       0.0     35.0         43.0   \n",
       "3212     1240          2          0.0       0.0      0.0          3.0   \n",
       "3213     1476          4          0.0       0.0      0.0          1.0   \n",
       "\n",
       "       mb_cnt tariff  gb_cnt  total_net_worth  \n",
       "0      2256.0  ultra    2.20             1971  \n",
       "1     23257.0  ultra   22.71             2009  \n",
       "2     14016.0  ultra   13.69             2024  \n",
       "3     14070.0  ultra   13.74             2030  \n",
       "4     14581.0  ultra   14.24             2006  \n",
       "...       ...    ...     ...              ...  \n",
       "3209  19588.0  smart   19.13             1604  \n",
       "3210  17516.0  smart   17.11             1201  \n",
       "3211  17341.0  smart   16.93             1046  \n",
       "3212    961.0  ultra    0.94             1950  \n",
       "3213    531.0  ultra    0.52             1950  \n",
       "\n",
       "[3214 rows x 10 columns]"
      ]
     },
     "execution_count": 46,
     "metadata": {},
     "output_type": "execute_result"
    }
   ],
   "source": [
    "total_pivot"
   ]
  },
  {
   "cell_type": "code",
   "execution_count": 47,
   "metadata": {
    "scrolled": false
   },
   "outputs": [
    {
     "name": "stdout",
     "output_type": "stream",
     "text": [
      "Таблица средних значений: \n"
     ]
    },
    {
     "data": {
      "text/html": [
       "<div>\n",
       "<style scoped>\n",
       "    .dataframe tbody tr th:only-of-type {\n",
       "        vertical-align: middle;\n",
       "    }\n",
       "\n",
       "    .dataframe tbody tr th {\n",
       "        vertical-align: top;\n",
       "    }\n",
       "\n",
       "    .dataframe thead th {\n",
       "        text-align: right;\n",
       "    }\n",
       "</style>\n",
       "<table border=\"1\" class=\"dataframe\">\n",
       "  <thead>\n",
       "    <tr style=\"text-align: right;\">\n",
       "      <th></th>\n",
       "      <th>tariff</th>\n",
       "      <th>gb_cnt_mean</th>\n",
       "      <th>mb_cnt_mean</th>\n",
       "      <th>minutes_cnt_mean</th>\n",
       "      <th>msg_cnt_mean</th>\n",
       "      <th>total_net_worth_mean</th>\n",
       "    </tr>\n",
       "  </thead>\n",
       "  <tbody>\n",
       "    <tr>\n",
       "      <th>0</th>\n",
       "      <td>smart</td>\n",
       "      <td>15.848865</td>\n",
       "      <td>16229.188425</td>\n",
       "      <td>417.9</td>\n",
       "      <td>33.4</td>\n",
       "      <td>1369.744280</td>\n",
       "    </tr>\n",
       "    <tr>\n",
       "      <th>1</th>\n",
       "      <td>ultra</td>\n",
       "      <td>19.030041</td>\n",
       "      <td>19486.901523</td>\n",
       "      <td>526.6</td>\n",
       "      <td>49.4</td>\n",
       "      <td>2119.622335</td>\n",
       "    </tr>\n",
       "  </tbody>\n",
       "</table>\n",
       "</div>"
      ],
      "text/plain": [
       "  tariff  gb_cnt_mean   mb_cnt_mean  minutes_cnt_mean  msg_cnt_mean  \\\n",
       "0  smart    15.848865  16229.188425             417.9          33.4   \n",
       "1  ultra    19.030041  19486.901523             526.6          49.4   \n",
       "\n",
       "   total_net_worth_mean  \n",
       "0           1369.744280  \n",
       "1           2119.622335  "
      ]
     },
     "execution_count": 47,
     "metadata": {},
     "output_type": "execute_result"
    }
   ],
   "source": [
    "mean_values = (total_pivot.pivot_table(index='tariff', values=['minutes_cnt', 'mb_cnt', 'msg_cnt', \n",
    "                                                               'total_net_worth', 'gb_cnt'])\n",
    "                         .reset_index()\n",
    "                         .rename(columns={'minutes_cnt': 'minutes_cnt_mean',\n",
    "                                          'mb_cnt': 'mb_cnt_mean',\n",
    "                                          'gb_cnt': 'gb_cnt_mean',\n",
    "                                          'msg_cnt': 'msg_cnt_mean', \n",
    "                                          'total_net_worth': 'total_net_worth_mean'}))\n",
    "mean_values['minutes_cnt_mean'] = round(mean_values['minutes_cnt_mean'], 1)\n",
    "mean_values['msg_cnt_mean'] = round(mean_values['msg_cnt_mean'], 1)\n",
    "print('Таблица средних значений: ')\n",
    "mean_values"
   ]
  },
  {
   "cell_type": "markdown",
   "metadata": {},
   "source": [
    "Согласно полученным средним значениям, __абоненты тарифа \"Ультра\" в среднем используют услуги связи более активно__: они обходят абонентов \"Смарта\" по использованию всех источников трафика.  \n",
    "Помимо этого, __абонент тарифа \"Ультра\" в среднем приносит компании больше прибыли__.  \n",
    "  \n",
    "Однако, __абоненты тарифа \"Смарт\" в среднем переплачивают за исчерпание лимита больше, чем составляет их абонентская плата__ (642 рубля переплат в дополнение к 500 рублям абонентской платы). "
   ]
  },
  {
   "cell_type": "code",
   "execution_count": 48,
   "metadata": {
    "scrolled": false
   },
   "outputs": [
    {
     "name": "stdout",
     "output_type": "stream",
     "text": [
      "Таблица дисперсий и стандартных отклонений:\n"
     ]
    },
    {
     "data": {
      "text/html": [
       "<div>\n",
       "<style scoped>\n",
       "    .dataframe tbody tr th:only-of-type {\n",
       "        vertical-align: middle;\n",
       "    }\n",
       "\n",
       "    .dataframe tbody tr th {\n",
       "        vertical-align: top;\n",
       "    }\n",
       "\n",
       "    .dataframe thead tr th {\n",
       "        text-align: left;\n",
       "    }\n",
       "</style>\n",
       "<table border=\"1\" class=\"dataframe\">\n",
       "  <thead>\n",
       "    <tr>\n",
       "      <th></th>\n",
       "      <th>tariff</th>\n",
       "      <th colspan=\"2\" halign=\"left\">minutes_cnt</th>\n",
       "      <th colspan=\"2\" halign=\"left\">gb_cnt</th>\n",
       "      <th colspan=\"2\" halign=\"left\">msg_cnt</th>\n",
       "    </tr>\n",
       "    <tr>\n",
       "      <th></th>\n",
       "      <th></th>\n",
       "      <th>var</th>\n",
       "      <th>std</th>\n",
       "      <th>var</th>\n",
       "      <th>std</th>\n",
       "      <th>var</th>\n",
       "      <th>std</th>\n",
       "    </tr>\n",
       "  </thead>\n",
       "  <tbody>\n",
       "    <tr>\n",
       "      <th>0</th>\n",
       "      <td>smart</td>\n",
       "      <td>36219.315784</td>\n",
       "      <td>190.313730</td>\n",
       "      <td>32.945063</td>\n",
       "      <td>5.739779</td>\n",
       "      <td>796.812958</td>\n",
       "      <td>28.227876</td>\n",
       "    </tr>\n",
       "    <tr>\n",
       "      <th>1</th>\n",
       "      <td>ultra</td>\n",
       "      <td>100873.633397</td>\n",
       "      <td>317.606098</td>\n",
       "      <td>97.211828</td>\n",
       "      <td>9.859606</td>\n",
       "      <td>2285.266143</td>\n",
       "      <td>47.804457</td>\n",
       "    </tr>\n",
       "  </tbody>\n",
       "</table>\n",
       "</div>"
      ],
      "text/plain": [
       "  tariff    minutes_cnt                 gb_cnt                msg_cnt  \\\n",
       "                    var         std        var       std          var   \n",
       "0  smart   36219.315784  190.313730  32.945063  5.739779   796.812958   \n",
       "1  ultra  100873.633397  317.606098  97.211828  9.859606  2285.266143   \n",
       "\n",
       "              \n",
       "         std  \n",
       "0  28.227876  \n",
       "1  47.804457  "
      ]
     },
     "execution_count": 48,
     "metadata": {},
     "output_type": "execute_result"
    }
   ],
   "source": [
    "tp_gb = (total_pivot.groupby(by='tariff')[['minutes_cnt', 'gb_cnt', 'msg_cnt']]\n",
    "                    .agg([np.var, np.std,])\n",
    "                    .reset_index())\n",
    "print('Таблица дисперсий и стандартных отклонений:')\n",
    "tp_gb"
   ]
  },
  {
   "cell_type": "markdown",
   "metadata": {},
   "source": [
    "Согласно полученным значениям стандартных отклонений, распределения показателей шире у абонентов тарифа \"Ультра\". Иными словами, характеристики абонентов \"Ультры\" варьируются в более широком диапазоне относительно тех же характеристик абонентов тарифа \"Смарт\". "
   ]
  },
  {
   "cell_type": "markdown",
   "metadata": {},
   "source": [
    "## Построение и анализ распределений.  \n",
    "Анализ распределения месячного использования минут, сообщений, интернет-трафика и месячной выручки для пользователей обоих тарифов.  \n",
    "Распределение будет представлено частотной гистограммой и плотностным распределением. "
   ]
  },
  {
   "cell_type": "markdown",
   "metadata": {},
   "source": [
    "### Выручка. "
   ]
  },
  {
   "cell_type": "code",
   "execution_count": 49,
   "metadata": {},
   "outputs": [
    {
     "data": {
      "image/png": "[encoded data removed]",
      "text/plain": [
       "<Figure size 1080x432 with 1 Axes>"
      ]
     },
     "metadata": {
      "needs_background": "light"
     },
     "output_type": "display_data"
    },
    {
     "data": {
      "image/png": "[encoded data removed]",
      "text/plain": [
       "<Figure size 1080x576 with 1 Axes>"
      ]
     },
     "metadata": {
      "needs_background": "light"
     },
     "output_type": "display_data"
    }
   ],
   "source": [
    "plt.figure(figsize=(15, 6))\n",
    "plt.grid()\n",
    "plt.title('Выручка от абонентов тарифа \"Смарт\"')\n",
    "plt.ylabel('Частота')\n",
    "plt.xlabel('Выручка')\n",
    "plt.xlim(total_pivot.query('tariff == \"smart\"')['total_net_worth'].min(), total_pivot.query('tariff == \"ultra\"')['total_net_worth'].max())\n",
    "try: \n",
    "    sns.histplot(data=total_pivot.query('tariff == \"smart\"'), x='total_net_worth', kde=True, bins=25, color='blue')\n",
    "except:\n",
    "    total_pivot.query('tariff == \"smart\"')['total_net_worth'].plot(kind='hist', bins=25, grid=True)\n",
    "plt.show()\n",
    "\n",
    "plt.figure(figsize=(15, 8))\n",
    "plt.grid()\n",
    "plt.title('Выручка от абонентов тарифа \"Ультра\"')\n",
    "plt.ylabel('Частота')\n",
    "plt.xlabel('Выручка')\n",
    "plt.xlim(total_pivot.query('tariff == \"smart\"')['total_net_worth'].min(), total_pivot.query('tariff == \"ultra\"')['total_net_worth'].max())\n",
    "try: \n",
    "    sns.histplot(data=total_pivot.query('tariff == \"ultra\"'), x='total_net_worth', kde=True, bins=50, color='red')\n",
    "except:\n",
    "    total_pivot.query('tariff == \"ultra\"')['total_net_worth'].plot(kind='hist', bins=50, grid=True)\n",
    "plt.show()"
   ]
  },
  {
   "cell_type": "markdown",
   "metadata": {},
   "source": [
    "* Распределение по форме совпадает с нормальным.  \n",
    "* На графиках распределения показаны на одинаковом интервале от минимальной выручки для тарифа \"Смарт\" до максимальной выручки для тарифа \"Ультра\".  \n",
    "* Налицо смещение большинства значений для тарифа смарт влево\n",
    "* В выборке присутствуют большое количество абонентов тарифа \"Смарт\" (15% случаев), приносящие больше выручки, чем большинство абонентов \"Ультры\". "
   ]
  },
  {
   "cell_type": "markdown",
   "metadata": {},
   "source": [
    "### Количество отправленных сообщений"
   ]
  },
  {
   "cell_type": "code",
   "execution_count": 50,
   "metadata": {},
   "outputs": [
    {
     "data": {
      "image/png": "[encoded data removed]",
      "text/plain": [
       "<Figure size 1080x432 with 1 Axes>"
      ]
     },
     "metadata": {
      "needs_background": "light"
     },
     "output_type": "display_data"
    },
    {
     "data": {
      "image/png": "[encoded data removed]",
      "text/plain": [
       "<Figure size 1080x432 with 1 Axes>"
      ]
     },
     "metadata": {
      "needs_background": "light"
     },
     "output_type": "display_data"
    }
   ],
   "source": [
    "plt.figure(figsize=(15, 6))\n",
    "plt.title('Количество отправленных сообщений для тарифа \"Smart\"')\n",
    "plt.grid()\n",
    "plt.xlim(0, total_pivot.query('tariff == \"ultra\"')['msg_cnt'].max())\n",
    "plt.xlabel('Количество отправленных сообщений')\n",
    "plt.ylabel('Частота')\n",
    "try: \n",
    "    sns.histplot(data=total_pivot.query('tariff == \"smart\"'), x=\"msg_cnt\", kde=True, bins=25, color='blue')\n",
    "except:\n",
    "    total_pivot.query('tariff == \"smart\"')['msg_cnt'].plot(kind='hist', bins=25, grid=True)\n",
    "plt.show()\n",
    "\n",
    "plt.figure(figsize=(15, 6))\n",
    "plt.title('Количество отправленных сообщений для тарифа \"Ultra\"')\n",
    "plt.grid()\n",
    "plt.xlim(0, total_pivot.query('tariff == \"ultra\"')['msg_cnt'].max())\n",
    "plt.xlabel('Количество отправленных сообщений')\n",
    "plt.ylabel('Частота')\n",
    "try:\n",
    "    sns.histplot(data=total_pivot.query('tariff == \"ultra\"'), x=\"msg_cnt\", kde=True, bins=25, color='red')\n",
    "except:\n",
    "    total_pivot.query('tariff == \"ultra\"')['msg_cnt'].plot(kind='hist', bins=25, grid=True)\n",
    "plt.show()"
   ]
  },
  {
   "cell_type": "markdown",
   "metadata": {},
   "source": [
    "* В обоих случаях наблюдается максимум частоты у нуля, после чего частота монотонно понижается, формируя длинный \"хвост\" распределения.  \n",
    "* Вероятнее всего, это связано с крайне низкой востребованностью СМС-сообщений в сравнении с мессенджерами и социальными сетями.  \n",
    "* Налицо смещенность распределения для тарифа \"Смарт\" в левую сторону относительно распределения для \"Ультры\". "
   ]
  },
  {
   "cell_type": "markdown",
   "metadata": {},
   "source": [
    "### Количество минут."
   ]
  },
  {
   "cell_type": "code",
   "execution_count": 51,
   "metadata": {},
   "outputs": [
    {
     "data": {
      "image/png": "[encoded data removed]",
      "text/plain": [
       "<Figure size 1080x432 with 1 Axes>"
      ]
     },
     "metadata": {
      "needs_background": "light"
     },
     "output_type": "display_data"
    },
    {
     "data": {
      "image/png": "[encoded data removed]",
      "text/plain": [
       "<Figure size 1080x432 with 1 Axes>"
      ]
     },
     "metadata": {
      "needs_background": "light"
     },
     "output_type": "display_data"
    }
   ],
   "source": [
    "plt.figure(figsize=(15, 6))\n",
    "plt.title('Количество минут для тарифа \"Smart\"')\n",
    "plt.grid()\n",
    "plt.xlim(0, total_pivot.query('tariff == \"ultra\"')['minutes_cnt'].max())\n",
    "plt.xlabel('Количество минут')\n",
    "plt.ylabel('Частота')\n",
    "try: \n",
    "    sns.histplot(data=total_pivot.query('tariff == \"smart\"'), x=\"minutes_cnt\", kde=True, bins=25, color='blue')\n",
    "except:\n",
    "    total_pivot.query('tariff == \"smart\"')['minutes_cnt'].plot(kind='hist', bins=25, grid=True)\n",
    "plt.show()\n",
    "\n",
    "plt.figure(figsize=(15, 6))\n",
    "plt.title('Количество минут для тарифа \"Ultra\"')\n",
    "plt.grid()\n",
    "plt.xlabel('Количество минут')\n",
    "plt.ylabel('Частота')\n",
    "plt.xlim(0, total_pivot.query('tariff == \"ultra\"')['minutes_cnt'].max())\n",
    "try:\n",
    "    sns.histplot(data=total_pivot.query('tariff == \"ultra\"'), x=\"minutes_cnt\", kde=True, bins=25, color='red')\n",
    "except:\n",
    "    total_pivot.query('tariff == \"ultra\"')['minutes_cnt'].plot(kind='hist', bins=25, grid=True)\n",
    "plt.show()"
   ]
  },
  {
   "cell_type": "markdown",
   "metadata": {},
   "source": [
    "* Распределение используемых минут в обоих случаях имеет форму нормального распределения. \n",
    "* Как и утверждалось ранее, размах распределения у тарифа \"Ультра\" больше, а распределение для тарифа \"Смарт\" смещено влево. "
   ]
  },
  {
   "cell_type": "markdown",
   "metadata": {},
   "source": [
    "### Объем интернет-трафика. "
   ]
  },
  {
   "cell_type": "code",
   "execution_count": 52,
   "metadata": {
    "scrolled": false
   },
   "outputs": [
    {
     "data": {
      "image/png": "[encoded data removed]",
      "text/plain": [
       "<Figure size 1080x432 with 1 Axes>"
      ]
     },
     "metadata": {
      "needs_background": "light"
     },
     "output_type": "display_data"
    },
    {
     "data": {
      "image/png": "[encoded data removed]",
      "text/plain": [
       "<Figure size 1080x432 with 1 Axes>"
      ]
     },
     "metadata": {
      "needs_background": "light"
     },
     "output_type": "display_data"
    }
   ],
   "source": [
    "plt.figure(figsize=(15, 6))\n",
    "plt.title('Объем интернет-трафика для тарифа \"Smart\"')\n",
    "plt.grid()\n",
    "plt.xlim(0, total_pivot.query('tariff == \"ultra\"')['gb_cnt'].max())\n",
    "plt.xlabel('Объем трафика в гигабайтах')\n",
    "plt.ylabel('Частота')\n",
    "try: \n",
    "    sns.histplot(data=total_pivot.query('tariff == \"smart\"'), x=\"gb_cnt\", kde=True, bins=30, color='blue')\n",
    "except:\n",
    "    total_pivot.query('tariff == \"smart\"')['gb_cnt'].plot(kind='hist', bins=25, grid=True)\n",
    "plt.show()\n",
    "\n",
    "plt.figure(figsize=(15, 6))\n",
    "plt.title('Объем интернет-трафика для тарифа \"Ultra\"')\n",
    "plt.grid()\n",
    "plt.xlim(0, total_pivot.query('tariff == \"ultra\"')['gb_cnt'].max())\n",
    "plt.xlabel('Объем трафика в гигабайтах')\n",
    "plt.ylabel('Частота')\n",
    "try: \n",
    "    sns.histplot(data=total_pivot.query('tariff == \"ultra\"'), x=\"gb_cnt\", kde=True, bins=25, color='red')\n",
    "except:\n",
    "    total_pivot.query('tariff == \"ultra\"')['gb_cnt'].plot(kind='hist', bins=25, grid=True)\n",
    "plt.show()"
   ]
  },
  {
   "cell_type": "markdown",
   "metadata": {},
   "source": [
    "Аналогичные выводы и касательно распределений объема трафика: размах шире; данные для \"Ультры\" смещены вправо относительно данных для \"Смарта\". "
   ]
  },
  {
   "cell_type": "markdown",
   "metadata": {},
   "source": [
    "### Вероятность превышения тарифа (получение дополнительной прибыли) для каждого из компонент тарифа. "
   ]
  },
  {
   "cell_type": "markdown",
   "metadata": {},
   "source": [
    "Расчет вероятности превышения тарифного лимита для минут, сообщений и мегабайт интернет-трафика для обоих тарифов.  \n",
    "Данные значения отражают вероятность того, что пользователь принесет компании дополнительную прибыль.  \n",
    "Ключевое допущение: распределения аппроксимированы нормальным распределением. "
   ]
  },
  {
   "cell_type": "code",
   "execution_count": 53,
   "metadata": {},
   "outputs": [],
   "source": [
    "# расчет средних для тарифа \"Смарт\"\n",
    "smart_msg_mu   = total_pivot.query('tariff == \"smart\"')['msg_cnt'].mean()\n",
    "smart_calls_mu = total_pivot.query('tariff == \"smart\"')['minutes_cnt'].mean()\n",
    "smart_mb_mu    = total_pivot.query('tariff == \"smart\"')['mb_cnt'].mean()\n",
    "\n",
    "#расчет стандартных отклонений для тарифа \"Смарт\"\n",
    "smart_msg_sigma   = np.std(total_pivot.query('tariff == \"smart\"')['msg_cnt'], ddof=1)\n",
    "smart_calls_sigma = np.std(total_pivot.query('tariff == \"smart\"')['minutes_cnt'], ddof=1)\n",
    "smart_mb_sigma    = np.std(total_pivot.query('tariff == \"smart\"')['mb_cnt'], ddof=1)\n",
    "\n",
    "#аппроксимация распределений с нормальным для тарифа \"Смарт\"\n",
    "smart_msg_distr   = st.norm(smart_msg_mu, smart_msg_sigma)\n",
    "smart_calls_distr = st.norm(smart_calls_mu, smart_calls_sigma)\n",
    "smart_mb_distr    = st.norm(smart_mb_mu, smart_mb_sigma)\n",
    "\n",
    "# расчет средних для тарифа \"Ультра\"\n",
    "ultra_msg_mu   = np.std(total_pivot.query('tariff == \"ultra\"')['msg_cnt'], ddof=1)\n",
    "ultra_calls_mu = np.std(total_pivot.query('tariff == \"ultra\"')['minutes_cnt'], ddof=1)\n",
    "ultra_mb_mu    = np.std(total_pivot.query('tariff == \"ultra\"')['mb_cnt'], ddof=1)\n",
    "\n",
    "#расчет стандартных отклонений для тарифа \"Ультра\"\n",
    "ultra_msg_sigma   = np.std(total_pivot.query('tariff == \"ultra\"')['msg_cnt'], ddof=1)\n",
    "ultra_calls_sigma = np.std(total_pivot.query('tariff == \"ultra\"')['minutes_cnt'], ddof=1)\n",
    "ultra_mb_sigma    = np.std(total_pivot.query('tariff == \"ultra\"')['mb_cnt'], ddof=1)\n",
    "\n",
    "#аппроксимация распределений с нормальным для тарифа \"Ультра\"\n",
    "ultra_msg_distr   = st.norm(ultra_msg_mu, ultra_msg_sigma)\n",
    "ultra_calls_distr = st.norm(ultra_calls_mu, ultra_calls_sigma)\n",
    "ultra_mb_distr    = st.norm(ultra_mb_mu, ultra_mb_sigma)"
   ]
  },
  {
   "cell_type": "code",
   "execution_count": 54,
   "metadata": {},
   "outputs": [],
   "source": [
    "#расчет вероятностей для тарифа \"Смарт\"\n",
    "smart_msg_lim   = round(100 * (1 - smart_msg_distr.cdf(50)), 1)\n",
    "smart_calls_lim = round(100 * (1 - smart_calls_distr.cdf(500)), 1)\n",
    "smart_mb_lim    = round(100 * (1 - smart_mb_distr.cdf(15 * 1024)), 1)\n",
    "\n",
    "#расчет вероятностей для тарифа \"Ультра\"\n",
    "ultra_msg_lim   = round(100 * (1 - ultra_msg_distr.cdf(1000)), 1)\n",
    "ultra_calls_lim = round(100 * (1 - ultra_calls_distr.cdf(3000)), 1)\n",
    "ultra_mb_lim    = round(100 * (1 - ultra_mb_distr.cdf(30 * 1024)), 1)"
   ]
  },
  {
   "cell_type": "code",
   "execution_count": 55,
   "metadata": {},
   "outputs": [
    {
     "name": "stdout",
     "output_type": "stream",
     "text": [
      "Тариф \"Смарт\". Вероятности превышения тарифного лимита\n",
      "Сообщения:       27.8%\n",
      "Минуты:          33.3%\n",
      "Интернет-трафик: 55.9%\n",
      "\n",
      "Тариф \"Ультра\". Вероятности превышения тарифного лимита\n",
      "Сообщения:       0.0%\n",
      "Минуты:          0.0%\n",
      "Интернет-трафик: 2.1%\n"
     ]
    }
   ],
   "source": [
    "print('Тариф \"Смарт\". Вероятности превышения тарифного лимита')\n",
    "print(f'Сообщения:       {(smart_msg_lim)}%')\n",
    "print(f'Минуты:          {(smart_calls_lim)}%')\n",
    "print(f'Интернет-трафик: {(smart_mb_lim)}%')\n",
    "print()\n",
    "print('Тариф \"Ультра\". Вероятности превышения тарифного лимита')\n",
    "print(f'Сообщения:       {(ultra_msg_lim)}%')\n",
    "print(f'Минуты:          {(ultra_calls_lim)}%')\n",
    "print(f'Интернет-трафик: {(ultra_mb_lim)}%')"
   ]
  },
  {
   "cell_type": "markdown",
   "metadata": {},
   "source": [
    "#### Промежуточный вывод.\n",
    "Если аппроксимировать распределения пунктов тарифного плана нормальным распределением, наиболее выгодным с точки зрения переплат является тариф \"Смарт\": пользователи приносят значительную дополнительную прибыль по всем пунктам тарифа.  \n",
    "__Если тариф \"Смарт\" со стороны оператора содержать дешевле, то выгоднее вложиться в его рекламное продвижение.__"
   ]
  },
  {
   "cell_type": "markdown",
   "metadata": {},
   "source": [
    "### Промежуточный вывод. \n",
    "- Формы распределений соответствуют полученым ранее статистикам. Ключевые особенности: \n",
    "1. __Размах распределений__ больше у тарифа \"Ультра\", причем для всех показателей\n",
    "2. __Пиковые значения частоты__ у распределений для тарифа \"Смарт\" выше (иногда почти в 3 раза), что связано с тем, что в начальной выборке пользователей этого тарифа в два раза больше \n",
    "3. Для всех показателей распределения для тарифа \"Смарт\" __смещены влево__, что вызвано меньшим объемом минут, СМС и трафика, доступных за абонентскую плату. \n",
    "4. __Форма распределения__ всех показателей, кроме сообщений, __совпадает с нормальным__. У распределения сообщений форма совпадает с формой __распределения Пуассона__ \n",
    "5. Тарифы схожи тем, что в обоих случаях распределение для сообщений __резко скошено влево__, что связано с низкой востребованностью СМС-сообщений, как средства связи. В данной выборке пользователи ни одного из тарифов не превышают лимит по сообщениям. \n",
    "  \n",
    " \n",
    " \n",
    "- На основании статистики по переплатам наиболее выгоден тариф \"Смарт\" (в случае, если его содержание обходится компании дешевле). "
   ]
  },
  {
   "cell_type": "markdown",
   "metadata": {},
   "source": [
    "## Проверка гипотез. \n",
    "### Гипотеза №1. Средняя выручка пользователей тарифов «Ультра» и «Смарт» различается. "
   ]
  },
  {
   "cell_type": "markdown",
   "metadata": {},
   "source": [
    "#### Нулевая гипотеза\n",
    "_Средние выручки от абонентов тарифов \"Смарт\" и \"Ультра\" равны._  \n",
    "#### Альтернативная гипотеза\n",
    "_Средние выручки от абонетов тарифов \"Смарт\" и \"Ультра\" различны._\n",
    "  \n",
    "Важно! Ранее при анализе \"трат\" пользователей было установлено, что по всем аспектам (звонки, СМС, интернет) абоненты разных тарифов отличаются.  \n",
    "Соответственно, при проведении статистических тестов __дисперсии выборок будем считать разными__.  \n",
    "__Уровень статистической значимости примем равным 5%__. "
   ]
  },
  {
   "cell_type": "code",
   "execution_count": 56,
   "metadata": {},
   "outputs": [
    {
     "name": "stdout",
     "output_type": "stream",
     "text": [
      "Объем выборки для тарифа \"Смарт\": 2229\n",
      "Объем выборки для тарифа \"Ультра\": 985\n",
      "Соотношение объемов выборок: 2.3\n"
     ]
    }
   ],
   "source": [
    "#вычленение исследуемых выборок\n",
    "smart = total_pivot.reset_index().query('tariff == \"smart\"')['total_net_worth']\n",
    "ultra = total_pivot.reset_index().query('tariff == \"ultra\"')['total_net_worth']\n",
    "\n",
    "print('Объем выборки для тарифа \"Смарт\":', len(smart))\n",
    "print('Объем выборки для тарифа \"Ультра\":', len(ultra))\n",
    "print('Соотношение объемов выборок:', round(len(smart) / len(ultra), 1))"
   ]
  },
  {
   "cell_type": "code",
   "execution_count": 57,
   "metadata": {},
   "outputs": [
    {
     "name": "stdout",
     "output_type": "stream",
     "text": [
      "p-значение:  9.332582164180644e-229\n",
      "Нулевая гипотеза опровергнута\n"
     ]
    }
   ],
   "source": [
    "results = st.ttest_ind(smart, ultra, equal_var=False)\n",
    "\n",
    "alpha = 0.05\n",
    "\n",
    "print('p-значение: ', results.pvalue)\n",
    "\n",
    "if (results.pvalue < alpha): \n",
    "    print('Нулевая гипотеза опровергнута')\n",
    "else: \n",
    "    print('Не удалось опровергнуть нулевую гипотезу')"
   ]
  },
  {
   "cell_type": "markdown",
   "metadata": {},
   "source": [
    "#### Промежуточный вывод: \n",
    "__средняя выручка пользователей разных тарифов различна__.  \n",
    "  \n",
    "Параметры теста: \n",
    "1. Уровень статистической значимости: 5%\n",
    "2. Выборки имеют разные дисперсии\n",
    "3. Объемы выборок: \n",
    " 1. \"Смарт\": 2174\n",
    " 2. \"Ультра\": 940\n",
    " 3. Соотношение объемов: 2.3"
   ]
  },
  {
   "cell_type": "markdown",
   "metadata": {},
   "source": [
    "### Гипотеза №2. Cредняя выручка пользователей из Москвы отличается от выручки пользователей из других регионов."
   ]
  },
  {
   "cell_type": "markdown",
   "metadata": {},
   "source": [
    "#### Нулевая гипотеза\n",
    "_Средние выручки пользователей из Москвы и других регионов равны_\n",
    "\n",
    "#### Альтернативная гипотеза\n",
    "_Средние выручки пользователей из Москвы и других регионов различны_"
   ]
  },
  {
   "cell_type": "code",
   "execution_count": 58,
   "metadata": {},
   "outputs": [],
   "source": [
    "#вычленение исследуемых выборок\n",
    "moscow_users = users.query('city == \"Москва\"')['user_id']\n",
    "other_cities_users = users.query('city != \"Москва\"')['user_id']"
   ]
  },
  {
   "cell_type": "code",
   "execution_count": 59,
   "metadata": {},
   "outputs": [
    {
     "name": "stdout",
     "output_type": "stream",
     "text": [
      "Количество пользователей из Москвы: 99\n",
      "Количество пользователей из других городов: 399\n",
      "\n",
      "Объем выборки с абонентами из Москвы: 611\n",
      "Объем выборки с абонентами из других регионов: 2603\n",
      "Соотношение объемов выборок: 4.3\n"
     ]
    }
   ],
   "source": [
    "moscow_users_data = total_pivot.reset_index().query('user_id in @moscow_users')\n",
    "moscow_users_cnt = len(moscow_users_data['user_id'].unique())\n",
    "print(f'Количество пользователей из Москвы: {moscow_users_cnt}')\n",
    "\n",
    "other_cities_users_data = total_pivot.reset_index().query('user_id in @other_cities_users')\n",
    "other_cities_users_cnt = len(other_cities_users_data['user_id'].unique())\n",
    "print(f'Количество пользователей из других городов: {other_cities_users_cnt}')\n",
    "print()\n",
    "print('Объем выборки с абонентами из Москвы:', len(moscow_users_data))\n",
    "print('Объем выборки с абонентами из других регионов:', len(other_cities_users_data))\n",
    "print('Соотношение объемов выборок:', round(len(other_cities_users_data) / len(moscow_users_data), 1))"
   ]
  },
  {
   "cell_type": "markdown",
   "metadata": {},
   "source": [
    "Очевидно, на этапе очистки итоговой таблицы от выбросов (см. пункт 1.5) все 5 удаленных пользователей проживают в регионах. "
   ]
  },
  {
   "cell_type": "code",
   "execution_count": 60,
   "metadata": {},
   "outputs": [
    {
     "name": "stdout",
     "output_type": "stream",
     "text": [
      "p-значение: 0.6780982478156512\n",
      "Не удалось опровергнуть нулевую гипотезу\n"
     ]
    }
   ],
   "source": [
    "results = st.ttest_ind(moscow_users_data['total_net_worth'], other_cities_users_data['total_net_worth'])\n",
    "\n",
    "print('p-значение:', results.pvalue)\n",
    "\n",
    "if (results.pvalue < alpha):\n",
    "    print('Нулевая гипотеза опровергнута')\n",
    "else:\n",
    "    print('Не удалось опровергнуть нулевую гипотезу')"
   ]
  },
  {
   "cell_type": "markdown",
   "metadata": {},
   "source": [
    "#### Промежуточный вывод. \n",
    "Согласно проведенному t-тесту, __средние выручки от абонентов из Москвы и абонентов из других регионов равны.__\n",
    "  \n",
    "  \n",
    "Параметры теста: \n",
    "1. Уровень статистической значимости: 5%\n",
    "2. Выборки приняты равными по дисперсии\n",
    "3. Объемы выборок: \n",
    " 1. Данные по абонентам из Москвы: 602\n",
    " 2. Данные по абонентам из других регионов: 2512\n",
    " 3. Соотношения объемов выборок: 4.2"
   ]
  },
  {
   "cell_type": "markdown",
   "metadata": {},
   "source": [
    "### Промежуточный вывод.\n",
    "Результаты статистического тестирования: \n",
    "1. __Средняя выручка__ от абонентов тарифа \"Смарт\" __отличается__ от средней выручки от абонентов тарифа \"Ультра\"\n",
    "2. __Средняя выручка__ от абонентов из Москвы __равна__ средней выручке от абонентов из других регионов"
   ]
  },
  {
   "cell_type": "markdown",
   "metadata": {},
   "source": [
    "## Общий вывод"
   ]
  },
  {
   "cell_type": "markdown",
   "metadata": {},
   "source": [
    "В ходе выполнения проекта: \n",
    "1. __Данные исследованы__ отдельно в рамках исходных таблиц\n",
    "2. Была проведена __замена типов данных__\n",
    "3. В таблицы были __добавлены новые колонки__ с преобразованными величинами\n",
    "4. __Нулевые значеня__ были удалены\n",
    "5. Были __проведены расчеты__ значений суммарной выручки и выручки от отдельных компонентов тарифа\n",
    "6. Данные были __собраны в общую__ сводную __таблицу__\n",
    "7. Общая сводная таблица была __очищена от выбросов__\n",
    "8. Для очищенной сводной таблицы были проведены __расчеты статистик, построены__ частотные и плотностные __распределения__\n",
    "9. На основании очищенных данных были __расчитаны вероятности__ того что пользователь принесет дополнительную прибыль за счет превышения тарифа\n",
    "10. Были __проверены статистические гипотезы__, связанные с прибыльностью абонентов и тарифов."
   ]
  },
  {
   "cell_type": "markdown",
   "metadata": {},
   "source": [
    "__При корректировке рекламного бюджета необходимо учесть следующее:__ \n",
    "1. Абоненты тарифа \"Смарт\" переплачивают значительно чаще, чем абоненты тарифа \"Ультра\"\n",
    " - _за сообщения_: 26.3% случаев (против 0% для \"Ультры)\n",
    " - _за минуты_   : 31.8% случаев (против 0% для \"Ультры)\n",
    " - _за интернет_ : 56.7% случаев (против 2.1% для \"Ультры)\n",
    "2. Средняя выручка от абонентов тарифа \"Смарт\" не равна средней выручке от абонентов тарифа \"Ультра\"\n",
    "3. Средняя выручка от абонентов из Москвы не отличается от средней выручки от абонентов из регионов"
   ]
  }
 ],
 "metadata": {
  "kernelspec": {
   "display_name": "Python 3",
   "language": "python",
   "name": "python3"
  },
  "language_info": {
   "codemirror_mode": {
    "name": "ipython",
    "version": 3
   },
   "file_extension": ".py",
   "mimetype": "text/x-python",
   "name": "python",
   "nbconvert_exporter": "python",
   "pygments_lexer": "ipython3",
   "version": "3.8.5"
  },
  "toc": {
   "base_numbering": 1,
   "nav_menu": {
    "height": "783px",
    "width": "413px"
   },
   "number_sections": true,
   "sideBar": true,
   "skip_h1_title": false,
   "title_cell": "Table of Contents",
   "title_sidebar": "Contents",
   "toc_cell": false,
   "toc_position": {},
   "toc_section_display": true,
   "toc_window_display": false
  }
 },
 "nbformat": 4,
 "nbformat_minor": 4
}
